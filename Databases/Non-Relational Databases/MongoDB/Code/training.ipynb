{
 "cells": [
  {
   "cell_type": "code",
   "execution_count": 29,
   "metadata": {
    "collapsed": true
   },
   "outputs": [],
   "source": [
    "from pymongo import MongoClient\n",
    "\n",
    "class Connect(object):\n",
    "    @staticmethod\n",
    "    def get_connection():\n",
    "        return MongoClient(\"mongodb://localhost:27017\")"
   ]
  },
  {
   "cell_type": "code",
   "execution_count": 30,
   "outputs": [],
   "source": [
    "client = Connect.get_connection()"
   ],
   "metadata": {
    "collapsed": false,
    "pycharm": {
     "name": "#%%\n"
    }
   }
  },
  {
   "cell_type": "code",
   "execution_count": 31,
   "outputs": [
    {
     "data": {
      "text/plain": "MongoClient(host=['localhost:27017'], document_class=dict, tz_aware=False, connect=True)"
     },
     "execution_count": 31,
     "metadata": {},
     "output_type": "execute_result"
    }
   ],
   "source": [
    "client"
   ],
   "metadata": {
    "collapsed": false,
    "pycharm": {
     "name": "#%%\n"
    }
   }
  },
  {
   "cell_type": "code",
   "execution_count": 32,
   "outputs": [
    {
     "ename": "OperationFailure",
     "evalue": "command listDatabases requires authentication, full error: {'ok': 0.0, 'errmsg': 'command listDatabases requires authentication', 'code': 13, 'codeName': 'Unauthorized'}",
     "output_type": "error",
     "traceback": [
      "\u001B[0;31m---------------------------------------------------------------------------\u001B[0m",
      "\u001B[0;31mOperationFailure\u001B[0m                          Traceback (most recent call last)",
      "Input \u001B[0;32mIn [32]\u001B[0m, in \u001B[0;36m<module>\u001B[0;34m\u001B[0m\n\u001B[0;32m----> 1\u001B[0m \u001B[43mclient\u001B[49m\u001B[38;5;241;43m.\u001B[39;49m\u001B[43mlist_database_names\u001B[49m\u001B[43m(\u001B[49m\u001B[43m)\u001B[49m\n",
      "File \u001B[0;32m~/PycharmProjects/Reviews/venv/lib/python3.9/site-packages/pymongo/mongo_client.py:1744\u001B[0m, in \u001B[0;36mMongoClient.list_database_names\u001B[0;34m(self, session)\u001B[0m\n\u001B[1;32m   1735\u001B[0m \u001B[38;5;28;01mdef\u001B[39;00m \u001B[38;5;21mlist_database_names\u001B[39m(\u001B[38;5;28mself\u001B[39m, session\u001B[38;5;241m=\u001B[39m\u001B[38;5;28;01mNone\u001B[39;00m):\n\u001B[1;32m   1736\u001B[0m     \u001B[38;5;124;03m\"\"\"Get a list of the names of all databases on the connected server.\u001B[39;00m\n\u001B[1;32m   1737\u001B[0m \n\u001B[1;32m   1738\u001B[0m \u001B[38;5;124;03m    :Parameters:\u001B[39;00m\n\u001B[0;32m   (...)\u001B[0m\n\u001B[1;32m   1742\u001B[0m \u001B[38;5;124;03m    .. versionadded:: 3.6\u001B[39;00m\n\u001B[1;32m   1743\u001B[0m \u001B[38;5;124;03m    \"\"\"\u001B[39;00m\n\u001B[0;32m-> 1744\u001B[0m     \u001B[38;5;28;01mreturn\u001B[39;00m [doc[\u001B[38;5;124m\"\u001B[39m\u001B[38;5;124mname\u001B[39m\u001B[38;5;124m\"\u001B[39m] \u001B[38;5;28;01mfor\u001B[39;00m doc \u001B[38;5;129;01min\u001B[39;00m \u001B[38;5;28;43mself\u001B[39;49m\u001B[38;5;241;43m.\u001B[39;49m\u001B[43mlist_databases\u001B[49m\u001B[43m(\u001B[49m\u001B[43msession\u001B[49m\u001B[43m,\u001B[49m\u001B[43m \u001B[49m\u001B[43mnameOnly\u001B[49m\u001B[38;5;241;43m=\u001B[39;49m\u001B[38;5;28;43;01mTrue\u001B[39;49;00m\u001B[43m)\u001B[49m]\n",
      "File \u001B[0;32m~/PycharmProjects/Reviews/venv/lib/python3.9/site-packages/pymongo/mongo_client.py:1726\u001B[0m, in \u001B[0;36mMongoClient.list_databases\u001B[0;34m(self, session, **kwargs)\u001B[0m\n\u001B[1;32m   1724\u001B[0m cmd\u001B[38;5;241m.\u001B[39mupdate(kwargs)\n\u001B[1;32m   1725\u001B[0m admin \u001B[38;5;241m=\u001B[39m \u001B[38;5;28mself\u001B[39m\u001B[38;5;241m.\u001B[39m_database_default_options(\u001B[38;5;124m\"\u001B[39m\u001B[38;5;124madmin\u001B[39m\u001B[38;5;124m\"\u001B[39m)\n\u001B[0;32m-> 1726\u001B[0m res \u001B[38;5;241m=\u001B[39m \u001B[43madmin\u001B[49m\u001B[38;5;241;43m.\u001B[39;49m\u001B[43m_retryable_read_command\u001B[49m\u001B[43m(\u001B[49m\u001B[43mcmd\u001B[49m\u001B[43m,\u001B[49m\u001B[43m \u001B[49m\u001B[43msession\u001B[49m\u001B[38;5;241;43m=\u001B[39;49m\u001B[43msession\u001B[49m\u001B[43m)\u001B[49m\n\u001B[1;32m   1727\u001B[0m \u001B[38;5;66;03m# listDatabases doesn't return a cursor (yet). Fake one.\u001B[39;00m\n\u001B[1;32m   1728\u001B[0m cursor \u001B[38;5;241m=\u001B[39m {\n\u001B[1;32m   1729\u001B[0m     \u001B[38;5;124m\"\u001B[39m\u001B[38;5;124mid\u001B[39m\u001B[38;5;124m\"\u001B[39m: \u001B[38;5;241m0\u001B[39m,\n\u001B[1;32m   1730\u001B[0m     \u001B[38;5;124m\"\u001B[39m\u001B[38;5;124mfirstBatch\u001B[39m\u001B[38;5;124m\"\u001B[39m: res[\u001B[38;5;124m\"\u001B[39m\u001B[38;5;124mdatabases\u001B[39m\u001B[38;5;124m\"\u001B[39m],\n\u001B[1;32m   1731\u001B[0m     \u001B[38;5;124m\"\u001B[39m\u001B[38;5;124mns\u001B[39m\u001B[38;5;124m\"\u001B[39m: \u001B[38;5;124m\"\u001B[39m\u001B[38;5;124madmin.$cmd\u001B[39m\u001B[38;5;124m\"\u001B[39m,\n\u001B[1;32m   1732\u001B[0m }\n",
      "File \u001B[0;32m~/PycharmProjects/Reviews/venv/lib/python3.9/site-packages/pymongo/database.py:700\u001B[0m, in \u001B[0;36mDatabase._retryable_read_command\u001B[0;34m(self, command, value, check, allowable_errors, read_preference, codec_options, session, **kwargs)\u001B[0m\n\u001B[1;32m    686\u001B[0m \u001B[38;5;28;01mdef\u001B[39;00m \u001B[38;5;21m_cmd\u001B[39m(session, server, sock_info, secondary_ok):\n\u001B[1;32m    687\u001B[0m     \u001B[38;5;28;01mreturn\u001B[39;00m \u001B[38;5;28mself\u001B[39m\u001B[38;5;241m.\u001B[39m_command(\n\u001B[1;32m    688\u001B[0m         sock_info,\n\u001B[1;32m    689\u001B[0m         command,\n\u001B[0;32m   (...)\u001B[0m\n\u001B[1;32m    697\u001B[0m         \u001B[38;5;241m*\u001B[39m\u001B[38;5;241m*\u001B[39mkwargs\n\u001B[1;32m    698\u001B[0m     )\n\u001B[0;32m--> 700\u001B[0m \u001B[38;5;28;01mreturn\u001B[39;00m \u001B[38;5;28;43mself\u001B[39;49m\u001B[38;5;241;43m.\u001B[39;49m\u001B[43m__client\u001B[49m\u001B[38;5;241;43m.\u001B[39;49m\u001B[43m_retryable_read\u001B[49m\u001B[43m(\u001B[49m\u001B[43m_cmd\u001B[49m\u001B[43m,\u001B[49m\u001B[43m \u001B[49m\u001B[43mread_preference\u001B[49m\u001B[43m,\u001B[49m\u001B[43m \u001B[49m\u001B[43msession\u001B[49m\u001B[43m)\u001B[49m\n",
      "File \u001B[0;32m~/PycharmProjects/Reviews/venv/lib/python3.9/site-packages/pymongo/mongo_client.py:1359\u001B[0m, in \u001B[0;36mMongoClient._retryable_read\u001B[0;34m(self, func, read_pref, session, address, retryable)\u001B[0m\n\u001B[1;32m   1355\u001B[0m         \u001B[38;5;28;01mif\u001B[39;00m retrying \u001B[38;5;129;01mand\u001B[39;00m \u001B[38;5;129;01mnot\u001B[39;00m retryable:\n\u001B[1;32m   1356\u001B[0m             \u001B[38;5;66;03m# A retry is not possible because this server does\u001B[39;00m\n\u001B[1;32m   1357\u001B[0m             \u001B[38;5;66;03m# not support retryable reads, raise the last error.\u001B[39;00m\n\u001B[1;32m   1358\u001B[0m             \u001B[38;5;28;01mraise\u001B[39;00m last_error\n\u001B[0;32m-> 1359\u001B[0m         \u001B[38;5;28;01mreturn\u001B[39;00m \u001B[43mfunc\u001B[49m\u001B[43m(\u001B[49m\u001B[43msession\u001B[49m\u001B[43m,\u001B[49m\u001B[43m \u001B[49m\u001B[43mserver\u001B[49m\u001B[43m,\u001B[49m\u001B[43m \u001B[49m\u001B[43msock_info\u001B[49m\u001B[43m,\u001B[49m\u001B[43m \u001B[49m\u001B[43msecondary_ok\u001B[49m\u001B[43m)\u001B[49m\n\u001B[1;32m   1360\u001B[0m \u001B[38;5;28;01mexcept\u001B[39;00m ServerSelectionTimeoutError:\n\u001B[1;32m   1361\u001B[0m     \u001B[38;5;28;01mif\u001B[39;00m retrying:\n\u001B[1;32m   1362\u001B[0m         \u001B[38;5;66;03m# The application may think the write was never attempted\u001B[39;00m\n\u001B[1;32m   1363\u001B[0m         \u001B[38;5;66;03m# if we raise ServerSelectionTimeoutError on the retry\u001B[39;00m\n\u001B[1;32m   1364\u001B[0m         \u001B[38;5;66;03m# attempt. Raise the original exception instead.\u001B[39;00m\n",
      "File \u001B[0;32m~/PycharmProjects/Reviews/venv/lib/python3.9/site-packages/pymongo/database.py:687\u001B[0m, in \u001B[0;36mDatabase._retryable_read_command.<locals>._cmd\u001B[0;34m(session, server, sock_info, secondary_ok)\u001B[0m\n\u001B[1;32m    686\u001B[0m \u001B[38;5;28;01mdef\u001B[39;00m \u001B[38;5;21m_cmd\u001B[39m(session, server, sock_info, secondary_ok):\n\u001B[0;32m--> 687\u001B[0m     \u001B[38;5;28;01mreturn\u001B[39;00m \u001B[38;5;28;43mself\u001B[39;49m\u001B[38;5;241;43m.\u001B[39;49m\u001B[43m_command\u001B[49m\u001B[43m(\u001B[49m\n\u001B[1;32m    688\u001B[0m \u001B[43m        \u001B[49m\u001B[43msock_info\u001B[49m\u001B[43m,\u001B[49m\n\u001B[1;32m    689\u001B[0m \u001B[43m        \u001B[49m\u001B[43mcommand\u001B[49m\u001B[43m,\u001B[49m\n\u001B[1;32m    690\u001B[0m \u001B[43m        \u001B[49m\u001B[43msecondary_ok\u001B[49m\u001B[43m,\u001B[49m\n\u001B[1;32m    691\u001B[0m \u001B[43m        \u001B[49m\u001B[43mvalue\u001B[49m\u001B[43m,\u001B[49m\n\u001B[1;32m    692\u001B[0m \u001B[43m        \u001B[49m\u001B[43mcheck\u001B[49m\u001B[43m,\u001B[49m\n\u001B[1;32m    693\u001B[0m \u001B[43m        \u001B[49m\u001B[43mallowable_errors\u001B[49m\u001B[43m,\u001B[49m\n\u001B[1;32m    694\u001B[0m \u001B[43m        \u001B[49m\u001B[43mread_preference\u001B[49m\u001B[43m,\u001B[49m\n\u001B[1;32m    695\u001B[0m \u001B[43m        \u001B[49m\u001B[43mcodec_options\u001B[49m\u001B[43m,\u001B[49m\n\u001B[1;32m    696\u001B[0m \u001B[43m        \u001B[49m\u001B[43msession\u001B[49m\u001B[38;5;241;43m=\u001B[39;49m\u001B[43msession\u001B[49m\u001B[43m,\u001B[49m\n\u001B[1;32m    697\u001B[0m \u001B[43m        \u001B[49m\u001B[38;5;241;43m*\u001B[39;49m\u001B[38;5;241;43m*\u001B[39;49m\u001B[43mkwargs\u001B[49m\n\u001B[1;32m    698\u001B[0m \u001B[43m    \u001B[49m\u001B[43m)\u001B[49m\n",
      "File \u001B[0;32m~/PycharmProjects/Reviews/venv/lib/python3.9/site-packages/pymongo/database.py:548\u001B[0m, in \u001B[0;36mDatabase._command\u001B[0;34m(self, sock_info, command, secondary_ok, value, check, allowable_errors, read_preference, codec_options, write_concern, parse_write_concern_error, session, **kwargs)\u001B[0m\n\u001B[1;32m    546\u001B[0m command\u001B[38;5;241m.\u001B[39mupdate(kwargs)\n\u001B[1;32m    547\u001B[0m \u001B[38;5;28;01mwith\u001B[39;00m \u001B[38;5;28mself\u001B[39m\u001B[38;5;241m.\u001B[39m__client\u001B[38;5;241m.\u001B[39m_tmp_session(session) \u001B[38;5;28;01mas\u001B[39;00m s:\n\u001B[0;32m--> 548\u001B[0m     \u001B[38;5;28;01mreturn\u001B[39;00m \u001B[43msock_info\u001B[49m\u001B[38;5;241;43m.\u001B[39;49m\u001B[43mcommand\u001B[49m\u001B[43m(\u001B[49m\n\u001B[1;32m    549\u001B[0m \u001B[43m        \u001B[49m\u001B[38;5;28;43mself\u001B[39;49m\u001B[38;5;241;43m.\u001B[39;49m\u001B[43m__name\u001B[49m\u001B[43m,\u001B[49m\n\u001B[1;32m    550\u001B[0m \u001B[43m        \u001B[49m\u001B[43mcommand\u001B[49m\u001B[43m,\u001B[49m\n\u001B[1;32m    551\u001B[0m \u001B[43m        \u001B[49m\u001B[43msecondary_ok\u001B[49m\u001B[43m,\u001B[49m\n\u001B[1;32m    552\u001B[0m \u001B[43m        \u001B[49m\u001B[43mread_preference\u001B[49m\u001B[43m,\u001B[49m\n\u001B[1;32m    553\u001B[0m \u001B[43m        \u001B[49m\u001B[43mcodec_options\u001B[49m\u001B[43m,\u001B[49m\n\u001B[1;32m    554\u001B[0m \u001B[43m        \u001B[49m\u001B[43mcheck\u001B[49m\u001B[43m,\u001B[49m\n\u001B[1;32m    555\u001B[0m \u001B[43m        \u001B[49m\u001B[43mallowable_errors\u001B[49m\u001B[43m,\u001B[49m\n\u001B[1;32m    556\u001B[0m \u001B[43m        \u001B[49m\u001B[43mwrite_concern\u001B[49m\u001B[38;5;241;43m=\u001B[39;49m\u001B[43mwrite_concern\u001B[49m\u001B[43m,\u001B[49m\n\u001B[1;32m    557\u001B[0m \u001B[43m        \u001B[49m\u001B[43mparse_write_concern_error\u001B[49m\u001B[38;5;241;43m=\u001B[39;49m\u001B[43mparse_write_concern_error\u001B[49m\u001B[43m,\u001B[49m\n\u001B[1;32m    558\u001B[0m \u001B[43m        \u001B[49m\u001B[43msession\u001B[49m\u001B[38;5;241;43m=\u001B[39;49m\u001B[43ms\u001B[49m\u001B[43m,\u001B[49m\n\u001B[1;32m    559\u001B[0m \u001B[43m        \u001B[49m\u001B[43mclient\u001B[49m\u001B[38;5;241;43m=\u001B[39;49m\u001B[38;5;28;43mself\u001B[39;49m\u001B[38;5;241;43m.\u001B[39;49m\u001B[43m__client\u001B[49m\u001B[43m,\u001B[49m\n\u001B[1;32m    560\u001B[0m \u001B[43m    \u001B[49m\u001B[43m)\u001B[49m\n",
      "File \u001B[0;32m~/PycharmProjects/Reviews/venv/lib/python3.9/site-packages/pymongo/pool.py:742\u001B[0m, in \u001B[0;36mSocketInfo.command\u001B[0;34m(self, dbname, spec, secondary_ok, read_preference, codec_options, check, allowable_errors, check_keys, read_concern, write_concern, parse_write_concern_error, collation, session, client, retryable_write, publish_events, user_fields, exhaust_allowed)\u001B[0m\n\u001B[1;32m    740\u001B[0m     \u001B[38;5;28mself\u001B[39m\u001B[38;5;241m.\u001B[39m_raise_if_not_writable(unacknowledged)\n\u001B[1;32m    741\u001B[0m \u001B[38;5;28;01mtry\u001B[39;00m:\n\u001B[0;32m--> 742\u001B[0m     \u001B[38;5;28;01mreturn\u001B[39;00m \u001B[43mcommand\u001B[49m\u001B[43m(\u001B[49m\n\u001B[1;32m    743\u001B[0m \u001B[43m        \u001B[49m\u001B[38;5;28;43mself\u001B[39;49m\u001B[43m,\u001B[49m\n\u001B[1;32m    744\u001B[0m \u001B[43m        \u001B[49m\u001B[43mdbname\u001B[49m\u001B[43m,\u001B[49m\n\u001B[1;32m    745\u001B[0m \u001B[43m        \u001B[49m\u001B[43mspec\u001B[49m\u001B[43m,\u001B[49m\n\u001B[1;32m    746\u001B[0m \u001B[43m        \u001B[49m\u001B[43msecondary_ok\u001B[49m\u001B[43m,\u001B[49m\n\u001B[1;32m    747\u001B[0m \u001B[43m        \u001B[49m\u001B[38;5;28;43mself\u001B[39;49m\u001B[38;5;241;43m.\u001B[39;49m\u001B[43mis_mongos\u001B[49m\u001B[43m,\u001B[49m\n\u001B[1;32m    748\u001B[0m \u001B[43m        \u001B[49m\u001B[43mread_preference\u001B[49m\u001B[43m,\u001B[49m\n\u001B[1;32m    749\u001B[0m \u001B[43m        \u001B[49m\u001B[43mcodec_options\u001B[49m\u001B[43m,\u001B[49m\n\u001B[1;32m    750\u001B[0m \u001B[43m        \u001B[49m\u001B[43msession\u001B[49m\u001B[43m,\u001B[49m\n\u001B[1;32m    751\u001B[0m \u001B[43m        \u001B[49m\u001B[43mclient\u001B[49m\u001B[43m,\u001B[49m\n\u001B[1;32m    752\u001B[0m \u001B[43m        \u001B[49m\u001B[43mcheck\u001B[49m\u001B[43m,\u001B[49m\n\u001B[1;32m    753\u001B[0m \u001B[43m        \u001B[49m\u001B[43mallowable_errors\u001B[49m\u001B[43m,\u001B[49m\n\u001B[1;32m    754\u001B[0m \u001B[43m        \u001B[49m\u001B[38;5;28;43mself\u001B[39;49m\u001B[38;5;241;43m.\u001B[39;49m\u001B[43maddress\u001B[49m\u001B[43m,\u001B[49m\n\u001B[1;32m    755\u001B[0m \u001B[43m        \u001B[49m\u001B[43mcheck_keys\u001B[49m\u001B[43m,\u001B[49m\n\u001B[1;32m    756\u001B[0m \u001B[43m        \u001B[49m\u001B[43mlisteners\u001B[49m\u001B[43m,\u001B[49m\n\u001B[1;32m    757\u001B[0m \u001B[43m        \u001B[49m\u001B[38;5;28;43mself\u001B[39;49m\u001B[38;5;241;43m.\u001B[39;49m\u001B[43mmax_bson_size\u001B[49m\u001B[43m,\u001B[49m\n\u001B[1;32m    758\u001B[0m \u001B[43m        \u001B[49m\u001B[43mread_concern\u001B[49m\u001B[43m,\u001B[49m\n\u001B[1;32m    759\u001B[0m \u001B[43m        \u001B[49m\u001B[43mparse_write_concern_error\u001B[49m\u001B[38;5;241;43m=\u001B[39;49m\u001B[43mparse_write_concern_error\u001B[49m\u001B[43m,\u001B[49m\n\u001B[1;32m    760\u001B[0m \u001B[43m        \u001B[49m\u001B[43mcollation\u001B[49m\u001B[38;5;241;43m=\u001B[39;49m\u001B[43mcollation\u001B[49m\u001B[43m,\u001B[49m\n\u001B[1;32m    761\u001B[0m \u001B[43m        \u001B[49m\u001B[43mcompression_ctx\u001B[49m\u001B[38;5;241;43m=\u001B[39;49m\u001B[38;5;28;43mself\u001B[39;49m\u001B[38;5;241;43m.\u001B[39;49m\u001B[43mcompression_context\u001B[49m\u001B[43m,\u001B[49m\n\u001B[1;32m    762\u001B[0m \u001B[43m        \u001B[49m\u001B[43muse_op_msg\u001B[49m\u001B[38;5;241;43m=\u001B[39;49m\u001B[38;5;28;43mself\u001B[39;49m\u001B[38;5;241;43m.\u001B[39;49m\u001B[43mop_msg_enabled\u001B[49m\u001B[43m,\u001B[49m\n\u001B[1;32m    763\u001B[0m \u001B[43m        \u001B[49m\u001B[43munacknowledged\u001B[49m\u001B[38;5;241;43m=\u001B[39;49m\u001B[43munacknowledged\u001B[49m\u001B[43m,\u001B[49m\n\u001B[1;32m    764\u001B[0m \u001B[43m        \u001B[49m\u001B[43muser_fields\u001B[49m\u001B[38;5;241;43m=\u001B[39;49m\u001B[43muser_fields\u001B[49m\u001B[43m,\u001B[49m\n\u001B[1;32m    765\u001B[0m \u001B[43m        \u001B[49m\u001B[43mexhaust_allowed\u001B[49m\u001B[38;5;241;43m=\u001B[39;49m\u001B[43mexhaust_allowed\u001B[49m\u001B[43m,\u001B[49m\n\u001B[1;32m    766\u001B[0m \u001B[43m    \u001B[49m\u001B[43m)\u001B[49m\n\u001B[1;32m    767\u001B[0m \u001B[38;5;28;01mexcept\u001B[39;00m (OperationFailure, NotPrimaryError):\n\u001B[1;32m    768\u001B[0m     \u001B[38;5;28;01mraise\u001B[39;00m\n",
      "File \u001B[0;32m~/PycharmProjects/Reviews/venv/lib/python3.9/site-packages/pymongo/network.py:174\u001B[0m, in \u001B[0;36mcommand\u001B[0;34m(sock_info, dbname, spec, secondary_ok, is_mongos, read_preference, codec_options, session, client, check, allowable_errors, address, check_keys, listeners, max_bson_size, read_concern, parse_write_concern_error, collation, compression_ctx, use_op_msg, unacknowledged, user_fields, exhaust_allowed)\u001B[0m\n\u001B[1;32m    172\u001B[0m             client\u001B[38;5;241m.\u001B[39m_process_response(response_doc, session)\n\u001B[1;32m    173\u001B[0m         \u001B[38;5;28;01mif\u001B[39;00m check:\n\u001B[0;32m--> 174\u001B[0m             \u001B[43mhelpers\u001B[49m\u001B[38;5;241;43m.\u001B[39;49m\u001B[43m_check_command_response\u001B[49m\u001B[43m(\u001B[49m\n\u001B[1;32m    175\u001B[0m \u001B[43m                \u001B[49m\u001B[43mresponse_doc\u001B[49m\u001B[43m,\u001B[49m\n\u001B[1;32m    176\u001B[0m \u001B[43m                \u001B[49m\u001B[43msock_info\u001B[49m\u001B[38;5;241;43m.\u001B[39;49m\u001B[43mmax_wire_version\u001B[49m\u001B[43m,\u001B[49m\n\u001B[1;32m    177\u001B[0m \u001B[43m                \u001B[49m\u001B[43mallowable_errors\u001B[49m\u001B[43m,\u001B[49m\n\u001B[1;32m    178\u001B[0m \u001B[43m                \u001B[49m\u001B[43mparse_write_concern_error\u001B[49m\u001B[38;5;241;43m=\u001B[39;49m\u001B[43mparse_write_concern_error\u001B[49m\u001B[43m,\u001B[49m\n\u001B[1;32m    179\u001B[0m \u001B[43m            \u001B[49m\u001B[43m)\u001B[49m\n\u001B[1;32m    180\u001B[0m \u001B[38;5;28;01mexcept\u001B[39;00m \u001B[38;5;167;01mException\u001B[39;00m \u001B[38;5;28;01mas\u001B[39;00m exc:\n\u001B[1;32m    181\u001B[0m     \u001B[38;5;28;01mif\u001B[39;00m publish:\n",
      "File \u001B[0;32m~/PycharmProjects/Reviews/venv/lib/python3.9/site-packages/pymongo/helpers.py:181\u001B[0m, in \u001B[0;36m_check_command_response\u001B[0;34m(response, max_wire_version, allowable_errors, parse_write_concern_error)\u001B[0m\n\u001B[1;32m    178\u001B[0m \u001B[38;5;28;01melif\u001B[39;00m code \u001B[38;5;241m==\u001B[39m \u001B[38;5;241m43\u001B[39m:\n\u001B[1;32m    179\u001B[0m     \u001B[38;5;28;01mraise\u001B[39;00m CursorNotFound(errmsg, code, response, max_wire_version)\n\u001B[0;32m--> 181\u001B[0m \u001B[38;5;28;01mraise\u001B[39;00m OperationFailure(errmsg, code, response, max_wire_version)\n",
      "\u001B[0;31mOperationFailure\u001B[0m: command listDatabases requires authentication, full error: {'ok': 0.0, 'errmsg': 'command listDatabases requires authentication', 'code': 13, 'codeName': 'Unauthorized'}"
     ]
    }
   ],
   "source": [
    "client.list_database_names()"
   ],
   "metadata": {
    "collapsed": false,
    "pycharm": {
     "name": "#%%\n"
    }
   }
  },
  {
   "cell_type": "code",
   "execution_count": 8,
   "outputs": [
    {
     "data": {
      "text/plain": "['startup_log']"
     },
     "execution_count": 8,
     "metadata": {},
     "output_type": "execute_result"
    }
   ],
   "source": [
    "client.local.list_collection_names()"
   ],
   "metadata": {
    "collapsed": false,
    "pycharm": {
     "name": "#%%\n"
    }
   }
  },
  {
   "cell_type": "code",
   "execution_count": 5,
   "outputs": [
    {
     "data": {
      "text/plain": "[{'_id': 'Donors-MacBook-Pro.local-1647852549881',\n  'hostname': 'Donors-MacBook-Pro.local',\n  'startTime': datetime.datetime(2022, 3, 21, 8, 49, 9),\n  'startTimeLocal': 'Mon Mar 21 09:49:09.881',\n  'cmdLine': {'config': '/usr/local/etc/mongod.conf',\n   'net': {'bindIp': '127.0.0.1, ::1', 'ipv6': True},\n   'storage': {'dbPath': '/usr/local/var/mongodb'},\n   'systemLog': {'destination': 'file',\n    'logAppend': True,\n    'path': '/usr/local/var/log/mongodb/mongo.log'}},\n  'pid': 10972,\n  'buildinfo': {'version': '5.0.6',\n   'gitVersion': '212a8dbb47f07427dae194a9c75baec1d81d9259',\n   'modules': [],\n   'allocator': 'system',\n   'javascriptEngine': 'mozjs',\n   'sysInfo': 'deprecated',\n   'versionArray': [5, 0, 6, 0],\n   'openssl': {'running': 'Apple Secure Transport'},\n   'buildEnvironment': {'distmod': '',\n    'distarch': 'x86_64',\n    'cc': '/Applications/Xcode10.2.0.app/Contents/Developer/Toolchains/XcodeDefault.xctoolchain/usr/bin/clang: Apple LLVM version 10.0.1 (clang-1001.0.46.3)',\n    'ccflags': '-Wno-error=unknown-warning-option -isysroot /Applications/Xcode10.2.0.app/Contents/Developer/Platforms/MacOSX.platform/Developer/SDKs/MacOSX10.14.sdk -mmacosx-version-min=10.14 -target darwin18.0.0 -arch x86_64 -Werror -include mongo/platform/basic.h -fasynchronous-unwind-tables -ggdb -Wall -Wsign-compare -Wno-unknown-pragmas -Winvalid-pch -fno-omit-frame-pointer -fno-strict-aliasing -O2 -Wno-unused-local-typedefs -Wno-unused-function -Wno-unused-private-field -Wno-deprecated-declarations -Wno-tautological-constant-out-of-range-compare -Wno-tautological-constant-compare -Wno-tautological-unsigned-zero-compare -Wno-tautological-unsigned-enum-zero-compare -Wno-unused-const-variable -Wno-missing-braces -Wno-inconsistent-missing-override -Wno-potentially-evaluated-expression -Wno-unused-lambda-capture -Wno-exceptions -Wunguarded-availability -fstack-protector-strong',\n    'cxx': '/Applications/Xcode10.2.0.app/Contents/Developer/Toolchains/XcodeDefault.xctoolchain/usr/bin/clang++: Apple LLVM version 10.0.1 (clang-1001.0.46.3)',\n    'cxxflags': '-Werror=unused-result -Woverloaded-virtual -Wpessimizing-move -Wno-undefined-var-template -Wno-instantiation-after-specialization -fsized-deallocation -Wunused-exception-parameter -stdlib=libc++ -std=c++17',\n    'linkflags': '-Wl,-syslibroot,/Applications/Xcode10.2.0.app/Contents/Developer/Platforms/MacOSX.platform/Developer/SDKs/MacOSX10.14.sdk -mmacosx-version-min=10.14 -target darwin18.0.0 -arch x86_64 -Wl,-fatal_warnings -Wl,-bind_at_load -fstack-protector-strong -stdlib=libc++ -Wl,-rpath,@loader_path/../lib',\n    'target_arch': 'x86_64',\n    'target_os': 'macOS',\n    'cppdefines': 'SAFEINT_USE_INTRINSICS 0 PCRE_STATIC NDEBUG BOOST_THREAD_VERSION 5 BOOST_THREAD_USES_DATETIME BOOST_SYSTEM_NO_DEPRECATED BOOST_MATH_NO_LONG_DOUBLE_MATH_FUNCTIONS BOOST_ENABLE_ASSERT_DEBUG_HANDLER BOOST_LOG_NO_SHORTHAND_NAMES BOOST_LOG_USE_NATIVE_SYSLOG BOOST_LOG_WITHOUT_THREAD_ATTR ABSL_FORCE_ALIGNED_ACCESS'},\n   'bits': 64,\n   'debug': False,\n   'maxBsonObjectSize': 16777216,\n   'macOS': {'osProductVersion': '10.16',\n    'osRelease': '21.1.0',\n    'version': 'Darwin Kernel Version 21.1.0: Wed Oct 13 17:33:23 PDT 2021; root:xnu-8019.41.5~1/RELEASE_X86_64'},\n   'storageEngines': ['devnull', 'ephemeralForTest', 'wiredTiger']}}]"
     },
     "execution_count": 5,
     "metadata": {},
     "output_type": "execute_result"
    }
   ],
   "source": [
    "startup_log = client.local.startup_log\n",
    "list(startup_log.find())"
   ],
   "metadata": {
    "collapsed": false,
    "pycharm": {
     "name": "#%%\n"
    }
   }
  },
  {
   "cell_type": "code",
   "execution_count": 6,
   "outputs": [
    {
     "data": {
      "text/plain": "[{'_id': 'Donors-MacBook-Pro.local-1647852549881',\n  'hostname': 'Donors-MacBook-Pro.local',\n  'startTime': datetime.datetime(2022, 3, 21, 8, 49, 9),\n  'startTimeLocal': 'Mon Mar 21 09:49:09.881',\n  'cmdLine': {'config': '/usr/local/etc/mongod.conf',\n   'net': {'bindIp': '127.0.0.1, ::1', 'ipv6': True},\n   'storage': {'dbPath': '/usr/local/var/mongodb'},\n   'systemLog': {'destination': 'file',\n    'logAppend': True,\n    'path': '/usr/local/var/log/mongodb/mongo.log'}},\n  'pid': 10972,\n  'buildinfo': {'version': '5.0.6',\n   'gitVersion': '212a8dbb47f07427dae194a9c75baec1d81d9259',\n   'modules': [],\n   'allocator': 'system',\n   'javascriptEngine': 'mozjs',\n   'sysInfo': 'deprecated',\n   'versionArray': [5, 0, 6, 0],\n   'openssl': {'running': 'Apple Secure Transport'},\n   'buildEnvironment': {'distmod': '',\n    'distarch': 'x86_64',\n    'cc': '/Applications/Xcode10.2.0.app/Contents/Developer/Toolchains/XcodeDefault.xctoolchain/usr/bin/clang: Apple LLVM version 10.0.1 (clang-1001.0.46.3)',\n    'ccflags': '-Wno-error=unknown-warning-option -isysroot /Applications/Xcode10.2.0.app/Contents/Developer/Platforms/MacOSX.platform/Developer/SDKs/MacOSX10.14.sdk -mmacosx-version-min=10.14 -target darwin18.0.0 -arch x86_64 -Werror -include mongo/platform/basic.h -fasynchronous-unwind-tables -ggdb -Wall -Wsign-compare -Wno-unknown-pragmas -Winvalid-pch -fno-omit-frame-pointer -fno-strict-aliasing -O2 -Wno-unused-local-typedefs -Wno-unused-function -Wno-unused-private-field -Wno-deprecated-declarations -Wno-tautological-constant-out-of-range-compare -Wno-tautological-constant-compare -Wno-tautological-unsigned-zero-compare -Wno-tautological-unsigned-enum-zero-compare -Wno-unused-const-variable -Wno-missing-braces -Wno-inconsistent-missing-override -Wno-potentially-evaluated-expression -Wno-unused-lambda-capture -Wno-exceptions -Wunguarded-availability -fstack-protector-strong',\n    'cxx': '/Applications/Xcode10.2.0.app/Contents/Developer/Toolchains/XcodeDefault.xctoolchain/usr/bin/clang++: Apple LLVM version 10.0.1 (clang-1001.0.46.3)',\n    'cxxflags': '-Werror=unused-result -Woverloaded-virtual -Wpessimizing-move -Wno-undefined-var-template -Wno-instantiation-after-specialization -fsized-deallocation -Wunused-exception-parameter -stdlib=libc++ -std=c++17',\n    'linkflags': '-Wl,-syslibroot,/Applications/Xcode10.2.0.app/Contents/Developer/Platforms/MacOSX.platform/Developer/SDKs/MacOSX10.14.sdk -mmacosx-version-min=10.14 -target darwin18.0.0 -arch x86_64 -Wl,-fatal_warnings -Wl,-bind_at_load -fstack-protector-strong -stdlib=libc++ -Wl,-rpath,@loader_path/../lib',\n    'target_arch': 'x86_64',\n    'target_os': 'macOS',\n    'cppdefines': 'SAFEINT_USE_INTRINSICS 0 PCRE_STATIC NDEBUG BOOST_THREAD_VERSION 5 BOOST_THREAD_USES_DATETIME BOOST_SYSTEM_NO_DEPRECATED BOOST_MATH_NO_LONG_DOUBLE_MATH_FUNCTIONS BOOST_ENABLE_ASSERT_DEBUG_HANDLER BOOST_LOG_NO_SHORTHAND_NAMES BOOST_LOG_USE_NATIVE_SYSLOG BOOST_LOG_WITHOUT_THREAD_ATTR ABSL_FORCE_ALIGNED_ACCESS'},\n   'bits': 64,\n   'debug': False,\n   'maxBsonObjectSize': 16777216,\n   'macOS': {'osProductVersion': '10.16',\n    'osRelease': '21.1.0',\n    'version': 'Darwin Kernel Version 21.1.0: Wed Oct 13 17:33:23 PDT 2021; root:xnu-8019.41.5~1/RELEASE_X86_64'},\n   'storageEngines': ['devnull', 'ephemeralForTest', 'wiredTiger']}}]"
     },
     "execution_count": 6,
     "metadata": {},
     "output_type": "execute_result"
    }
   ],
   "source": [
    "list(startup_log.find(filter={'pid':10972}))"
   ],
   "metadata": {
    "collapsed": false,
    "pycharm": {
     "name": "#%%\n"
    }
   }
  },
  {
   "cell_type": "code",
   "execution_count": null,
   "outputs": [],
   "source": [],
   "metadata": {
    "collapsed": false,
    "pycharm": {
     "name": "#%%\n"
    }
   }
  }
 ],
 "metadata": {
  "kernelspec": {
   "display_name": "Python 3",
   "language": "python",
   "name": "python3"
  },
  "language_info": {
   "codemirror_mode": {
    "name": "ipython",
    "version": 2
   },
   "file_extension": ".py",
   "mimetype": "text/x-python",
   "name": "python",
   "nbconvert_exporter": "python",
   "pygments_lexer": "ipython2",
   "version": "2.7.6"
  }
 },
 "nbformat": 4,
 "nbformat_minor": 0
}