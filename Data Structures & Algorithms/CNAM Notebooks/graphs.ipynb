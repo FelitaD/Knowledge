{
 "cells": [
  {
   "cell_type": "markdown",
   "metadata": {},
   "source": [
    "# Graphs\n",
    "\n",
    "<center>\n",
    "    (Download this file as\n",
    "    an <a href=\"graphs.html\"  download>HTML file</a> or\n",
    "    a  <a href=\"graphs.ipynb\" download>Jupyter notebook</a>.)\n",
    "</center>"
   ]
  },
  {
   "cell_type": "code",
   "execution_count": 1,
   "metadata": {},
   "outputs": [],
   "source": [
    "import numpy as np\n",
    "import matplotlib.pyplot as plt"
   ]
  },
  {
   "cell_type": "markdown",
   "metadata": {},
   "source": [
    "## Phase 1: Find the nodes of the graph"
   ]
  },
  {
   "cell_type": "code",
   "execution_count": 34,
   "metadata": {},
   "outputs": [],
   "source": [
    "english4 = dict() # english4 = {}\n",
    "\n",
    "with open('English.dat') as file:\n",
    "    while line := file.readline():\n",
    "        word = line.rstrip() # Removes End Of Line\n",
    "\n",
    "        if len(word) == 4:\n",
    "            # Initialise the adjacency lists as empty sets\n",
    "            english4[word] = set()"
   ]
  },
  {
   "cell_type": "code",
   "execution_count": 36,
   "metadata": {},
   "outputs": [
    {
     "data": {
      "text/plain": [
       "2599"
      ]
     },
     "execution_count": 36,
     "metadata": {},
     "output_type": "execute_result"
    }
   ],
   "source": [
    "len(english4)"
   ]
  },
  {
   "cell_type": "markdown",
   "metadata": {},
   "source": [
    "## Phase 2: Find the edges of the graph"
   ]
  },
  {
   "cell_type": "markdown",
   "metadata": {},
   "source": [
    "Algorithm 1\n",
    "\n",
    "```\n",
    "FOR every node U of the graph:\n",
    "    FOR every node V of the graph:\n",
    "        IF U != V:\n",
    "            IF U and V differ at exactly one position:\n",
    "                CREATE an edge between U and V           \n",
    "```\n",
    "\n",
    "```\n",
    "ALGORITHM COUNT_DIFF(U, V):\n",
    "    n is the number of chars of U and V\n",
    "    diff = 0\n",
    "    FOR i in 0 ... n - 1:\n",
    "        IF the i-th char of U is != i-th char of V:\n",
    "            diff = diff + 1\n",
    "            \n",
    "    RETURN diff\n",
    "```"
   ]
  },
  {
   "cell_type": "code",
   "execution_count": 20,
   "metadata": {},
   "outputs": [],
   "source": [
    "def count_diff(u, v):\n",
    "    n = len(u)\n",
    "    d = 0\n",
    "    \n",
    "    for i in range(n):\n",
    "        if u[i] != v[i]:\n",
    "            d = d + 1\n",
    "\n",
    "    return d"
   ]
  },
  {
   "cell_type": "code",
   "execution_count": 21,
   "metadata": {},
   "outputs": [
    {
     "data": {
      "text/plain": [
       "3"
      ]
     },
     "execution_count": 21,
     "metadata": {},
     "output_type": "execute_result"
    }
   ],
   "source": [
    "count_diff('abc', 'def')"
   ]
  },
  {
   "cell_type": "code",
   "execution_count": 22,
   "metadata": {},
   "outputs": [
    {
     "data": {
      "text/plain": [
       "1"
      ]
     },
     "execution_count": 22,
     "metadata": {},
     "output_type": "execute_result"
    }
   ],
   "source": [
    "count_diff('house', 'mouse')"
   ]
  },
  {
   "cell_type": "code",
   "execution_count": 23,
   "metadata": {},
   "outputs": [
    {
     "data": {
      "text/plain": [
       "0"
      ]
     },
     "execution_count": 23,
     "metadata": {},
     "output_type": "execute_result"
    }
   ],
   "source": [
    "count_diff('house', 'house')"
   ]
  },
  {
   "cell_type": "markdown",
   "metadata": {},
   "source": [
    "If there are $n$ words in the dictionary, the body will be executed $n^2$ times.\n",
    "\n",
    "$O(n^2)$\n",
    "\n",
    "$O(n^2=10^{18})$"
   ]
  },
  {
   "cell_type": "code",
   "execution_count": 37,
   "metadata": {},
   "outputs": [],
   "source": [
    "for u in english4:\n",
    "    for v in english4:\n",
    "        if u != v:\n",
    "            if count_diff(u, v) == 1:\n",
    "                english4[u].add(v)\n",
    "                english4[v].add(u)"
   ]
  },
  {
   "cell_type": "code",
   "execution_count": 25,
   "metadata": {},
   "outputs": [
    {
     "data": {
      "text/plain": [
       "{'fail': {'tail'}, 'tail': {'fail', 'tall'}, 'port': set(), 'tall': {'tail'}}"
      ]
     },
     "execution_count": 25,
     "metadata": {},
     "output_type": "execute_result"
    }
   ],
   "source": [
    "english4 # Adjacency lists"
   ]
  },
  {
   "cell_type": "code",
   "execution_count": 38,
   "metadata": {},
   "outputs": [],
   "source": [
    "degree = dict()\n",
    "\n",
    "for u in english4:\n",
    "    degree[u] = len(english4[u])"
   ]
  },
  {
   "cell_type": "code",
   "execution_count": 30,
   "metadata": {},
   "outputs": [
    {
     "data": {
      "text/plain": [
       "{'fail': 1, 'tail': 2, 'port': 0, 'tall': 1}"
      ]
     },
     "execution_count": 30,
     "metadata": {},
     "output_type": "execute_result"
    }
   ],
   "source": [
    "degree"
   ]
  },
  {
   "cell_type": "code",
   "execution_count": 32,
   "metadata": {},
   "outputs": [
    {
     "data": {
      "text/plain": [
       "dict_values([1, 2, 0, 1])"
      ]
     },
     "execution_count": 32,
     "metadata": {},
     "output_type": "execute_result"
    }
   ],
   "source": [
    "degree.values()"
   ]
  },
  {
   "cell_type": "code",
   "execution_count": 40,
   "metadata": {},
   "outputs": [
    {
     "data": {
      "text/plain": [
       "26"
      ]
     },
     "execution_count": 40,
     "metadata": {},
     "output_type": "execute_result"
    }
   ],
   "source": [
    "max(degree.values())"
   ]
  },
  {
   "cell_type": "code",
   "execution_count": 41,
   "metadata": {},
   "outputs": [
    {
     "data": {
      "text/plain": [
       "(array([ 77., 123., 157., 165., 159., 136., 159., 134., 153., 146., 141.,\n",
       "        140., 130., 135., 134., 108.,  99.,  75.,  56.,  42.,  48.,  25.,\n",
       "         30.,  14.,   5.,   7.,   1.,   0.,   0.]),\n",
       " array([ 0,  1,  2,  3,  4,  5,  6,  7,  8,  9, 10, 11, 12, 13, 14, 15, 16,\n",
       "        17, 18, 19, 20, 21, 22, 23, 24, 25, 26, 27, 28, 29]),\n",
       " <BarContainer object of 29 artists>)"
      ]
     },
     "execution_count": 41,
     "metadata": {},
     "output_type": "execute_result"
    },
    {
     "data": {
      "image/png": "[encoded data removed]",
      "text/plain": [
       "<Figure size 432x288 with 1 Axes>"
      ]
     },
     "metadata": {
      "needs_background": "light"
     },
     "output_type": "display_data"
    }
   ],
   "source": [
    "plt.hist(degree.values(), bins=list(range(30)))"
   ]
  }
 ],
 "metadata": {
  "kernelspec": {
   "display_name": "Python 3",
   "language": "python",
   "name": "python3"
  },
  "language_info": {
   "codemirror_mode": {
    "name": "ipython",
    "version": 3
   },
   "file_extension": ".py",
   "mimetype": "text/x-python",
   "name": "python",
   "nbconvert_exporter": "python",
   "pygments_lexer": "ipython3",
   "version": "3.8.6"
  }
 },
 "nbformat": 4,
 "nbformat_minor": 4
}
