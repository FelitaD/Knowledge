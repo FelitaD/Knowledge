{
 "cells": [
  {
   "cell_type": "markdown",
   "metadata": {},
   "source": [
    "# Complexity\n",
    "\n",
    "(Download this file as an\n",
    "<a href=\"complexity.html\" download>HTML document</a> or a\n",
    "<a href=\"complexity.ipynb\" download>Jupyter notebook</a>.)\n",
    "\n",
    "Complexity is an attempt at measuring the efficacy of an algorithm.\n",
    "\n",
    "Let's imagine the following scenario: we have a list of integers and we wish to check whether there are any duplicates in the list.\n",
    "\n",
    "One idea is to use the following algorithm\n",
    "\n",
    "<ul style=\"list-style-type:none\">\n",
    "    <li>ALGORITHM dup1</li>\n",
    "    <ul style=\"list-style-type:none\">\n",
    "        <li><strong>Input:</strong> $L$ a list of integers, possibly empty</li>\n",
    "        <li><strong>Output:</strong> True or False, is there any duplicated value?</li>\n",
    "        <li>Let $n$ be the length of $L$</li>\n",
    "        <li><strong>if</strong> $n < 2$ <strong>then</strong><li>\n",
    "        <ul style=\"list-style-type:none\">\n",
    "            <li><strong>return</strong> False</li>\n",
    "        </ul>\n",
    "        <li><strong>end if</strong></li>\n",
    "        <li><strong>for $i$ in $0 \\ldots n - 2$ <strong>do</strong></li>\n",
    "        <ul style=\"list-style-type:none\">\n",
    "        <li><strong>for $j$ in $i + 1 \\ldots n - 1$ <strong>do</strong></li>\n",
    "        <ul style=\"list-style-type:none\">\n",
    "        <li><strong>if</strong> $L_i = L_j$ <strong>then</strong><li>\n",
    "        <ul style=\"list-style-type:none\">\n",
    "            <li><strong>return</strong> True</li>\n",
    "        </ul>\n",
    "        <li><strong>end if</strong></li>       \n",
    "        </ul>\n",
    "        <li><strong>end for</strong></li>\n",
    "        </ul>\n",
    "        <li><strong>end for</strong></li>\n",
    "        <li><strong>return</strong> False</li>\n",
    "    </ul>\n",
    "</ul>"
   ]
  },
  {
   "cell_type": "code",
   "execution_count": 20,
   "metadata": {},
   "outputs": [],
   "source": [
    "from random import choices, seed\n",
    "seed(123)"
   ]
  },
  {
   "cell_type": "code",
   "execution_count": 12,
   "metadata": {},
   "outputs": [],
   "source": [
    "def dup1(L):\n",
    "    '''First attempt at finding duplicates\n",
    "Input:  𝐿  a list of integers, possibly empty\n",
    "Output: True or False, is there any duplicated value?'''\n",
    "    \n",
    "    # COMPLETE THIS PART OF THE CODE"
   ]
  },
  {
   "cell_type": "markdown",
   "metadata": {},
   "source": [
    "Is it effective?"
   ]
  },
  {
   "cell_type": "code",
   "execution_count": 21,
   "metadata": {},
   "outputs": [],
   "source": [
    "L = choices(range(10000), k=100)"
   ]
  },
  {
   "cell_type": "code",
   "execution_count": 23,
   "metadata": {},
   "outputs": [],
   "source": [
    "dup1(L)"
   ]
  },
  {
   "cell_type": "markdown",
   "metadata": {},
   "source": [
    "## Q: Scenarios?\n",
    "\n",
    "How do you evaluate the efficacy of the algorithm? What scenarios do you consider?"
   ]
  },
  {
   "cell_type": "markdown",
   "metadata": {},
   "source": [
    "## ‘Big O’ notation\n",
    "\n",
    "We are only interested in trends.\n",
    "\n",
    "* $4 n^2 + n + 5$ behaves the same as $4 n^2$ for large $n$ so trends like $n^2$\n",
    "* Operation are implemented differently depending on languages/processors\n",
    "\n",
    "Possible outcomes:\n",
    "\n",
    "* $O(1)$ it does not matter how big the dataset is, the algorithm will operate in constant time (eg, in the worst case scenario)\n",
    "* $O(n)$ scales linearly with the size $n$ of the input\n",
    "* $O(n \\log n)$ is quasilinear\n",
    "* $O(m + n)$ is kinda linear\n",
    "* $O(n^2)$ is quadratic\n",
    "* $O(m n)$ is kinda quadratic\n",
    "* $O(n!)$ is really bad news (except for cryptographic systems)"
   ]
  },
  {
   "cell_type": "markdown",
   "metadata": {},
   "source": [
    "## Other approaches\n",
    "\n",
    "* If the language has a ‘set’ data structure, we can test if the ‘set’ and the ‘list’ have the same number of elements\n",
    "* If we know that the integers are chosen in a given range (say, $0 \\leq i < 365$), then we can answer in $O(1)$\n",
    "* We can sort the list $O(n \\log n)$ and see whether some neighbouring values are repeated?"
   ]
  },
  {
   "cell_type": "markdown",
   "metadata": {},
   "source": [
    "## Generalisation\n",
    "\n",
    "* **Time complexity**  How does the algorithm scale as a function of the input size in terms of memory space?\n",
    "* **Space complexity** How does the algorithm scale as a function of the input size in terms of computation time?"
   ]
  }
 ],
 "metadata": {
  "kernelspec": {
   "display_name": "Python 3",
   "language": "python",
   "name": "python3"
  },
  "language_info": {
   "codemirror_mode": {
    "name": "ipython",
    "version": 3
   },
   "file_extension": ".py",
   "mimetype": "text/x-python",
   "name": "python",
   "nbconvert_exporter": "python",
   "pygments_lexer": "ipython3",
   "version": "3.8.5"
  }
 },
 "nbformat": 4,
 "nbformat_minor": 4
}
