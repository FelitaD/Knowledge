{
 "cells": [
  {
   "cell_type": "markdown",
   "metadata": {},
   "source": [
    "# 1. Pseudo-code\n",
    "\n",
    "(Download this file as an\n",
    "<a href=\"pseudocode.html\" download>HTML document</a> or a\n",
    "<a href=\"pseudocode.ipynb\" download>Jupyter notebook</a>.)\n",
    "\n",
    "## 1.1 Introduction\n",
    "\n",
    "Pseudo-code is a precise, yet somewhat informal description of an algorithm.\n",
    "\n",
    "**Input** The algorithm is first described in terms of its input, eg, a list, a string?\n",
    "Are there any pre-requisites or requirements?  Should the list have a specified length?  Is there are maximum length?\n",
    "\n",
    "**Output** What does the algorithm output?  Does it return a result?\n",
    "\n",
    "It is usually based on a syntax reminiscent of procedural programming language:\n",
    "\n",
    "* It uses assignments (sometimes with a syntax such as $x \\leftarrow 1$) equivalent to `x = 1` in Python\n",
    "* It uses standard operations and mathematical functions\n",
    "* It uses standard while or for loops\n",
    "* It uses standard if-then-else control flow\n",
    "* It can use sophisticated data structures (whose properties are known, eg, dictionaries)\n",
    "\n",
    "Read more about pseudo-code from Wikipedia [EN](https://en.wikipedia.org/wiki/Pseudocode) or [FR](https://fr.wikipedia.org/wiki/Pseudo-code).\n",
    "\n",
    "Remember how we calculed the arithmetic mean of a sample of values contained in a list (or NumPy array, or tuple, or set)."
   ]
  },
  {
   "cell_type": "code",
   "execution_count": 1,
   "metadata": {},
   "outputs": [],
   "source": [
    "def mean(X):\n",
    "    \"\"\"This function computes the sample mean of a list of values\"\"\"\n",
    "    \n",
    "    n = len(X)\n",
    "    Xsum = 0.\n",
    "    \n",
    "    for Xval in X:\n",
    "        Xsum += Xval\n",
    "        \n",
    "    return Xsum/n"
   ]
  },
  {
   "cell_type": "code",
   "execution_count": 2,
   "metadata": {},
   "outputs": [
    {
     "data": {
      "text/plain": [
       "2.5"
      ]
     },
     "execution_count": 2,
     "metadata": {},
     "output_type": "execute_result"
    }
   ],
   "source": [
    "mean([1, 2, 3, 4])"
   ]
  },
  {
   "cell_type": "markdown",
   "metadata": {},
   "source": [
    "For instance, the pseudo-code for our mean() function would look like:\n",
    "\n",
    "<ul style=\"list-style-type:none\">\n",
    "    <li>ALGORITHM mean</li>\n",
    "    <ul style=\"list-style-type:none\">\n",
    "        <li><strong>Input:</strong>\n",
    "            A non-empty list of numbers $x = \\{x_0, x_1, \\ldots\\}$</li>\n",
    "        <li><strong>Output:</strong> the arithmetic mean\n",
    "            $\\bar{x} = \\tfrac{1}{n} (x_0+x_1+\\cdots)$</li>\n",
    "        <li>Initialise $S \\leftarrow 0$</li>\n",
    "        <li>Let $n$ be the length of $x$</li>\n",
    "        <li><strong>for</strong> all $x_i$ in $x$ <strong>do</strong></li>\n",
    "        <ul style=\"list-style-type:none\">\n",
    "            <li>Update $S \\leftarrow S + x_i$</li>\n",
    "        </ul>\n",
    "        <li><strong>end for</strong></li>\n",
    "        <li><strong>return</strong> $S/n$</li>\n",
    "    </ul>\n",
    "</ul>\n",
    "\n",
    "## 1.2 Exercise 1: Number of occurrences of a substring\n",
    "\n",
    "Suppose you have two strings, $G$ and $s$. We want to determine how many times $s$ appears in $G$.  $G$ must be at least as long as $s$.\n",
    "\n",
    "<ul style=\"list-style-type:none\">\n",
    "    <li>ALGORITHM count_occurrences</li>\n",
    "    <ul style=\"list-style-type:none\">\n",
    "        <li><strong>Input:</strong>\n",
    "            A string $G$ and a string $s$; $|G| \\geq |s|$</li>\n",
    "        <li><strong>Output:</strong> an integer, the number of subsequences of $G$ that match exactly $s$</li>\n",
    "        <li>Let $m$ be the length of $G$</li>\n",
    "        <li>Let $n$ be the length of $s$</li>\n",
    "        <li>Initialise $c \\leftarrow 0$</li>\n",
    "        <li><strong>for</strong> all subsequences $g$ of length $n$ of $G$ <strong>do</strong></li>\n",
    "        <ul style=\"list-style-type:none\">\n",
    "            <li><strong>if</strong> $g == s$ <strong>then</strong></li>\n",
    "            <ul style=\"list-style-type:none\">\n",
    "                <li>Update $c \\leftarrow c + 1$</li>\n",
    "            </ul>\n",
    "            <li><strong>end if</strong></li>\n",
    "        </ul>\n",
    "        <li><strong>end for</strong></li>\n",
    "        <li><strong>return</strong> $c$</li>\n",
    "    </ul>\n",
    "</ul>"
   ]
  },
  {
   "cell_type": "code",
   "execution_count": 1,
   "metadata": {},
   "outputs": [],
   "source": [
    "G = '\\\n",
    "TCTAGGGGAAAGTGTCGTGAACGTGACCGGTTAGCACAG\\\n",
    "GAGTGAGAATACCATTCTGGAACCACTCCTGTGTAGGCC\\\n",
    "TTACCATTTCTTACTCGCATTGTACTTGTGGGCAAAGTC\\\n",
    "TTCGTTATCTCTCGGACTGTTCTTTAACTTACGAACCCA'\n",
    "s = 'TAC'\n",
    "\n",
    "m = 'This is useless'"
   ]
  },
  {
   "cell_type": "code",
   "execution_count": 25,
   "metadata": {},
   "outputs": [
    {
     "ename": "IndentationError",
     "evalue": "unexpected indent (<ipython-input-25-c72bd97f0388>, line 4)",
     "output_type": "error",
     "traceback": [
      "\u001b[0;36m  File \u001b[0;32m\"<ipython-input-25-c72bd97f0388>\"\u001b[0;36m, line \u001b[0;32m4\u001b[0m\n\u001b[0;31m    m = len(G)\u001b[0m\n\u001b[0m    ^\u001b[0m\n\u001b[0;31mIndentationError\u001b[0m\u001b[0;31m:\u001b[0m unexpected indent\n"
     ]
    }
   ],
   "source": [
    "def count_occurrences(G, s):\n",
    "    '''Determines the number of subsequences of G that match exactly s'''\n",
    "    \n",
    "    m = len(G)\n",
    "    n = len(s)\n",
    "    c = 0\n",
    "    \n",
    "    for i in range(m - n + 1):\n",
    "        g = G[i:(i + 1)]\n",
    "        \n",
    "        if g == s:\n",
    "            c = c + 1\n",
    "\n",
    "    return c"
   ]
  },
  {
   "cell_type": "code",
   "execution_count": 26,
   "metadata": {},
   "outputs": [
    {
     "data": {
      "text/plain": [
       "0"
      ]
     },
     "execution_count": 26,
     "metadata": {},
     "output_type": "execute_result"
    }
   ],
   "source": [
    "count_occurrences(G, s)"
   ]
  },
  {
   "cell_type": "code",
   "execution_count": 22,
   "metadata": {},
   "outputs": [
    {
     "data": {
      "text/plain": [
       "'This is useless'"
      ]
     },
     "execution_count": 22,
     "metadata": {},
     "output_type": "execute_result"
    }
   ],
   "source": [
    "m # The original m variable has not been affected by the function's local variables"
   ]
  },
  {
   "cell_type": "markdown",
   "metadata": {},
   "source": [
    "Two of the most common errors:\n",
    "\n",
    "* To forget the `:` at the end of a for, if, while statement\n",
    "* To indent inconsistently the code"
   ]
  },
  {
   "cell_type": "markdown",
   "metadata": {},
   "source": [
    "## 1.3 Exercise: Longest common substring\n",
    "\n",
    "Suppose you're given two strings $r$ and $s$."
   ]
  },
  {
   "cell_type": "code",
   "execution_count": 6,
   "metadata": {},
   "outputs": [],
   "source": [
    "R = 'AAGCCGCGTCTAACTCGTTGTGCCAAAGCCGCAGACGATAATTAAG'\n",
    "S = 'CGAATGGTTGGGAATCAAAAGATATAGATTGTCCTCAGCCGATACATTGATGATTGATAGGCCTAACGCGGGCAACTGTG'\n",
    "\n",
    "# R = 'AAGCCGCGTCTAACTCGTTGTGCCAAAGCCGCAGACGATAATTAAGCATACGCTTGATTTAAGCTGACCTCCAGTGGAGC'\n",
    "\n",
    "# AA AG GC CC GC ... size of substring = 2\n",
    "# AAG AGC GCC ... size of substring = 3\n",
    "# AAGC AGCC ... = 4\n",
    "# AAGCA AGCCG ... = 5\n",
    "# AAGCAA"
   ]
  },
  {
   "cell_type": "markdown",
   "metadata": {},
   "source": [
    "We wish to find the longest common substring (ie, contiguous letters) common to both $r$ and $s$ (here it's <span style='color:blue'>AGCCG</span>):\n",
    "\n",
    "<ul style=\"list-style-type:none\">\n",
    "    <li><tt>CGAATGGTTGGGAATCAAAAGATATAGATTGTCCTC<span style='color:blue'>AGCCG</span>ATACATTGATGATTGATAGGCCTAACGCGGGCAACTGTG</tt></li>\n",
    "    <li><tt>A<span style='color:blue'>AGCCG</span>CGTCTAACTCGTTGTGCCAA<span style='color:blue'>AGCCG</span>CAGACGATAATTAAGCATACGCTTGATTTAAGCTGACCTCCAGTGGAGC</tt></li>\n",
    "</ul>\n",
    "    \n",
    "Devise a simple yet naive algorithm to solve this problem.  Write this as pseudocode.\n",
    "\n",
    "```\n",
    "Input: R, S (assume R is shorter than S or same size)\n",
    "Output: returns one of the longest common sequences\n",
    "\n",
    "m = len(R)\n",
    "n = len(S)\n",
    "\n",
    "Initialise longest_substring <- ''\n",
    "for size T in 1...m:\n",
    "    for all subsequences r of size T of R:\n",
    "        for all subsequences s of size T of S:\n",
    "            if r = s:\n",
    "                longest_substring = r\n",
    "\n",
    "return longest_substring\n",
    "```\n",
    "## 1.4 Exercise: Longest common subsequence\n",
    "\n",
    "We alter sligthly the problem: the letters do not have to be contiguous in both sequences $r$ and $s$.  Experiment with Eryk Kopczyński's [online tool](https://www.mimuw.edu.pl/~erykk/algovis/lcs.html) with the same two sequences $r$ and $s$ as above.\n",
    "\n",
    "The answer should be <tt>CGAATGTTGGCAAAAGAATAATTGCTACGCTTGATTTAAGGCCTCCGGGAC</tt>.\n",
    "\n",
    "The pseudocode to determine (not the subsequence itself but) the length of the subsequence is borrowed from Wikipedia's [Longest common sequence problem](https://en.wikipedia.org/wiki/Longest_common_subsequence_problem#Computing_the_length_of_the_LCS).\n",
    "\n",
    "<ul style=\"list-style-type:none\">\n",
    "    <li>ALGORITHM lcs</li>\n",
    "    <ul style=\"list-style-type:none\">\n",
    "        <li><strong>Input:</strong>\n",
    "            Two strings $r$ and $s$</li>\n",
    "        <li><strong>Output:</strong> an integer, the length of the longest subsequence common to both $r$ and $s$</li>\n",
    "        <li>Let $m$ be the length of $r$</li>\n",
    "        <li>Let $n$ be the length of $s$</li>\n",
    "        <li>Initialise an $(m + 1) \\times (n + 1)$ matrix $M$\n",
    "            ($m + 1$ rows and $n + 1$ columns) with zeroes</li>\n",
    "        <li><strong>for</strong> $i$ in $1 \\ldots m$ <strong>do</strong></li>\n",
    "        <ul style=\"list-style-type:none\">\n",
    "            <li><strong>for</strong> $j$ in $1 \\ldots n$<strong>do</strong></li>\n",
    "            <ul style=\"list-style-type:none\">\n",
    "                <li><strong>if</strong> $r_{i-1} = s_{j-1}$ <strong>then</strong></li>\n",
    "                <ul style=\"list-style-type:none\">\n",
    "                    <li>$M[i, j] \\leftarrow M[i-1, j-1] + 1$</li>\n",
    "                </ul>\n",
    "                <li><strong>else</strong></li>\n",
    "                <ul style=\"list-style-type:none\">\n",
    "                    <li>$M[i, j] \\leftarrow \\max(M[i, j-1], M[i-1, j])$</li>\n",
    "                </ul>\n",
    "            </ul>\n",
    "            <li><strong>end for</strong></li>\n",
    "        </ul>\n",
    "        <li><strong>end for</strong></li>\n",
    "        <li><strong>return</strong> $M[m, n]$</li>\n",
    "    </ul>\n",
    "</ul>\n",
    "\n",
    "Note that the $\\max$ function exists in Python"
   ]
  },
  {
   "cell_type": "code",
   "execution_count": 27,
   "metadata": {},
   "outputs": [],
   "source": [
    "R = 'AAGCCGCGTCTAACTCGTTGTGCCAAAGCCGCAGACGATAATTAAGCATACGCTTGATTTAAGCTGACCTCCAGTGGAGC'\n",
    "S = 'CGAATGGTTGGGAATCAAAAGATATAGATTGTCCTCAGCCGATACATTGATGATTGATAGGCCTAACGCGGGCAACTGTG'"
   ]
  },
  {
   "cell_type": "code",
   "execution_count": 28,
   "metadata": {},
   "outputs": [],
   "source": [
    "import numpy as np # np.zeros might be of help"
   ]
  },
  {
   "cell_type": "code",
   "execution_count": 32,
   "metadata": {},
   "outputs": [],
   "source": [
    "def lcs(r, s):\n",
    "    '''Computes the length of the longest subsequence common to both r and s'''\n",
    "    \n",
    "    m = len(r)\n",
    "    n = len(s)\n",
    "    \n",
    "    M = np.zeros( (m + 1, n + 1) ) # Use a tuple! np.zeros(m + 1, n + 1) wouldn't work\n",
    "    \n",
    "    for i in range(1, m + 1):      # m + 1 because the second bound is excluded\n",
    "        for j in range(1, n + 1):  # n + 1 because the second bound is excluded\n",
    "            if r[i - 1] == s[j - 1]:\n",
    "                M[i, j] = M[i - 1, j - 1] + 1\n",
    "            else:\n",
    "                M[i, j] = max(M[i, j - 1], M[i - 1, j])\n",
    "\n",
    "    return M[m, n]"
   ]
  },
  {
   "cell_type": "code",
   "execution_count": 34,
   "metadata": {},
   "outputs": [
    {
     "data": {
      "text/plain": [
       "51.0"
      ]
     },
     "execution_count": 34,
     "metadata": {},
     "output_type": "execute_result"
    }
   ],
   "source": [
    "lcs(R, S)"
   ]
  },
  {
   "cell_type": "code",
   "execution_count": 31,
   "metadata": {},
   "outputs": [
    {
     "ename": "TypeError",
     "evalue": "Cannot interpret '10' as a data type",
     "output_type": "error",
     "traceback": [
      "\u001b[0;31m---------------------------------------------------------------------------\u001b[0m",
      "\u001b[0;31mTypeError\u001b[0m                                 Traceback (most recent call last)",
      "\u001b[0;32m<ipython-input-31-46503f7ef50c>\u001b[0m in \u001b[0;36m<module>\u001b[0;34m\u001b[0m\n\u001b[0;32m----> 1\u001b[0;31m \u001b[0mnp\u001b[0m\u001b[0;34m.\u001b[0m\u001b[0mzeros\u001b[0m\u001b[0;34m(\u001b[0m\u001b[0;36m10\u001b[0m\u001b[0;34m,\u001b[0m \u001b[0;36m10\u001b[0m\u001b[0;34m)\u001b[0m\u001b[0;34m\u001b[0m\u001b[0;34m\u001b[0m\u001b[0m\n\u001b[0m",
      "\u001b[0;31mTypeError\u001b[0m: Cannot interpret '10' as a data type"
     ]
    }
   ],
   "source": [
    "np.zeros(10, 10)"
   ]
  },
  {
   "cell_type": "code",
   "execution_count": 30,
   "metadata": {},
   "outputs": [
    {
     "data": {
      "text/plain": [
       "array([[0., 0., 0., 0.],\n",
       "       [0., 0., 0., 0.],\n",
       "       [0., 0., 0., 0.],\n",
       "       [0., 0., 0., 0.],\n",
       "       [0., 0., 0., 0.],\n",
       "       [0., 0., 0., 0.],\n",
       "       [0., 0., 0., 0.],\n",
       "       [0., 0., 0., 0.],\n",
       "       [0., 0., 0., 0.],\n",
       "       [0., 0., 0., 0.]])"
      ]
     },
     "execution_count": 30,
     "metadata": {},
     "output_type": "execute_result"
    }
   ],
   "source": [
    "np.zeros( (10, 4))"
   ]
  },
  {
   "cell_type": "code",
   "execution_count": null,
   "metadata": {},
   "outputs": [],
   "source": []
  }
 ],
 "metadata": {
  "kernelspec": {
   "display_name": "Python 3",
   "language": "python",
   "name": "python3"
  },
  "language_info": {
   "codemirror_mode": {
    "name": "ipython",
    "version": 3
   },
   "file_extension": ".py",
   "mimetype": "text/x-python",
   "name": "python",
   "nbconvert_exporter": "python",
   "pygments_lexer": "ipython3",
   "version": "3.8.5"
  }
 },
 "nbformat": 4,
 "nbformat_minor": 4
}
