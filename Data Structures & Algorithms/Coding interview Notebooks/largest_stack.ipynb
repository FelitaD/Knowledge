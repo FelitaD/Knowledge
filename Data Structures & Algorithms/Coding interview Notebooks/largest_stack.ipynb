{
 "cells": [
  {
   "cell_type": "code",
   "execution_count": 1,
   "id": "1f2d82c4-0aa7-45be-bde7-fddd1f0d07e8",
   "metadata": {
    "tags": []
   },
   "outputs": [],
   "source": [
    "class Stack(object):\n",
    "\n",
    "    def __init__(self):\n",
    "        \"\"\"Initialize an empty stack\"\"\"\n",
    "        self.items = []\n",
    "\n",
    "    def push(self, item):\n",
    "        \"\"\"Push a new item onto the stack\"\"\"\n",
    "        self.items.append(item)\n",
    "\n",
    "    def pop(self):\n",
    "        \"\"\"Remove and return the last item\"\"\"\n",
    "        # If the stack is empty, return None\n",
    "        # (it would also be reasonable to throw an exception)\n",
    "        if not self.items:\n",
    "            return None\n",
    "\n",
    "        return self.items.pop()\n",
    "\n",
    "    def peek(self):\n",
    "        \"\"\"Return the last item without removing it\"\"\"\n",
    "        if not self.items:\n",
    "            return None\n",
    "        return self.items[-1]"
   ]
  },
  {
   "cell_type": "code",
   "execution_count": 14,
   "id": "41f9f994-cc4b-4c35-901a-2ab4c44e50f2",
   "metadata": {
    "tags": []
   },
   "outputs": [],
   "source": [
    "def MaxStack(Stack):\n",
    "\n",
    "    def get_max(self):\n",
    "        print('hello')"
   ]
  },
  {
   "cell_type": "code",
   "execution_count": 15,
   "id": "ed3f7230-25ad-469a-9f64-6d82723f307e",
   "metadata": {
    "tags": []
   },
   "outputs": [],
   "source": [
    "s = Stack()\n",
    "m = MaxStack(s)"
   ]
  },
  {
   "cell_type": "code",
   "execution_count": 16,
   "id": "e450fa2b-9e12-4d4f-ad26-aa120757f4f0",
   "metadata": {
    "tags": []
   },
   "outputs": [
    {
     "ename": "AttributeError",
     "evalue": "'NoneType' object has no attribute 'get_max'",
     "output_type": "error",
     "traceback": [
      "\u001b[0;31m---------------------------------------------------------------------------\u001b[0m",
      "\u001b[0;31mAttributeError\u001b[0m                            Traceback (most recent call last)",
      "Cell \u001b[0;32mIn[16], line 1\u001b[0m\n\u001b[0;32m----> 1\u001b[0m \u001b[43mm\u001b[49m\u001b[38;5;241;43m.\u001b[39;49m\u001b[43mget_max\u001b[49m()\n",
      "\u001b[0;31mAttributeError\u001b[0m: 'NoneType' object has no attribute 'get_max'"
     ]
    }
   ],
   "source": [
    "m.get_max()"
   ]
  },
  {
   "cell_type": "code",
   "execution_count": 10,
   "id": "81edda4a-36b4-48c9-9c31-aad3a20751b6",
   "metadata": {
    "tags": []
   },
   "outputs": [],
   "source": [
    "s.push('a')"
   ]
  },
  {
   "cell_type": "code",
   "execution_count": 11,
   "id": "c6c39b6d-469d-4ecb-b4fc-e1e3e8480b54",
   "metadata": {
    "tags": []
   },
   "outputs": [
    {
     "data": {
      "text/plain": [
       "'a'"
      ]
     },
     "execution_count": 11,
     "metadata": {},
     "output_type": "execute_result"
    }
   ],
   "source": [
    "s.peek()"
   ]
  },
  {
   "cell_type": "code",
   "execution_count": 12,
   "id": "fd57e76c-f8d8-49df-bebb-b69a52c29e18",
   "metadata": {
    "tags": []
   },
   "outputs": [
    {
     "data": {
      "text/plain": [
       "['__bool__',\n",
       " '__class__',\n",
       " '__delattr__',\n",
       " '__dir__',\n",
       " '__doc__',\n",
       " '__eq__',\n",
       " '__format__',\n",
       " '__ge__',\n",
       " '__getattribute__',\n",
       " '__gt__',\n",
       " '__hash__',\n",
       " '__init__',\n",
       " '__init_subclass__',\n",
       " '__le__',\n",
       " '__lt__',\n",
       " '__ne__',\n",
       " '__new__',\n",
       " '__reduce__',\n",
       " '__reduce_ex__',\n",
       " '__repr__',\n",
       " '__setattr__',\n",
       " '__sizeof__',\n",
       " '__str__',\n",
       " '__subclasshook__']"
      ]
     },
     "execution_count": 12,
     "metadata": {},
     "output_type": "execute_result"
    }
   ],
   "source": [
    "dir(m)"
   ]
  },
  {
   "cell_type": "code",
   "execution_count": null,
   "id": "24d63be5-5d34-40b0-8c66-22e12bafcd69",
   "metadata": {},
   "outputs": [],
   "source": []
  }
 ],
 "metadata": {
  "kernelspec": {
   "display_name": "Python 3 (ipykernel)",
   "language": "python",
   "name": "python3"
  },
  "language_info": {
   "codemirror_mode": {
    "name": "ipython",
    "version": 3
   },
   "file_extension": ".py",
   "mimetype": "text/x-python",
   "name": "python",
   "nbconvert_exporter": "python",
   "pygments_lexer": "ipython3",
   "version": "3.9.16"
  }
 },
 "nbformat": 4,
 "nbformat_minor": 5
}
