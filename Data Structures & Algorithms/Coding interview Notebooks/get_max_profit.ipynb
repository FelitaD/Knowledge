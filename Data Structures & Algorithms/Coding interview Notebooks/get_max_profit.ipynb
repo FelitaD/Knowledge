{
 "cells": [
  {
   "cell_type": "code",
   "execution_count": 1,
   "id": "dad16709-0e81-479c-9abc-b54c9286a3dc",
   "metadata": {
    "tags": []
   },
   "outputs": [],
   "source": [
    "stock_prices = [10, 7, 5, 8, 11, 9]"
   ]
  },
  {
   "cell_type": "code",
   "execution_count": 2,
   "id": "3bf5820f-7cda-4334-bfc8-3de1625d7b45",
   "metadata": {
    "tags": []
   },
   "outputs": [],
   "source": [
    "def get_max_profit_1(stock_prices):\n",
    "\n",
    "    minimum = min(stock_prices)\n",
    "    index_min = stock_prices.index(minimum)\n",
    "\n",
    "    if index_min == len(stock_prices)-1:\n",
    "        minimum2 = min(stock_prices[:index_min])\n",
    "        return minimum - minimum2\n",
    "    \n",
    "    maximum = max(stock_prices[index_min+1:])\n",
    "    return maximum - minimum\n"
   ]
  },
  {
   "cell_type": "code",
   "execution_count": 3,
   "id": "c1e15b00-e69d-4e55-875e-8a56deebcd6e",
   "metadata": {
    "tags": []
   },
   "outputs": [
    {
     "data": {
      "text/plain": [
       "-3"
      ]
     },
     "execution_count": 3,
     "metadata": {},
     "output_type": "execute_result"
    }
   ],
   "source": [
    "get_max_profit_1([9, 7, 4, 1])"
   ]
  },
  {
   "cell_type": "code",
   "execution_count": 8,
   "id": "fb9d91eb-8208-437f-b58e-e1d9224cacb7",
   "metadata": {
    "tags": []
   },
   "outputs": [],
   "source": [
    "def get_max_profit_2(stock_prices):\n",
    "    deltas = []\n",
    "    for i in range(len(stock_prices)):\n",
    "        start = stock_prices[i]\n",
    "        for j in range(i+1, len(stock_prices)):\n",
    "            delta = stock_prices[j] - stock_prices[i]\n",
    "            deltas.append(delta)\n",
    "    return max(deltas)"
   ]
  },
  {
   "cell_type": "code",
   "execution_count": 9,
   "id": "136fba4f-5cc1-4056-8d64-ce249d5aad47",
   "metadata": {
    "tags": []
   },
   "outputs": [
    {
     "data": {
      "text/plain": [
       "-2"
      ]
     },
     "execution_count": 9,
     "metadata": {},
     "output_type": "execute_result"
    }
   ],
   "source": [
    "get_max_profit_2([9, 7, 4, 1])"
   ]
  },
  {
   "cell_type": "code",
   "execution_count": 10,
   "id": "b0884df5-3163-40ac-b686-b357555695f9",
   "metadata": {
    "tags": []
   },
   "outputs": [],
   "source": [
    "def get_max_profit_3(stock_prices):\n",
    "    min_price  = stock_prices[0]\n",
    "    max_profit = 0\n",
    "\n",
    "    for current_price in stock_prices:\n",
    "        # Ensure min_price is the lowest price we've seen so far\n",
    "        min_price = min(min_price, current_price)\n",
    "\n",
    "        # See what our profit would be if we bought at the\n",
    "        # min price and sold at the current price\n",
    "        potential_profit = current_price - min_price\n",
    "\n",
    "        # Update max_profit if we can do better\n",
    "        max_profit = max(max_profit, potential_profit)\n",
    "\n",
    "    return max_profit"
   ]
  },
  {
   "cell_type": "code",
   "execution_count": 11,
   "id": "e65846da-5f1d-4132-b90c-7da842fcb776",
   "metadata": {
    "tags": []
   },
   "outputs": [
    {
     "data": {
      "text/plain": [
       "0"
      ]
     },
     "execution_count": 11,
     "metadata": {},
     "output_type": "execute_result"
    }
   ],
   "source": [
    "get_max_profit_3([9, 7, 4, 1])"
   ]
  },
  {
   "cell_type": "code",
   "execution_count": 17,
   "id": "17a088ea-686c-48a5-82f4-0295189fde30",
   "metadata": {
    "tags": []
   },
   "outputs": [
    {
     "data": {
      "text/plain": [
       "6"
      ]
     },
     "execution_count": 17,
     "metadata": {},
     "output_type": "execute_result"
    }
   ],
   "source": [
    "get_max_profit_4([10, 5, 11, 4])"
   ]
  },
  {
   "cell_type": "code",
   "execution_count": 15,
   "id": "4b0e9796-8f2d-420a-a0cf-d8bfa34f4f36",
   "metadata": {
    "tags": []
   },
   "outputs": [],
   "source": [
    "def get_max_profit_4(stock_prices):\n",
    "    if len(stock_prices) < 2:\n",
    "        raise ValueError('Getting a profit requires at least 2 prices')\n",
    "\n",
    "    # We'll greedily update min_price and max_profit, so we initialize\n",
    "    # them to the first price and the first possible profit\n",
    "    min_price  = stock_prices[0]\n",
    "    max_profit = stock_prices[1] - stock_prices[0]\n",
    "\n",
    "    # Start at the second (index 1) time\n",
    "    # We can't sell at the first time, since we must buy first,\n",
    "    # and we can't buy and sell at the same time!\n",
    "    # If we started at index 0, we'd try to buy *and* sell at time 0.\n",
    "    # This would give a profit of 0, which is a problem if our\n",
    "    # max_profit is supposed to be *negative*--we'd return 0.\n",
    "    for current_time in range(1, len(stock_prices)):\n",
    "        current_price = stock_prices[current_time]\n",
    "\n",
    "        # See what our profit would be if we bought at the\n",
    "        # min price and sold at the current price\n",
    "        potential_profit = current_price - min_price\n",
    "\n",
    "        # Update max_profit if we can do better\n",
    "        max_profit = max(max_profit, potential_profit)\n",
    "\n",
    "        # Update min_price so it's always\n",
    "        # the lowest price we've seen so far\n",
    "        min_price  = min(min_price, current_price)\n",
    "\n",
    "    return max_profit"
   ]
  },
  {
   "cell_type": "code",
   "execution_count": 16,
   "id": "e19c392a-3633-4801-9718-b6f48df14366",
   "metadata": {
    "tags": []
   },
   "outputs": [
    {
     "data": {
      "text/plain": [
       "-2"
      ]
     },
     "execution_count": 16,
     "metadata": {},
     "output_type": "execute_result"
    }
   ],
   "source": [
    "get_max_profit_4([9, 7, 4, 1])"
   ]
  },
  {
   "cell_type": "markdown",
   "id": "2ae6f479-e1a0-4b26-ba31-30ae9f06f311",
   "metadata": {},
   "source": [
    "This one's a good example of the greedy ↴ approach in action. Greedy approaches are great because they're fast (usually just one pass through the input). But they don't work for every problem.\n",
    "\n",
    "How do you know if a problem will lend itself to a greedy approach? Best bet is to try it out and see if it works. Trying out a greedy approach should be one of the first ways you try to break down a new question.\n",
    "\n",
    "To try it on a new problem, start by asking yourself:\n",
    "\n",
    "\"Suppose we could come up with the answer in one pass through the input, by simply updating the 'best answer so far' as we went. What additional values would we need to keep updated as we looked at each item in our input, in order to be able to update the 'best answer so far' in constant time?\"\n",
    "\n",
    "In this case:\n",
    "\n",
    "The \"best answer so far\" is, of course, the max profit that we can get based on the prices we've seen so far.\n",
    "\n",
    "The \"additional value\" is the minimum price we've seen so far. If we keep that updated, we can use it to calculate the new max profit so far in constant time. The max profit is the larger of:\n",
    "\n",
    "The previous max profit\n",
    "The max profit we can get by selling now (the current price minus the minimum price seen so far)\n",
    "Try applying this greedy methodology to future questions."
   ]
  },
  {
   "cell_type": "code",
   "execution_count": null,
   "id": "4bcd8b28-64c8-441c-b52a-c02f1cebbef1",
   "metadata": {},
   "outputs": [],
   "source": []
  }
 ],
 "metadata": {
  "kernelspec": {
   "display_name": "Python 3 (ipykernel)",
   "language": "python",
   "name": "python3"
  },
  "language_info": {
   "codemirror_mode": {
    "name": "ipython",
    "version": 3
   },
   "file_extension": ".py",
   "mimetype": "text/x-python",
   "name": "python",
   "nbconvert_exporter": "python",
   "pygments_lexer": "ipython3",
   "version": "3.9.16"
  }
 },
 "nbformat": 4,
 "nbformat_minor": 5
}
