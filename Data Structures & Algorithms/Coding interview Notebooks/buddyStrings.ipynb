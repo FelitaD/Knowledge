{
 "cells": [
  {
   "cell_type": "markdown",
   "id": "fb663a1a-d132-40c1-8711-f820e36e15c5",
   "metadata": {},
   "source": [
    "Given two strings s and goal, return true if you can swap two letters in s so the result is equal to goal, otherwise, return false.\n",
    "\n",
    "Swapping letters is defined as taking two indices i and j (0-indexed) such that i != j and swapping the characters at s[i] and s[j].\n",
    "\n",
    "For example, swapping at indices 0 and 2 in \"abcd\" results in \"cbad\"."
   ]
  },
  {
   "cell_type": "code",
   "execution_count": 3,
   "id": "4d5c1117-10d7-4197-857e-f1bd6ccd61a2",
   "metadata": {
    "tags": []
   },
   "outputs": [],
   "source": [
    "def buddyStrings(s, goal):\n",
    "    if len(s) != len(goal):\n",
    "        return False\n",
    "\n",
    "    if s == goal:\n",
    "        # Check if the strings are already equal\n",
    "        # Swapping the same characters won't change anything\n",
    "        # So we need to have at least one repeated character\n",
    "        # in order to swap and make them equal\n",
    "        return len(set(s)) < len(s)\n",
    "\n",
    "    first_swap_index = -1\n",
    "    second_swap_index = -1\n",
    "\n",
    "    for i in range(len(s)):\n",
    "        if s[i] != goal[i]:\n",
    "            if first_swap_index == -1:\n",
    "                first_swap_index = i\n",
    "            elif second_swap_index == -1:\n",
    "                second_swap_index = i\n",
    "                break\n",
    "\n",
    "    if first_swap_index != -1 and second_swap_index != -1:\n",
    "        s = list(s)\n",
    "        s[first_swap_index], s[second_swap_index] = s[second_swap_index], s[first_swap_index]\n",
    "        return ''.join(s) == goal\n",
    "\n",
    "    return False"
   ]
  },
  {
   "cell_type": "code",
   "execution_count": 4,
   "id": "774974f3-efcb-4c72-824c-bcdfefc54619",
   "metadata": {
    "tags": []
   },
   "outputs": [
    {
     "data": {
      "text/plain": [
       "False"
      ]
     },
     "execution_count": 4,
     "metadata": {},
     "output_type": "execute_result"
    }
   ],
   "source": [
    "buddyStrings('abcd', 'cbaed')"
   ]
  },
  {
   "cell_type": "code",
   "execution_count": 5,
   "id": "22855d9d-3066-4bb0-99a8-4b736308f0fd",
   "metadata": {
    "tags": []
   },
   "outputs": [
    {
     "data": {
      "text/plain": [
       "False"
      ]
     },
     "execution_count": 5,
     "metadata": {},
     "output_type": "execute_result"
    }
   ],
   "source": [
    "buddyStrings('abcd', 'cbae')"
   ]
  },
  {
   "cell_type": "code",
   "execution_count": null,
   "id": "8a26e806-f9e7-491d-adb9-113781143835",
   "metadata": {},
   "outputs": [],
   "source": []
  }
 ],
 "metadata": {
  "kernelspec": {
   "display_name": "Python 3 (ipykernel)",
   "language": "python",
   "name": "python3"
  },
  "language_info": {
   "codemirror_mode": {
    "name": "ipython",
    "version": 3
   },
   "file_extension": ".py",
   "mimetype": "text/x-python",
   "name": "python",
   "nbconvert_exporter": "python",
   "pygments_lexer": "ipython3",
   "version": "3.9.16"
  }
 },
 "nbformat": 4,
 "nbformat_minor": 5
}
