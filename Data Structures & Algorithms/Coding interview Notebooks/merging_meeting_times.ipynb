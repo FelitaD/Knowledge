{
 "cells": [
  {
   "cell_type": "markdown",
   "id": "e7923c47-b934-445b-b655-20ae1112c075",
   "metadata": {},
   "source": [
    "https://www.interviewcake.com/question/python3/merging-ranges?course=fc1&section=array-and-string-manipulation"
   ]
  },
  {
   "cell_type": "code",
   "execution_count": 11,
   "id": "2ff09570-566b-4875-8901-c5c4e9acccee",
   "metadata": {
    "tags": []
   },
   "outputs": [],
   "source": [
    "meetings = [(0, 1), (3, 5), (4, 8), (10, 12), (9, 10)]"
   ]
  },
  {
   "cell_type": "markdown",
   "id": "800a8eb5-36e3-461d-b930-8802181409a6",
   "metadata": {},
   "source": [
    "1. Sorting tuples"
   ]
  },
  {
   "cell_type": "code",
   "execution_count": 12,
   "id": "e31b9a8a-d1ec-4641-afa4-1a466fb13145",
   "metadata": {
    "tags": []
   },
   "outputs": [],
   "source": [
    "def sort_tuples(list_of_tuples):\n",
    "    for i in range(len(list_of_tuples)):\n",
    "        for j in range(i + 1, len(list_of_tuples)):\n",
    "            if list_of_tuples[i][0] > list_of_tuples[j][0]:\n",
    "                list_of_tuples[i], list_of_tuples[j] = list_of_tuples[j], list_of_tuples[i]\n",
    "\n",
    "    return list_of_tuples"
   ]
  },
  {
   "cell_type": "code",
   "execution_count": 13,
   "id": "b479e981-ee6b-49a9-adc9-e88b5a2ca405",
   "metadata": {
    "tags": []
   },
   "outputs": [
    {
     "data": {
      "text/plain": [
       "[(0, 1), (3, 5), (4, 8), (9, 10), (10, 12)]"
      ]
     },
     "execution_count": 13,
     "metadata": {},
     "output_type": "execute_result"
    }
   ],
   "source": [
    "sort_tuples(meetings)"
   ]
  },
  {
   "cell_type": "code",
   "execution_count": 14,
   "id": "cfd8462a-3d4d-4854-995c-9b622e368913",
   "metadata": {
    "tags": []
   },
   "outputs": [
    {
     "data": {
      "text/plain": [
       "[(0, 1), (3, 5), (4, 8), (9, 10), (10, 12)]"
      ]
     },
     "execution_count": 14,
     "metadata": {},
     "output_type": "execute_result"
    }
   ],
   "source": [
    "meetings"
   ]
  },
  {
   "cell_type": "markdown",
   "id": "1a155d86-09ee-4a38-a904-313a3c287dd4",
   "metadata": {},
   "source": [
    "2. Compare last tuple element with first element of next tuple"
   ]
  },
  {
   "cell_type": "code",
   "execution_count": 15,
   "id": "11ca68c0-7a9f-46c9-b858-5c28de0df167",
   "metadata": {
    "tags": []
   },
   "outputs": [
    {
     "name": "stdout",
     "output_type": "stream",
     "text": [
      "1 5\n",
      "2 4\n"
     ]
    }
   ],
   "source": [
    "merged_meetings = []  \n",
    "for i in range(len(meetings)-1):\n",
    "    try:\n",
    "        if meetings[i][1] >= meetings[i+1][0]:\n",
    "            merged_meeting = (meetings[i][0], meetings[i+1][1])\n",
    "            merged_meetings.append(merged_meeting)\n",
    "            print(i, len(meetings))\n",
    "            if i < len(meetings):\n",
    "                meetings.pop(i+1)\n",
    "        else:\n",
    "            merged_meetings.append(meetings[i])\n",
    "    except IndexError:\n",
    "        break"
   ]
  },
  {
   "cell_type": "code",
   "execution_count": 16,
   "id": "15fa7c54-7d65-42e7-aad0-84fbbea75991",
   "metadata": {
    "tags": []
   },
   "outputs": [
    {
     "data": {
      "text/plain": [
       "[(0, 1), (3, 8), (9, 12)]"
      ]
     },
     "execution_count": 16,
     "metadata": {},
     "output_type": "execute_result"
    }
   ],
   "source": [
    "merged_meetings"
   ]
  },
  {
   "cell_type": "markdown",
   "id": "faf9d28e-3dde-4178-aa19-6f08640e04c9",
   "metadata": {},
   "source": [
    "# Solution"
   ]
  },
  {
   "cell_type": "code",
   "execution_count": 30,
   "id": "59ce52c5-fd7d-41c4-bdf3-d504e9c3fc8a",
   "metadata": {
    "tags": []
   },
   "outputs": [],
   "source": [
    "def merge_ranges(meetings):\n",
    "    meetings = sort_tuples(meetings)\n",
    "    merged_meetings = []  \n",
    "    for i in range(len(meetings)-1):\n",
    "        try:\n",
    "            if meetings[i][1] >= meetings[i+1][0]:\n",
    "                end = max(meetings[i][1], meetings[i+1][1])\n",
    "                merged_meeting = (meetings[i][0], end)\n",
    "                merged_meetings.append(merged_meeting)\n",
    "                if i < len(meetings):\n",
    "                    meetings.pop(i+1)\n",
    "            else:\n",
    "                merged_meetings.append(meetings[i])\n",
    "        except IndexError:\n",
    "            break\n",
    "    return merged_meetings"
   ]
  },
  {
   "cell_type": "code",
   "execution_count": 41,
   "id": "72b34c4c-7996-4d6d-b84e-bd7b4d8e3de2",
   "metadata": {
    "tags": []
   },
   "outputs": [],
   "source": [
    "def merge_ranges_s(meetings):\n",
    "\n",
    "    # Sort by start time\n",
    "    sorted_meetings = sorted(meetings)\n",
    "\n",
    "    # Initialize merged_meetings with the earliest meeting\n",
    "    merged_meetings = [sorted_meetings[0]]\n",
    "\n",
    "    for current_meeting_start, current_meeting_end in sorted_meetings[1:]:\n",
    "        last_merged_meeting_start, last_merged_meeting_end = merged_meetings[-1]\n",
    "\n",
    "        # If the current meeting overlaps with the last merged meeting, use the\n",
    "        # later end time of the two\n",
    "        if (current_meeting_start <= last_merged_meeting_end):\n",
    "            merged_meetings[-1] = (last_merged_meeting_start,\n",
    "                                   max(last_merged_meeting_end,\n",
    "                                       current_meeting_end))\n",
    "        else:\n",
    "            # Add the current meeting since it doesn't overlap\n",
    "            merged_meetings.append((current_meeting_start, current_meeting_end))\n",
    "\n",
    "    return merged_meetings"
   ]
  },
  {
   "cell_type": "code",
   "execution_count": 42,
   "id": "c7d10543-7177-4175-87ff-51d22a9b493f",
   "metadata": {
    "tags": []
   },
   "outputs": [
    {
     "name": "stdout",
     "output_type": "stream",
     "text": [
      "3 5\n",
      "9 10\n"
     ]
    },
    {
     "data": {
      "text/plain": [
       "[(0, 1), (3, 5), (9, 10)]"
      ]
     },
     "execution_count": 42,
     "metadata": {},
     "output_type": "execute_result"
    }
   ],
   "source": [
    "merge_ranges_s(meetings)"
   ]
  },
  {
   "cell_type": "code",
   "execution_count": 43,
   "id": "12a82504-8ced-411a-afeb-c0f0a32fdb53",
   "metadata": {
    "tags": []
   },
   "outputs": [
    {
     "data": {
      "text/plain": [
       "[(0, 1), (3, 5), (9, 10)]"
      ]
     },
     "execution_count": 43,
     "metadata": {},
     "output_type": "execute_result"
    }
   ],
   "source": [
    "meetings"
   ]
  },
  {
   "cell_type": "code",
   "execution_count": 44,
   "id": "53d91610-fab2-42f3-9fa2-effff6b33917",
   "metadata": {
    "tags": []
   },
   "outputs": [
    {
     "name": "stdout",
     "output_type": "stream",
     "text": [
      "0 1\n",
      "3 5\n",
      "9 10\n"
     ]
    }
   ],
   "source": [
    "for start, end in meetings:\n",
    "    print(start, end)"
   ]
  },
  {
   "cell_type": "code",
   "execution_count": null,
   "id": "74eec579-2818-453e-a2bf-1074435b84ce",
   "metadata": {},
   "outputs": [],
   "source": []
  }
 ],
 "metadata": {
  "kernelspec": {
   "display_name": "Python 3 (ipykernel)",
   "language": "python",
   "name": "python3"
  },
  "language_info": {
   "codemirror_mode": {
    "name": "ipython",
    "version": 3
   },
   "file_extension": ".py",
   "mimetype": "text/x-python",
   "name": "python",
   "nbconvert_exporter": "python",
   "pygments_lexer": "ipython3",
   "version": "3.9.16"
  }
 },
 "nbformat": 4,
 "nbformat_minor": 5
}
