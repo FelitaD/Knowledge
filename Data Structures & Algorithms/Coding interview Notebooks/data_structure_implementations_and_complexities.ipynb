{
 "cells": [
  {
   "cell_type": "markdown",
   "id": "73c0f6b8-0a1b-4f84-88fa-0de65ec03c8b",
   "metadata": {},
   "source": [
    "## Data structures implementations and complexities"
   ]
  },
  {
   "cell_type": "code",
   "execution_count": 1,
   "id": "8412d53b-c65f-484c-85aa-907b1f6bac30",
   "metadata": {
    "tags": []
   },
   "outputs": [],
   "source": [
    "import array\n",
    "import time"
   ]
  },
  {
   "cell_type": "code",
   "execution_count": 11,
   "id": "5f9f151c-f673-4d8c-a4ce-98d2ef87147a",
   "metadata": {
    "tags": []
   },
   "outputs": [
    {
     "name": "stdout",
     "output_type": "stream",
     "text": [
      "array('i', [1, 2, 5, 4, 5, 6, 7, 8, 9, 10])\n",
      "0.0005676746368408203\n"
     ]
    }
   ],
   "source": [
    "start = time.time()\n",
    "\n",
    "a = array.array('i', [1, 2, 3, 4, 5, 6, 7, 8, 9, 10])\n",
    "a[2] = 5\n",
    "print(a)\n",
    "\n",
    "duration = time.time() - start\n",
    "\n",
    "print(duration)"
   ]
  },
  {
   "cell_type": "code",
   "execution_count": 12,
   "id": "9c9d70cb-8b20-4063-a930-ffab27ac90e3",
   "metadata": {
    "tags": []
   },
   "outputs": [
    {
     "name": "stdout",
     "output_type": "stream",
     "text": [
      "[1, 2, 5, 4, 5, 6, 7, 8, 9, 10]\n",
      "0.0003979206085205078\n"
     ]
    }
   ],
   "source": [
    "start = time.time()\n",
    "\n",
    "a = [1, 2, 3, 4, 5, 6, 7, 8, 9, 10]\n",
    "a[2] = 5\n",
    "print(a)\n",
    "\n",
    "duration = time.time() - start\n",
    "\n",
    "print(duration)"
   ]
  },
  {
   "cell_type": "code",
   "execution_count": null,
   "id": "32401e18-36f7-402c-8120-15f38be8d24a",
   "metadata": {},
   "outputs": [],
   "source": []
  }
 ],
 "metadata": {
  "kernelspec": {
   "display_name": "Python 3 (ipykernel)",
   "language": "python",
   "name": "python3"
  },
  "language_info": {
   "codemirror_mode": {
    "name": "ipython",
    "version": 3
   },
   "file_extension": ".py",
   "mimetype": "text/x-python",
   "name": "python",
   "nbconvert_exporter": "python",
   "pygments_lexer": "ipython3",
   "version": "3.9.16"
  }
 },
 "nbformat": 4,
 "nbformat_minor": 5
}
