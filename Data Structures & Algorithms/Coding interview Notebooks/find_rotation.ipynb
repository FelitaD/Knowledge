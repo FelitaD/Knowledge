{
 "cells": [
  {
   "cell_type": "code",
   "execution_count": 1,
   "id": "ba8f12ab-fa28-458f-a1b7-7e93567eea3d",
   "metadata": {
    "tags": []
   },
   "outputs": [],
   "source": [
    "  words = [\n",
    "    'ptolemaic',\n",
    "    'retrograde',\n",
    "    'supplant',\n",
    "    'undulate',\n",
    "    'xenoepist',\n",
    "    'asymptote',  # <-- rotates here!\n",
    "    'babka',\n",
    "    'banoffee',\n",
    "    'engender',\n",
    "    'karpatka',\n",
    "    'othellolagkage',\n",
    "]"
   ]
  },
  {
   "cell_type": "code",
   "execution_count": 58,
   "id": "0f2f637e-2181-4625-83f6-6201516b1fcb",
   "metadata": {
    "tags": []
   },
   "outputs": [],
   "source": [
    "def find_rotation_point(words):\n",
    "    abc = 'abcdefghijklmnopqrstuvwxyz'\n",
    "    indices = list(range(26))\n",
    "    abcd = dict(zip(abc, indices))\n",
    "\n",
    "    v_min = len(words)\n",
    "    rotation_point = -1\n",
    "    \n",
    "    for i, w in enumerate(words):\n",
    "        for k, v in abcd.items():\n",
    "            # If first letter found in dictionary\n",
    "            if w[0] == k: \n",
    "                # Find the first letter that is earliest in alphabet, with its corresponding index\n",
    "                if v <= v_min:\n",
    "                    print(i, w, k, v)\n",
    "                    v_min = v\n",
    "                    rotation_point = i\n",
    "        \n",
    "    return rotation_point\n",
    "\n",
    "            "
   ]
  },
  {
   "cell_type": "code",
   "execution_count": 59,
   "id": "38e41478-98a9-4b7d-8978-da0f18c1603b",
   "metadata": {
    "tags": []
   },
   "outputs": [
    {
     "name": "stdout",
     "output_type": "stream",
     "text": [
      "5 asymptote a 0\n"
     ]
    },
    {
     "data": {
      "text/plain": [
       "5"
      ]
     },
     "execution_count": 59,
     "metadata": {},
     "output_type": "execute_result"
    }
   ],
   "source": [
    "find_rotation_point(['ptolemaic', 'retrograde', 'supplant',\n",
    "                                      'undulate', 'xenoepist', 'asymptote',\n",
    "                                      'babka', 'banoffee', 'engender',\n",
    "                                      'karpatka', 'othellolagkage'])"
   ]
  },
  {
   "cell_type": "code",
   "execution_count": 61,
   "id": "65a018f4-6bc5-44df-8511-71102746cf41",
   "metadata": {
    "tags": []
   },
   "outputs": [],
   "source": [
    "  def find_rotation_point_2(words):\n",
    "    first_word = words[0]\n",
    "    floor_index = 0\n",
    "    ceiling_index = len(words) - 1\n",
    "\n",
    "    while floor_index < ceiling_index:\n",
    "        # Guess a point halfway between floor and ceiling\n",
    "        guess_index = floor_index + ((ceiling_index - floor_index) // 2)\n",
    "\n",
    "        # If guess comes after first word or is the first word\n",
    "        if words[guess_index] >= first_word:\n",
    "            # Go right\n",
    "            floor_index = guess_index\n",
    "        else:\n",
    "            # Go left\n",
    "            ceiling_index = guess_index\n",
    "\n",
    "        # If floor and ceiling have converged\n",
    "        if floor_index + 1 == ceiling_index:\n",
    "            # Between floor and ceiling is where we flipped to the beginning\n",
    "            # so ceiling is alphabetically first\n",
    "            return ceiling_index"
   ]
  },
  {
   "cell_type": "code",
   "execution_count": 62,
   "id": "63b70319-ca16-41af-9d37-7743044ded1f",
   "metadata": {
    "tags": []
   },
   "outputs": [
    {
     "data": {
      "text/plain": [
       "False"
      ]
     },
     "execution_count": 62,
     "metadata": {},
     "output_type": "execute_result"
    }
   ],
   "source": [
    "'a' > 'b'"
   ]
  },
  {
   "cell_type": "code",
   "execution_count": null,
   "id": "7a6509a5-357f-4889-bad8-a2574e4355ea",
   "metadata": {},
   "outputs": [],
   "source": [
    "def find_rotation_point_3(words):\n",
    "    "
   ]
  }
 ],
 "metadata": {
  "kernelspec": {
   "display_name": "Python 3 (ipykernel)",
   "language": "python",
   "name": "python3"
  },
  "language_info": {
   "codemirror_mode": {
    "name": "ipython",
    "version": 3
   },
   "file_extension": ".py",
   "mimetype": "text/x-python",
   "name": "python",
   "nbconvert_exporter": "python",
   "pygments_lexer": "ipython3",
   "version": "3.9.16"
  }
 },
 "nbformat": 4,
 "nbformat_minor": 5
}
