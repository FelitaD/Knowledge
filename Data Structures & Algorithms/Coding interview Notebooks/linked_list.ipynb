{
 "cells": [
  {
   "cell_type": "code",
   "execution_count": 36,
   "id": "9b537a3a-ffb7-42e3-a063-f6fb82fa72d9",
   "metadata": {
    "tags": []
   },
   "outputs": [],
   "source": [
    "class Node:\n",
    "    def __init__(self, data):\n",
    "        self.data = data\n",
    "        self.next = None\n",
    "\n",
    "class LinkedList:\n",
    "    def __init__(self):\n",
    "        self.head = None\n",
    "\n",
    "    def append(self, data):\n",
    "        new_node = Node(data)\n",
    "        if self.head is None:\n",
    "            self.head = new_node\n",
    "        else:\n",
    "            current = self.head\n",
    "            while current.next is not None:\n",
    "                current = current.next\n",
    "            current.next = new_node\n",
    "\n",
    "    def prepend(self, data):\n",
    "        new_node = Node(data)\n",
    "        new_node.next = self.head\n",
    "        self.head = new_node\n",
    "\n",
    "    def insert_after_node(self, prev_node, data):\n",
    "        if prev_node is None:\n",
    "            print(\"Previous node does not exist.\")\n",
    "            return\n",
    "        new_node = Node(data)\n",
    "        new_node.next = prev_node.next\n",
    "        prev_node.next = new_node\n",
    "\n",
    "    def delete_node(self, data):\n",
    "        current = self.head\n",
    "        if current is not None and current.data == data:\n",
    "            self.head = current.next\n",
    "            current = None\n",
    "            return\n",
    "        prev = None\n",
    "        while current is not None and current.data != data:\n",
    "            prev = current\n",
    "            current = current.next\n",
    "        if current is None:\n",
    "            return\n",
    "        prev.next = current.next\n",
    "        current = None\n",
    "\n",
    "    def display(self):\n",
    "        current = self.head\n",
    "        while current is not None:\n",
    "            print(current.data, end=\" \")\n",
    "            current = current.next\n",
    "        print()\n"
   ]
  },
  {
   "cell_type": "code",
   "execution_count": 37,
   "id": "dc5a1adc-8ac2-4aab-87ea-82660ecb003a",
   "metadata": {
    "tags": []
   },
   "outputs": [
    {
     "name": "stdout",
     "output_type": "stream",
     "text": [
      "5 10 15 20 30 \n",
      "5 10 20 30 \n"
     ]
    }
   ],
   "source": [
    "# Create a new linked list\n",
    "my_list = LinkedList()\n",
    "\n",
    "# Append elements to the list\n",
    "my_list.append(10)\n",
    "my_list.append(20)\n",
    "my_list.append(30)\n",
    "\n",
    "# Prepend an element to the list\n",
    "my_list.prepend(5)\n",
    "\n",
    "# Insert an element after a specific node\n",
    "node = my_list.head.next\n",
    "my_list.insert_after_node(node, 15)\n",
    "\n",
    "# Display the linked list\n",
    "my_list.display()  # Output: 5 10 15 20 30\n",
    "\n",
    "# Delete a node from the list\n",
    "my_list.delete_node(15)\n",
    "\n",
    "# Display the modified linked list\n",
    "my_list.display()  # Output: 5 10 20 30\n"
   ]
  },
  {
   "cell_type": "code",
   "execution_count": null,
   "id": "55fd5f76-1efd-46b5-bf35-7be6196e46f2",
   "metadata": {},
   "outputs": [],
   "source": []
  }
 ],
 "metadata": {
  "kernelspec": {
   "display_name": "Python 3 (ipykernel)",
   "language": "python",
   "name": "python3"
  },
  "language_info": {
   "codemirror_mode": {
    "name": "ipython",
    "version": 3
   },
   "file_extension": ".py",
   "mimetype": "text/x-python",
   "name": "python",
   "nbconvert_exporter": "python",
   "pygments_lexer": "ipython3",
   "version": "3.9.16"
  }
 },
 "nbformat": 4,
 "nbformat_minor": 5
}
