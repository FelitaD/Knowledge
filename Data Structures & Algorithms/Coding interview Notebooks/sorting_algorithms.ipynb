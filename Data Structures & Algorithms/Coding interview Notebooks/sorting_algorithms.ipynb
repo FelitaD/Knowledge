{
 "cells": [
  {
   "cell_type": "code",
   "execution_count": null,
   "id": "ffa3c049-e6cf-4c0d-88c1-4b328a419461",
   "metadata": {
    "tags": []
   },
   "outputs": [],
   "source": [
    "def bubble_sort(my_list):\n",
    "    is_sorted = False\n",
    "    while not is_sorted:\n",
    "        is_sorted = True # will be evaluated in the while after loop exits\n",
    "        for i in range(len(my_list)-1):\n",
    "            if my_list[i] > my_list[i+1]: # while the loop is not in ascending order\n",
    "                my_list[i], my_list[i+1] = my_list[i+1], my_list[i]\n",
    "                print(my_list)\n",
    "                is_sorted = False # the loop will continue\n",
    "    return my_list\n",
    "\n",
    "print(bubble_sort([5, 7, 9, 1, 4, 2]))"
   ]
  },
  {
   "cell_type": "code",
   "execution_count": 3,
   "id": "f69ae898-8378-487f-8523-fb7a0b4bcb27",
   "metadata": {},
   "outputs": [
    {
     "name": "stdout",
     "output_type": "stream",
     "text": [
      "[2, 4, 6, 7, 8, 9]\n"
     ]
    }
   ],
   "source": [
    "def selection_sort(my_list):\n",
    "    for i in range(len(my_list) - 1):\n",
    "        lowest = my_list[i]\n",
    "        lowest_index = i\n",
    "        for j in range(i + 1, len(my_list)):\n",
    "            if my_list[j] < lowest:\n",
    "                lowest_index = j\n",
    "                lowest = my_list[j]\n",
    "        my_list[i] , my_list[lowest_index] = my_list[lowest_index] , my_list[i]\n",
    "    return my_list\n",
    "\n",
    "my_list = [6, 2, 9, 7, 4, 8]\n",
    "selection_sort(my_list)\n",
    "print(my_list)"
   ]
  },
  {
   "cell_type": "code",
   "execution_count": null,
   "id": "c441df5d-f548-47e3-ad37-8787372b4d8a",
   "metadata": {},
   "outputs": [],
   "source": [
    "def merge_sort(my_list):\n",
    "    if len(my_list) > 1:\n",
    "        mid = len(my_list) // 2\n",
    "        left_half = my_list[:mid]\n",
    "        right_half = my_list[mid:]\n",
    "        merge_sort(left_half)\n",
    "        merge_sort(right_half)\n",
    "        \n",
    "        i = j = k = 0\n",
    "        while i < len(left_half) and j < len(right_half):\n",
    "            if left_half[i] < right_half[j]:\n",
    "                my_list[k] = left_half[i]\n",
    "                i += 1\n",
    "            else:\n",
    "                my_list[k] = right_half[j]\n",
    "                j += 1\n",
    "            k += 1\n",
    "            \n",
    "        while i < len(left_half):\n",
    "            my_list[k] = left_half[i]\n",
    "            i += 1\n",
    "            k += 1\n",
    "        while j < len(right_half):\n",
    "            my_list[k] = right_half[j]\n",
    "            j += 1\n",
    "            k += 1\n",
    "\n",
    "my_list = [35,22,90,4,50,20,30,40,1]\n",
    "merge_sort(my_list)\n",
    "print(my_list)"
   ]
  },
  {
   "cell_type": "code",
   "execution_count": null,
   "id": "5676fd3c-ee18-40b0-a516-c154da730e6f",
   "metadata": {},
   "outputs": [],
   "source": [
    "def partition(my_list, first_index, last_index):\n",
    "    pivot = my_list[first_index]\n",
    "    left_pointer = first_index + 1\n",
    "    right_pointer = last_index\n",
    "    while True:\n",
    "        while my_list[left_pointer] < pivot and left_pointer < last_index:\n",
    "            left_pointer += 1\n",
    "        while my_list[right_pointer] > pivot and right_pointer >= first_index:\n",
    "            right_pointer -= 1\n",
    "        if left_pointer >= right_pointer:\n",
    "            break\n",
    "        my_list[left_pointer], my_list[right_pointer] = my_list[right_pointer], my_list[left_pointer]\n",
    "    my_list[first_index], my_list[right_pointer] = my_list[right_pointer], my_list[first_index]\n",
    "    return right_pointer\n",
    "\n",
    "\n",
    "def quicksort(my_list, first_index, last_index):\n",
    "    if first_index < last_index:\n",
    "        partition_index = partition(my_list, first_index, last_index)\n",
    "        quicksort(my_list, first_index, partition_index)\n",
    "        quicksort(my_list, partition_index + 1, last_index)\n",
    "        \n",
    "\n",
    "my_list = [6, 2, 9, 7, 4, 8]\n",
    "quicksort(my_list, 0, len(my_list) - 1)\n",
    "print(my_list)"
   ]
  },
  {
   "cell_type": "code",
   "execution_count": 35,
   "id": "851175b7-ca3f-4e29-aaa2-74ec85332ea6",
   "metadata": {
    "tags": []
   },
   "outputs": [],
   "source": [
    "def qsort(mylist):\n",
    "    if not mylist:\n",
    "        return []\n",
    "    else:\n",
    "        pivot = mylist[0]\n",
    "        qless = qsort([x for x in mylist[1:] if x < pivot])\n",
    "        qmore = qsort([x for x in mylist[1:] if x >= pivot])\n",
    "        return qless + [pivot] + qmore"
   ]
  },
  {
   "cell_type": "code",
   "execution_count": 36,
   "id": "700285ed-eb9b-414d-915d-679cdf6c3856",
   "metadata": {
    "tags": []
   },
   "outputs": [
    {
     "data": {
      "text/plain": [
       "[-2, 0, 1, 3, 4, 5, 6, 6, 9]"
      ]
     },
     "execution_count": 36,
     "metadata": {},
     "output_type": "execute_result"
    }
   ],
   "source": [
    "qsort([6, 3, 9, 1, 0, 4, 6, -2, 5])"
   ]
  },
  {
   "cell_type": "code",
   "execution_count": null,
   "id": "ed832191-16d7-4c6c-a711-ceea53f1bbd0",
   "metadata": {},
   "outputs": [],
   "source": []
  }
 ],
 "metadata": {
  "kernelspec": {
   "display_name": "Python 3 (ipykernel)",
   "language": "python",
   "name": "python3"
  },
  "language_info": {
   "codemirror_mode": {
    "name": "ipython",
    "version": 3
   },
   "file_extension": ".py",
   "mimetype": "text/x-python",
   "name": "python",
   "nbconvert_exporter": "python",
   "pygments_lexer": "ipython3",
   "version": "3.9.16"
  }
 },
 "nbformat": 4,
 "nbformat_minor": 5
}
