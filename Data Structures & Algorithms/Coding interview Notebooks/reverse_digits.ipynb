{
 "cells": [
  {
   "cell_type": "markdown",
   "id": "58ece5a0-29db-4c60-94de-3a58e5c93e00",
   "metadata": {
    "tags": []
   },
   "source": [
    "Given a signed 32-bit integer x, return x with its digits reversed. If reversing x causes the value to go outside the signed 32-bit integer range [-231, 231 - 1], then return 0."
   ]
  },
  {
   "cell_type": "code",
   "execution_count": 1,
   "id": "36ba1b15-cdc6-4f60-b5a1-323e3dfaac03",
   "metadata": {
    "tags": []
   },
   "outputs": [],
   "source": [
    "import queue\n",
    "import re"
   ]
  },
  {
   "cell_type": "code",
   "execution_count": 2,
   "id": "b7784674-4d95-4c0f-8922-0f13de26979b",
   "metadata": {
    "tags": []
   },
   "outputs": [],
   "source": [
    "def reverse(x: int) -> int:\n",
    "    stack = queue.LifoQueue(maxsize=0)\n",
    "\n",
    "    for digit in str(x):\n",
    "        if isinstance(digit, int):\n",
    "            stack.put(digit)\n",
    "            \n",
    "    reversed_list = [stack.get() for i in range(len(str(x)))]\n",
    "    print(reversed_list)\n",
    "\n",
    "    concat_string = ''.join(reversed_list)\n",
    "    if x < 0:\n",
    "        concat_string = '-' + concat_string\n",
    "    reversed_digits = int(concat_string)\n",
    "    \n",
    "    if -2**31 < reversed_digits < 2**31:\n",
    "        return 0\n",
    "    \n",
    "    return reversed_digits\n"
   ]
  },
  {
   "cell_type": "code",
   "execution_count": null,
   "id": "4301c6a0-87c2-4399-88de-60193d009587",
   "metadata": {
    "tags": []
   },
   "outputs": [],
   "source": [
    "reverse(-789)"
   ]
  },
  {
   "cell_type": "code",
   "execution_count": 6,
   "id": "15c8c67e-08c6-45a3-8218-e44f2ff0fa63",
   "metadata": {
    "tags": []
   },
   "outputs": [],
   "source": [
    "def reverse_solution(x: int) -> int:\n",
    "\n",
    "    INTEGER_MIN = -2**31\n",
    "    INTEGER_MAX = 2**31\n",
    "\n",
    "    # convert input integer to string\n",
    "    x_string = str(x)\n",
    "\n",
    "    # reverse the converted string\n",
    "    reversed_x_string = x_string[::-1]\n",
    "    if reversed_x_string.endswith(\"-\"):\n",
    "        reversed_x_string = \"-\" + reversed_x_string[:-1] # move negative sign to the beginning\n",
    "\n",
    "    # convert the reversed string back to a number\n",
    "    number = int(reversed_x_string)\n",
    "\n",
    "    # return 0 if the reversed number is not within 32-bit integer range\n",
    "    if number not in range(INTEGER_MIN, INTEGER_MAX):\n",
    "        return 0\n",
    "\n",
    "    return number"
   ]
  },
  {
   "cell_type": "code",
   "execution_count": 7,
   "id": "cf0cc9f9-c893-45ef-bc09-7edf4c668240",
   "metadata": {
    "tags": []
   },
   "outputs": [
    {
     "data": {
      "text/plain": [
       "987"
      ]
     },
     "execution_count": 7,
     "metadata": {},
     "output_type": "execute_result"
    }
   ],
   "source": [
    "reverse_solution(789)"
   ]
  },
  {
   "cell_type": "code",
   "execution_count": 8,
   "id": "f9f69ffd-db98-4c08-a98b-9191e3b5e6bf",
   "metadata": {
    "tags": []
   },
   "outputs": [
    {
     "data": {
      "text/plain": [
       "'eretcarac'"
      ]
     },
     "execution_count": 8,
     "metadata": {},
     "output_type": "execute_result"
    }
   ],
   "source": [
    "string = 'caractere'\n",
    "string[::-1]"
   ]
  },
  {
   "cell_type": "code",
   "execution_count": null,
   "id": "0ee6eadb-6f93-4dc4-b33f-da4220a82405",
   "metadata": {},
   "outputs": [],
   "source": []
  }
 ],
 "metadata": {
  "kernelspec": {
   "display_name": "Python 3 (ipykernel)",
   "language": "python",
   "name": "python3"
  },
  "language_info": {
   "codemirror_mode": {
    "name": "ipython",
    "version": 3
   },
   "file_extension": ".py",
   "mimetype": "text/x-python",
   "name": "python",
   "nbconvert_exporter": "python",
   "pygments_lexer": "ipython3",
   "version": "3.9.16"
  }
 },
 "nbformat": 4,
 "nbformat_minor": 5
}
