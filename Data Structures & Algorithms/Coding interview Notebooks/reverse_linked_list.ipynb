{
 "cells": [
  {
   "cell_type": "code",
   "execution_count": 6,
   "id": "f5f61e4d-2d2b-4783-b696-513d266c7e51",
   "metadata": {
    "tags": []
   },
   "outputs": [],
   "source": [
    "class Node:\n",
    "    def __init__(self, value):\n",
    "        self.value = value\n",
    "        self.next = None"
   ]
  },
  {
   "cell_type": "code",
   "execution_count": 14,
   "id": "66b7efa4-e9ae-4933-80b6-6efc74e28be2",
   "metadata": {
    "tags": []
   },
   "outputs": [
    {
     "data": {
      "text/plain": []
     },
     "execution_count": 14,
     "metadata": {},
     "output_type": "execute_result"
    }
   ],
   "source": [
    "class LinkedList:\n",
    "    def __init__(self, head=None):\n",
    "        self.head = head\n",
    "        \n",
    "    def __repr__(self):\n",
    "        node = self.head\n",
    "        nodes = []\n",
    "        while node is not None:\n",
    "            nodes.append(node.value)\n",
    "            node = node.next\n",
    "        return ''.join(nodes)\n",
    "        \n",
    "            # node = self.head\n",
    "            # nodes = []\n",
    "            # while node is not None:\n",
    "            #     nodes.append(node.data)\n",
    "            #     node = node.next\n",
    "            # nodes.append(\"None\")\n",
    "            # return \" -> \".join(nodes)\n",
    "ll = LinkedList()\n",
    "ll"
   ]
  },
  {
   "cell_type": "code",
   "execution_count": 15,
   "id": "932531ed-63d1-47d3-9200-ef6d7ea4f274",
   "metadata": {
    "tags": []
   },
   "outputs": [],
   "source": [
    "n1 = Node('value1')\n",
    "n2 = Node('value2')\n",
    "n3 = Node('value3')\n",
    "\n",
    "ll.head = n1\n",
    "n1.next = n2\n",
    "n2.next = n3\n",
    "n3.next"
   ]
  },
  {
   "cell_type": "code",
   "execution_count": 30,
   "id": "b64f8b01-9905-45e3-ac34-2ea598ad4dfc",
   "metadata": {
    "tags": []
   },
   "outputs": [
    {
     "name": "stdout",
     "output_type": "stream",
     "text": [
      "value3\n",
      "\n",
      "value3\n"
     ]
    }
   ],
   "source": [
    "for n in [n1, n2, n3]:\n",
    "    if n.next is None:\n",
    "        print(n.value)\n",
    "        ll.head = n.next\n",
    "        print(ll)\n",
    "        ll.head = n\n",
    "        print(ll)"
   ]
  },
  {
   "cell_type": "code",
   "execution_count": 32,
   "id": "d361c3f2-4cf6-4a22-afd7-8c90bda7bc3f",
   "metadata": {
    "tags": []
   },
   "outputs": [],
   "source": [
    "def reverse(head_of_list):\n",
    "    current_node = head_of_list\n",
    "    previous_node = None\n",
    "    next_node = None\n",
    "\n",
    "    # Until we have 'fallen off' the end of the list\n",
    "    while current_node:\n",
    "        # Copy a pointer to the next element\n",
    "        # before we overwrite current_node.next\n",
    "        next_node = current_node.next\n",
    "\n",
    "        # Reverse the 'next' pointer\n",
    "        current_node.next = previous_node\n",
    "\n",
    "        # Step forward in the list\n",
    "        previous_node = current_node\n",
    "        current_node = next_node\n",
    "\n",
    "    return previous_node"
   ]
  },
  {
   "cell_type": "code",
   "execution_count": null,
   "id": "810d99d0-d26b-435a-82c6-d4f3486fa929",
   "metadata": {},
   "outputs": [],
   "source": []
  }
 ],
 "metadata": {
  "kernelspec": {
   "display_name": "Python 3 (ipykernel)",
   "language": "python",
   "name": "python3"
  },
  "language_info": {
   "codemirror_mode": {
    "name": "ipython",
    "version": 3
   },
   "file_extension": ".py",
   "mimetype": "text/x-python",
   "name": "python",
   "nbconvert_exporter": "python",
   "pygments_lexer": "ipython3",
   "version": "3.9.16"
  }
 },
 "nbformat": 4,
 "nbformat_minor": 5
}
