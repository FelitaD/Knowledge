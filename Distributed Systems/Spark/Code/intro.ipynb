{
 "cells": [
  {
   "cell_type": "code",
   "execution_count": 1,
   "metadata": {
    "collapsed": true
   },
   "outputs": [],
   "source": [
    "from pyspark import SparkContext\n",
    "import pandas as pd\n",
    "from time import time"
   ]
  },
  {
   "cell_type": "code",
   "execution_count": 2,
   "outputs": [
    {
     "name": "stderr",
     "output_type": "stream",
     "text": [
      "22/03/31 07:37:06 WARN Utils: Your hostname, Donors-MacBook-Pro.local resolves to a loopback address: 127.0.0.1; using 192.168.0.2 instead (on interface en0)\n",
      "22/03/31 07:37:06 WARN Utils: Set SPARK_LOCAL_IP if you need to bind to another address\n",
      "Using Spark's default log4j profile: org/apache/spark/log4j-defaults.properties\n",
      "Setting default log level to \"WARN\".\n",
      "To adjust logging level use sc.setLogLevel(newLevel). For SparkR, use setLogLevel(newLevel).\n",
      "22/03/31 07:37:07 WARN NativeCodeLoader: Unable to load native-hadoop library for your platform... using builtin-java classes where applicable\n"
     ]
    }
   ],
   "source": [
    "sc = SparkContext('local')"
   ],
   "metadata": {
    "collapsed": false,
    "pycharm": {
     "name": "#%%\n"
    }
   }
  },
  {
   "cell_type": "code",
   "execution_count": 3,
   "outputs": [],
   "source": [
    "rdd = sc.textFile('alaska_airlines.csv')"
   ],
   "metadata": {
    "collapsed": false,
    "pycharm": {
     "name": "#%%\n"
    }
   }
  },
  {
   "cell_type": "code",
   "execution_count": 4,
   "outputs": [
    {
     "name": "stderr",
     "output_type": "stream",
     "text": [
      "[Stage 0:>                                                          (0 + 1) / 1]\r"
     ]
    },
    {
     "name": "stdout",
     "output_type": "stream",
     "text": [
      "Réalisé en 2.076 secondes\n"
     ]
    },
    {
     "name": "stderr",
     "output_type": "stream",
     "text": [
      "                                                                                \r"
     ]
    }
   ],
   "source": [
    "t0 = time()\n",
    "# rdd = sc.textFile('alaska_airlines.csv')\n",
    "# rdd.take(5000)\n",
    "count = rdd.count()\n",
    "# df = pd.read_csv('alaska_airlines.csv')\n",
    "t1 = time() - t0\n",
    "print(\"Réalisé en {} secondes\".format(round(t1,3)))"
   ],
   "metadata": {
    "collapsed": false,
    "pycharm": {
     "name": "#%%\n"
    }
   }
  },
  {
   "cell_type": "code",
   "execution_count": 5,
   "outputs": [
    {
     "data": {
      "text/plain": "151103"
     },
     "execution_count": 5,
     "metadata": {},
     "output_type": "execute_result"
    }
   ],
   "source": [
    "count"
   ],
   "metadata": {
    "collapsed": false,
    "pycharm": {
     "name": "#%%\n"
    }
   }
  },
  {
   "cell_type": "code",
   "execution_count": 8,
   "outputs": [],
   "source": [
    "airplane_rdd = rdd.map(lambda x: x.split(','))"
   ],
   "metadata": {
    "collapsed": false,
    "pycharm": {
     "name": "#%%\n"
    }
   }
  },
  {
   "cell_type": "code",
   "execution_count": 9,
   "outputs": [
    {
     "data": {
      "text/plain": "[['annee',\n  'mois',\n  'jours',\n  'heure',\n  'x1',\n  'x2',\n  'x3',\n  'x4',\n  'region',\n  'passengers',\n  'flightNum',\n  'y1',\n  'y2',\n  'y3',\n  'y4',\n  'y5',\n  'origin',\n  'dest',\n  'distance',\n  'cancellations',\n  'delay',\n  'cancelled',\n  'z1',\n  'z2',\n  'z3',\n  'z4',\n  'z5']]"
     },
     "execution_count": 9,
     "metadata": {},
     "output_type": "execute_result"
    }
   ],
   "source": [
    "airplane_rdd.take(1)"
   ],
   "metadata": {
    "collapsed": false,
    "pycharm": {
     "name": "#%%\n"
    }
   }
  },
  {
   "cell_type": "markdown",
   "source": [
    "#### Diagramme à barres du nombre de vols effectués par aéroport de départ (8ème variable)"
   ],
   "metadata": {
    "collapsed": false,
    "pycharm": {
     "name": "#%% md\n"
    }
   }
  },
  {
   "cell_type": "code",
   "execution_count": 10,
   "outputs": [
    {
     "name": "stderr",
     "output_type": "stream",
     "text": [
      "/Users/donor/PycharmProjects/Reviews/venv/lib/python3.9/site-packages/pyspark/python/lib/pyspark.zip/pyspark/shuffle.py:60: UserWarning: Please install psutil to have better support with spilling\n",
      "                                                                                \r"
     ]
    },
    {
     "data": {
      "text/plain": "[('origin', 1), ('SEA', 48134), ('SAN', 3958), ('TUS', 444), ('LAX', 7150)]"
     },
     "execution_count": 10,
     "metadata": {},
     "output_type": "execute_result"
    }
   ],
   "source": [
    "hist_rdd = airplane_rdd.map(lambda x: (x[16], 1)).reduceByKey(lambda x,y: x+y)\n",
    "\n",
    "# Affichage d'un 5 premières lignes\n",
    "hist_rdd.take(5)"
   ],
   "metadata": {
    "collapsed": false,
    "pycharm": {
     "name": "#%%\n"
    }
   }
  },
  {
   "cell_type": "code",
   "execution_count": 11,
   "outputs": [
    {
     "data": {
      "text/plain": "[('origin', 1),\n ('SEA', 48134),\n ('SAN', 3958),\n ('TUS', 444),\n ('LAX', 7150),\n ('ANC', 15340),\n ('LAS', 4022),\n ('SJC', 3109),\n ('DFW', 1083),\n ('DEN', 2221),\n ('SFO', 5062),\n ('GEG', 1704),\n ('SMF', 2019),\n ('JNU', 4410),\n ('PDX', 11262),\n ('KTN', 2380),\n ('SNA', 4838),\n ('ONT', 1403),\n ('PSP', 1755),\n ('ADQ', 706),\n ('FAI', 4537),\n ('SIT', 1332),\n ('OAK', 3342),\n ('ORD', 1459),\n ('BUR', 1450),\n ('LGB', 1071),\n ('BOI', 75),\n ('PHX', 3252),\n ('MCO', 968),\n ('HNL', 602),\n ('LIH', 366),\n ('BOS', 984),\n ('RNO', 112),\n ('PSG', 727),\n ('WRG', 727),\n ('EWR', 731),\n ('SCC', 727),\n ('BET', 1035),\n ('CDV', 725),\n ('OME', 1090),\n ('YAK', 725),\n ('BRW', 728),\n ('OTZ', 1086),\n ('DCA', 1093),\n ('MIA', 366),\n ('ADK', 102),\n ('DLG', 116),\n ('AKN', 116),\n ('GST', 85),\n ('OGG', 195),\n ('MSP', 133),\n ('KOA', 45)]"
     },
     "execution_count": 11,
     "metadata": {},
     "output_type": "execute_result"
    }
   ],
   "source": [
    "hist = hist_rdd.collect()\n",
    "hist"
   ],
   "metadata": {
    "collapsed": false,
    "pycharm": {
     "name": "#%%\n"
    }
   }
  },
  {
   "cell_type": "code",
   "execution_count": 12,
   "outputs": [
    {
     "data": {
      "text/plain": "[('SEA', 48134),\n ('ANC', 15340),\n ('PDX', 11262),\n ('LAX', 7150),\n ('SFO', 5062),\n ('SNA', 4838),\n ('FAI', 4537),\n ('JNU', 4410),\n ('LAS', 4022),\n ('SAN', 3958),\n ('OAK', 3342),\n ('PHX', 3252),\n ('SJC', 3109),\n ('KTN', 2380),\n ('DEN', 2221),\n ('SMF', 2019),\n ('PSP', 1755),\n ('GEG', 1704),\n ('ORD', 1459),\n ('BUR', 1450),\n ('ONT', 1403),\n ('SIT', 1332),\n ('DCA', 1093),\n ('OME', 1090),\n ('OTZ', 1086),\n ('DFW', 1083),\n ('LGB', 1071),\n ('BET', 1035),\n ('BOS', 984),\n ('MCO', 968),\n ('EWR', 731),\n ('BRW', 728),\n ('PSG', 727),\n ('WRG', 727),\n ('SCC', 727),\n ('CDV', 725),\n ('YAK', 725),\n ('ADQ', 706),\n ('HNL', 602),\n ('TUS', 444),\n ('LIH', 366),\n ('MIA', 366),\n ('OGG', 195),\n ('MSP', 133),\n ('DLG', 116),\n ('AKN', 116),\n ('RNO', 112),\n ('ADK', 102),\n ('GST', 85),\n ('BOI', 75),\n ('KOA', 45),\n ('origin', 1)]"
     },
     "execution_count": 12,
     "metadata": {},
     "output_type": "execute_result"
    }
   ],
   "source": [
    "sorted(hist, key=lambda x: x[1], reverse=True)"
   ],
   "metadata": {
    "collapsed": false,
    "pycharm": {
     "name": "#%%\n"
    }
   }
  },
  {
   "cell_type": "markdown",
   "source": [
    "#### Nombre de vols annulés par ville d'origine"
   ],
   "metadata": {
    "collapsed": false
   }
  },
  {
   "cell_type": "code",
   "execution_count": 31,
   "outputs": [
    {
     "data": {
      "text/plain": "[('SEA', 3754),\n ('SAN', 341),\n ('TUS', 31),\n ('LAX', 509),\n ('ANC', 1171),\n ('LAS', 361),\n ('SJC', 271),\n ('DFW', 93),\n ('DEN', 186),\n ('SFO', 426),\n ('GEG', 120),\n ('SMF', 141),\n ('JNU', 309),\n ('PDX', 1143),\n ('KTN', 186),\n ('SNA', 511),\n ('ONT', 155),\n ('PSP', 215),\n ('ADQ', 62),\n ('FAI', 403),\n ('SIT', 92),\n ('OAK', 441),\n ('ORD', 124),\n ('BUR', 154),\n ('LGB', 93),\n ('BOI', 14),\n ('PHX', 310),\n ('MCO', 93),\n ('HNL', 62),\n ('LIH', 31),\n ('BOS', 62),\n ('RNO', 26),\n ('PSG', 62),\n ('WRG', 62),\n ('EWR', 62),\n ('SCC', 62),\n ('BET', 88),\n ('CDV', 62),\n ('OME', 92),\n ('YAK', 62),\n ('BRW', 62),\n ('OTZ', 92),\n ('DCA', 93),\n ('MIA', 31),\n ('ADK', 9)]"
     },
     "execution_count": 31,
     "metadata": {},
     "output_type": "execute_result"
    }
   ],
   "source": [
    "airplane_rdd.filter(lambda x: x[1] == \"1\")\\\n",
    "    .map(lambda x: (x[16], 1))\\\n",
    "    .reduceByKey(lambda x,y: x+y)\\\n",
    "    .collect()"
   ],
   "metadata": {
    "collapsed": false,
    "pycharm": {
     "name": "#%%\n"
    }
   }
  },
  {
   "cell_type": "code",
   "execution_count": 32,
   "outputs": [],
   "source": [
    "sc.stop()"
   ],
   "metadata": {
    "collapsed": false,
    "pycharm": {
     "name": "#%%\n"
    }
   }
  },
  {
   "cell_type": "code",
   "execution_count": null,
   "outputs": [],
   "source": [],
   "metadata": {
    "collapsed": false,
    "pycharm": {
     "name": "#%%\n"
    }
   }
  }
 ],
 "metadata": {
  "kernelspec": {
   "display_name": "Python 3",
   "language": "python",
   "name": "python3"
  },
  "language_info": {
   "codemirror_mode": {
    "name": "ipython",
    "version": 2
   },
   "file_extension": ".py",
   "mimetype": "text/x-python",
   "name": "python",
   "nbconvert_exporter": "python",
   "pygments_lexer": "ipython2",
   "version": "2.7.6"
  }
 },
 "nbformat": 4,
 "nbformat_minor": 0
}