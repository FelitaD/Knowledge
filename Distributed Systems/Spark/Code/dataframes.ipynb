{
 "cells": [
  {
   "cell_type": "code",
   "execution_count": 1,
   "metadata": {
    "collapsed": true
   },
   "outputs": [
    {
     "name": "stderr",
     "output_type": "stream",
     "text": [
      "22/03/31 08:07:02 WARN Utils: Your hostname, Donors-MacBook-Pro.local resolves to a loopback address: 127.0.0.1; using 192.168.0.2 instead (on interface en0)\n",
      "22/03/31 08:07:02 WARN Utils: Set SPARK_LOCAL_IP if you need to bind to another address\n",
      "Using Spark's default log4j profile: org/apache/spark/log4j-defaults.properties\n",
      "Setting default log level to \"WARN\".\n",
      "To adjust logging level use sc.setLogLevel(newLevel). For SparkR, use setLogLevel(newLevel).\n",
      "22/03/31 08:07:02 WARN NativeCodeLoader: Unable to load native-hadoop library for your platform... using builtin-java classes where applicable\n",
      "22/03/31 08:07:03 WARN Utils: Service 'SparkUI' could not bind on port 4040. Attempting port 4041.\n"
     ]
    },
    {
     "data": {
      "text/plain": "<pyspark.sql.session.SparkSession at 0x108832eb0>",
      "text/html": "\n            <div>\n                <p><b>SparkSession - in-memory</b></p>\n                \n        <div>\n            <p><b>SparkContext</b></p>\n\n            <p><a href=\"http://192.168.0.2:4041\">Spark UI</a></p>\n\n            <dl>\n              <dt>Version</dt>\n                <dd><code>v3.2.1</code></dd>\n              <dt>Master</dt>\n                <dd><code>local[*]</code></dd>\n              <dt>AppName</dt>\n                <dd><code>pyspark-shell</code></dd>\n            </dl>\n        </div>\n        \n            </div>\n        "
     },
     "execution_count": 1,
     "metadata": {},
     "output_type": "execute_result"
    }
   ],
   "source": [
    "from pyspark.sql import SparkSession, Row\n",
    "from pyspark import SparkContext\n",
    "\n",
    "sc = SparkContext.getOrCreate()\n",
    "\n",
    "spark = SparkSession\\\n",
    "    .builder\\\n",
    "    .master(\"local\")\\\n",
    "    .appName(\"Introduction au DataFrame\")\\\n",
    "    .getOrCreate()\n",
    "\n",
    "spark"
   ]
  },
  {
   "cell_type": "markdown",
   "source": [
    "## Création DataFrame"
   ],
   "metadata": {
    "collapsed": false,
    "pycharm": {
     "name": "#%% md\n"
    }
   }
  },
  {
   "cell_type": "markdown",
   "source": [
    "### Depuis un RDD"
   ],
   "metadata": {
    "collapsed": false,
    "pycharm": {
     "name": "#%% md\n"
    }
   }
  },
  {
   "cell_type": "code",
   "execution_count": 2,
   "outputs": [
    {
     "name": "stderr",
     "output_type": "stream",
     "text": [
      "                                                                                \r"
     ]
    },
    {
     "name": "stdout",
     "output_type": "stream",
     "text": [
      "+-----+----+-----+---------+\n",
      "|annee|mois|jours|flightNum|\n",
      "+-----+----+-----+---------+\n",
      "|    a|   n|    n|        e|\n",
      "|    2|   0|    0|        8|\n",
      "|    2|   0|    0|        8|\n",
      "|    2|   0|    0|        8|\n",
      "|    2|   0|    0|        8|\n",
      "+-----+----+-----+---------+\n",
      "only showing top 5 rows\n",
      "\n"
     ]
    }
   ],
   "source": [
    "rdd = sc.textFile('alaska_airlines.csv')\n",
    "rdd_row = rdd.map(lambda x: Row(annee=x[0], mois=x[1], jours=x[2], flightNum=x[3]))\n",
    "df = spark.createDataFrame(rdd_row)\n",
    "df.show(5)"
   ],
   "metadata": {
    "collapsed": false,
    "pycharm": {
     "name": "#%%\n"
    }
   }
  },
  {
   "cell_type": "markdown",
   "source": [
    "### Depuis un CSV"
   ],
   "metadata": {
    "collapsed": false
   }
  },
  {
   "cell_type": "code",
   "execution_count": 3,
   "outputs": [
    {
     "name": "stdout",
     "output_type": "stream",
     "text": [
      "root\n",
      " |-- annee: string (nullable = true)\n",
      " |-- mois: string (nullable = true)\n",
      " |-- jours: string (nullable = true)\n",
      " |-- heure: string (nullable = true)\n",
      " |-- x1: string (nullable = true)\n",
      " |-- x2: string (nullable = true)\n",
      " |-- x3: string (nullable = true)\n",
      " |-- x4: string (nullable = true)\n",
      " |-- region: string (nullable = true)\n",
      " |-- passengers: string (nullable = true)\n",
      " |-- flightNum: string (nullable = true)\n",
      " |-- y1: string (nullable = true)\n",
      " |-- y2: string (nullable = true)\n",
      " |-- y3: string (nullable = true)\n",
      " |-- y4: string (nullable = true)\n",
      " |-- y5: string (nullable = true)\n",
      " |-- origin: string (nullable = true)\n",
      " |-- dest: string (nullable = true)\n",
      " |-- distance: string (nullable = true)\n",
      " |-- cancellations: string (nullable = true)\n",
      " |-- delay: string (nullable = true)\n",
      " |-- cancelled: string (nullable = true)\n",
      " |-- z1: string (nullable = true)\n",
      " |-- z2: string (nullable = true)\n",
      " |-- z3: string (nullable = true)\n",
      " |-- z4: string (nullable = true)\n",
      " |-- z5: string (nullable = true)\n",
      "\n"
     ]
    },
    {
     "data": {
      "text/plain": "['annee',\n 'mois',\n 'jours',\n 'heure',\n 'x1',\n 'x2',\n 'x3',\n 'x4',\n 'region',\n 'passengers',\n 'flightNum',\n 'y1',\n 'y2',\n 'y3',\n 'y4',\n 'y5',\n 'origin',\n 'dest',\n 'distance',\n 'cancellations',\n 'delay',\n 'cancelled',\n 'z1',\n 'z2',\n 'z3',\n 'z4',\n 'z5']"
     },
     "execution_count": 3,
     "metadata": {},
     "output_type": "execute_result"
    }
   ],
   "source": [
    "raw_df = spark.read.csv('alaska_airlines.csv',header=True)\n",
    "raw_df.printSchema()\n",
    "raw_df.columns"
   ],
   "metadata": {
    "collapsed": false,
    "pycharm": {
     "name": "#%%\n"
    }
   }
  },
  {
   "cell_type": "markdown",
   "source": [
    "## Manipulation"
   ],
   "metadata": {
    "collapsed": false,
    "pycharm": {
     "name": "#%% md\n"
    }
   }
  },
  {
   "cell_type": "code",
   "execution_count": 4,
   "outputs": [
    {
     "name": "stdout",
     "output_type": "stream",
     "text": [
      "+------+----+---------+----+----+----+----+\n",
      "|origin|dest|cancelled|  x1|  x2|  x3|  x4|\n",
      "+------+----+---------+----+----+----+----+\n",
      "|   SEA| SJC|        0|2057|2052|2312|2258|\n",
      "|   SEA| PSP|        0| 703| 715| 958| 951|\n",
      "|   SAN| SEA|        0|2011|1846|2248|2145|\n",
      "|   SEA| GEG|        0|2301|2300|2354|2359|\n",
      "|   TUS| SEA|        0|1221|1221|1422|1438|\n",
      "|   LAX| SEA|        0|1843|1840|2110|2125|\n",
      "|   LAX| SEA|        0|2045|2045|2314|2330|\n",
      "|   ANC| PDX|        0|  49|  50| 547| 523|\n",
      "|   LAS| SEA|        0|1719|1715|1939|1956|\n",
      "|   SJC| SEA|        0| 613| 630| 815| 844|\n",
      "+------+----+---------+----+----+----+----+\n",
      "only showing top 10 rows\n",
      "\n"
     ]
    }
   ],
   "source": [
    "flights_1 = raw_df.select('origin', 'dest', 'cancelled', 'x1','x2','x3','x4')\n",
    "flights_1.show(10)"
   ],
   "metadata": {
    "collapsed": false,
    "pycharm": {
     "name": "#%%\n"
    }
   }
  },
  {
   "cell_type": "code",
   "execution_count": 5,
   "outputs": [
    {
     "name": "stderr",
     "output_type": "stream",
     "text": [
      "                                                                                \r"
     ]
    },
    {
     "data": {
      "text/plain": "51"
     },
     "execution_count": 5,
     "metadata": {},
     "output_type": "execute_result"
    }
   ],
   "source": [
    "raw_df.select('dest').distinct().count()"
   ],
   "metadata": {
    "collapsed": false,
    "pycharm": {
     "name": "#%%\n"
    }
   }
  },
  {
   "cell_type": "code",
   "execution_count": 6,
   "outputs": [
    {
     "name": "stderr",
     "output_type": "stream",
     "text": [
      "[Stage 10:==============>                                           (1 + 3) / 4]\r"
     ]
    },
    {
     "name": "stdout",
     "output_type": "stream",
     "text": [
      "+-------+------+-----+---------+-----+-----+-----+-----+\n",
      "|summary|origin| dest|cancelled|   x1|   x2|   x3|   x4|\n",
      "+-------+------+-----+---------+-----+-----+-----+-----+\n",
      "|  count| 15...|15...|    15...|15...|15...|15...|15...|\n",
      "|   mean|  null| null|    0....|13...|13...|14...|14...|\n",
      "|  st...|  null| null|    0....|51...|50...|53...|52...|\n",
      "|    min|   ADK|  ADK|        0|    1|  100|    1|    1|\n",
      "|    max|   YAK|  YAK|        1|   NA|  958|   NA|  959|\n",
      "+-------+------+-----+---------+-----+-----+-----+-----+\n",
      "\n"
     ]
    },
    {
     "name": "stderr",
     "output_type": "stream",
     "text": [
      "                                                                                \r"
     ]
    }
   ],
   "source": [
    "flights_1.describe().show(truncate = 5)"
   ],
   "metadata": {
    "collapsed": false,
    "pycharm": {
     "name": "#%%\n"
    }
   }
  },
  {
   "cell_type": "code",
   "execution_count": 7,
   "outputs": [
    {
     "name": "stderr",
     "output_type": "stream",
     "text": [
      "                                                                                \r"
     ]
    },
    {
     "data": {
      "text/plain": "  summary  origin    dest             cancelled                  x1  \\\n0   count  151102  151102                151102              151102   \n1    mean    None    None  0.014156000582388056  1333.6065953390969   \n2  stddev    None    None   0.11813424816440472   511.2859647572253   \n3     min     ADK     ADK                     0                   1   \n4     max     YAK     YAK                     1                  NA   \n\n                   x2                  x3                  x4  \n0              151102              151102              151102  \n1  1332.4152956281187  1480.4079392005601  1489.5053209090547  \n2   500.7152101927607   539.9724262180633   525.0600265528899  \n3                 100                   1                   1  \n4                 958                  NA                 959  ",
      "text/html": "<div>\n<style scoped>\n    .dataframe tbody tr th:only-of-type {\n        vertical-align: middle;\n    }\n\n    .dataframe tbody tr th {\n        vertical-align: top;\n    }\n\n    .dataframe thead th {\n        text-align: right;\n    }\n</style>\n<table border=\"1\" class=\"dataframe\">\n  <thead>\n    <tr style=\"text-align: right;\">\n      <th></th>\n      <th>summary</th>\n      <th>origin</th>\n      <th>dest</th>\n      <th>cancelled</th>\n      <th>x1</th>\n      <th>x2</th>\n      <th>x3</th>\n      <th>x4</th>\n    </tr>\n  </thead>\n  <tbody>\n    <tr>\n      <th>0</th>\n      <td>count</td>\n      <td>151102</td>\n      <td>151102</td>\n      <td>151102</td>\n      <td>151102</td>\n      <td>151102</td>\n      <td>151102</td>\n      <td>151102</td>\n    </tr>\n    <tr>\n      <th>1</th>\n      <td>mean</td>\n      <td>None</td>\n      <td>None</td>\n      <td>0.014156000582388056</td>\n      <td>1333.6065953390969</td>\n      <td>1332.4152956281187</td>\n      <td>1480.4079392005601</td>\n      <td>1489.5053209090547</td>\n    </tr>\n    <tr>\n      <th>2</th>\n      <td>stddev</td>\n      <td>None</td>\n      <td>None</td>\n      <td>0.11813424816440472</td>\n      <td>511.2859647572253</td>\n      <td>500.7152101927607</td>\n      <td>539.9724262180633</td>\n      <td>525.0600265528899</td>\n    </tr>\n    <tr>\n      <th>3</th>\n      <td>min</td>\n      <td>ADK</td>\n      <td>ADK</td>\n      <td>0</td>\n      <td>1</td>\n      <td>100</td>\n      <td>1</td>\n      <td>1</td>\n    </tr>\n    <tr>\n      <th>4</th>\n      <td>max</td>\n      <td>YAK</td>\n      <td>YAK</td>\n      <td>1</td>\n      <td>NA</td>\n      <td>958</td>\n      <td>NA</td>\n      <td>959</td>\n    </tr>\n  </tbody>\n</table>\n</div>"
     },
     "execution_count": 7,
     "metadata": {},
     "output_type": "execute_result"
    }
   ],
   "source": [
    "flights_1.describe().toPandas()"
   ],
   "metadata": {
    "collapsed": false,
    "pycharm": {
     "name": "#%%\n"
    }
   }
  },
  {
   "cell_type": "code",
   "execution_count": 8,
   "outputs": [
    {
     "name": "stderr",
     "output_type": "stream",
     "text": [
      "[Stage 16:==============>                                           (1 + 3) / 4]\r"
     ]
    },
    {
     "name": "stdout",
     "output_type": "stream",
     "text": [
      "+------+----+-----+\n",
      "|origin|dest|count|\n",
      "+------+----+-----+\n",
      "|   WRG| PSG|  364|\n",
      "|   ADQ| ANC|  706|\n",
      "|   SEA| RNO|  112|\n",
      "|   SCC| BRW|  364|\n",
      "|   DEN| SEA| 1422|\n",
      "|   RNO| SEA|  112|\n",
      "|   PSP| SEA|  664|\n",
      "|   DFW| SEA| 1083|\n",
      "|   SJC| PDX|  964|\n",
      "|   SEA| LAX| 4681|\n",
      "|   SNA| PDX| 1418|\n",
      "|   SIT| JNU|  740|\n",
      "|   PDX| PHX| 1081|\n",
      "|   SMF| PDX|  102|\n",
      "|   ANC| ADK|  102|\n",
      "|   FAI| ANC| 2853|\n",
      "|   PDX| SFO|  833|\n",
      "|   ANC| OME|  365|\n",
      "|   BOS| SEA|  618|\n",
      "|   KTN| WRG|  364|\n",
      "+------+----+-----+\n",
      "only showing top 20 rows\n",
      "\n"
     ]
    },
    {
     "name": "stderr",
     "output_type": "stream",
     "text": [
      "                                                                                \r"
     ]
    }
   ],
   "source": [
    "# flights_1.groupBy('origin').count().show()\n",
    "flights_1.groupBy('origin', 'dest').count().show()"
   ],
   "metadata": {
    "collapsed": false,
    "pycharm": {
     "name": "#%%\n"
    }
   }
  },
  {
   "cell_type": "code",
   "execution_count": 9,
   "outputs": [
    {
     "name": "stdout",
     "output_type": "stream",
     "text": [
      "+------+----+---------+----+----+----+----+\n",
      "|origin|dest|cancelled|  x1|  x2|  x3|  x4|\n",
      "+------+----+---------+----+----+----+----+\n",
      "|   ADQ| ANC|        0|1816|1817|1904|1910|\n",
      "|   ADQ| ANC|        0| 845| 853| 936| 948|\n",
      "|   ADQ| ANC|        0| 839| 853| 929| 948|\n",
      "|   ADQ| ANC|        0|1810|1817|1900|1910|\n",
      "|   ADQ| ANC|        0|1820|1817|1913|1910|\n",
      "|   ADQ| ANC|        0| 856| 853| 949| 948|\n",
      "|   ADQ| ANC|        1|  NA|1817|  NA|1910|\n",
      "|   ADQ| ANC|        0| 845| 853| 935| 948|\n",
      "|   ADQ| ANC|        0| 906| 853|1001| 948|\n",
      "|   ADQ| ANC|        0|1904|1817|1956|1910|\n",
      "|   ADQ| ANC|        0|1819|1817|1915|1910|\n",
      "|   ADQ| ANC|        0| 843| 853| 938| 948|\n",
      "|   ADQ| ANC|        0| 855| 853| 945| 948|\n",
      "|   ADQ| ANC|        0|1811|1817|1902|1910|\n",
      "|   ADQ| ANC|        0|1817|1817|1911|1910|\n",
      "|   ADQ| ANC|        0| 844| 853| 932| 948|\n",
      "|   ADQ| ANC|        0|2102|1817|2151|1910|\n",
      "|   ADQ| ANC|        0| 839| 853| 928| 948|\n",
      "|   ADQ| ANC|        0|1840|1817|1928|1910|\n",
      "|   ADQ| ANC|        0| 940| 853|1035| 948|\n",
      "+------+----+---------+----+----+----+----+\n",
      "only showing top 20 rows\n",
      "\n"
     ]
    }
   ],
   "source": [
    "flights_1.filter(flights_1.origin == 'ADQ').show()"
   ],
   "metadata": {
    "collapsed": false,
    "pycharm": {
     "name": "#%%\n"
    }
   }
  },
  {
   "cell_type": "markdown",
   "source": [
    "## Création et aggrégation de variables"
   ],
   "metadata": {
    "collapsed": false,
    "pycharm": {
     "name": "#%% md\n"
    }
   }
  },
  {
   "cell_type": "code",
   "execution_count": 10,
   "outputs": [
    {
     "name": "stdout",
     "output_type": "stream",
     "text": [
      "+--------+------------+\n",
      "|distance|isLongFlight|\n",
      "+--------+------------+\n",
      "|     697|       false|\n",
      "|     987|       false|\n",
      "|    1050|        true|\n",
      "|     224|       false|\n",
      "|    1216|        true|\n",
      "|     954|       false|\n",
      "|     954|       false|\n",
      "|    1542|        true|\n",
      "|     866|       false|\n",
      "|     697|       false|\n",
      "+--------+------------+\n",
      "only showing top 10 rows\n",
      "\n"
     ]
    }
   ],
   "source": [
    "raw_df.withColumn('isLongFlight', raw_df.distance > 1000).select('distance', 'isLongFlight').show(10)"
   ],
   "metadata": {
    "collapsed": false,
    "pycharm": {
     "name": "#%%\n"
    }
   }
  },
  {
   "cell_type": "markdown",
   "source": [
    "## Valeurs manquantes"
   ],
   "metadata": {
    "collapsed": false,
    "pycharm": {
     "name": "#%% md\n"
    }
   }
  },
  {
   "cell_type": "code",
   "execution_count": 11,
   "outputs": [
    {
     "name": "stdout",
     "output_type": "stream",
     "text": [
      "+-----+----+-----+-----+----+----+----+----+------+----------+---------+---+---+---+---+---+------+----+--------+-------------+-----+---------+-----------+---+---+---+---+\n",
      "|annee|mois|jours|heure|  x1|  x2|  x3|  x4|region|passengers|flightNum| y1| y2| y3| y4| y5|origin|dest|distance|cancellations|delay|cancelled|         z1| z2| z3| z4| z5|\n",
      "+-----+----+-----+-----+----+----+----+----+------+----------+---------+---+---+---+---+---+------+----+--------+-------------+-----+---------+-----------+---+---+---+---+\n",
      "| 2008|   1|    1|    2|2057|2052|2312|2258|    AS|       324|   N306AS|135|126|112| 14|  5|   SEA| SJC|     697|            7|   16|        0|White Tiger|  0| NA| NA| NA|\n",
      "| 2008|   1|    1|    2| 703| 715| 958| 951|    AS|       572|   N302AS|175|156|144|  7|-12|   SEA| PSP|     987|            6|   25|        0|White Tiger|  0| NA| NA| NA|\n",
      "| 2008|   1|    1|    2|2011|1846|2248|2145|    AS|       511|   N564AS|157|179|136| 63| 85|   SAN| SEA|    1050|            7|   14|        0|White Tiger|  0|  0|  0|  0|\n",
      "| 2008|   1|    1|    2|2301|2300|2354|2359|    AS|       376|   N309AS| 53| 59| 35| -5|  1|   SEA| GEG|     224|            5|   13|        0|White Tiger|  0| NA| NA| NA|\n",
      "| 2008|   1|    1|    2|1221|1221|1422|1438|    AS|       729|   N317AS|181|197|164|-16|  0|   TUS| SEA|    1216|            6|   11|        0|White Tiger|  0| NA| NA| NA|\n",
      "| 2008|   1|    1|    2|1843|1840|2110|2125|    AS|       283|   N318AS|147|165|124|-15|  3|   LAX| SEA|     954|            7|   16|        0|White Tiger|  0| NA| NA| NA|\n",
      "| 2008|   1|    1|    2|2045|2045|2314|2330|    AS|       211|   N305AS|149|165|126|-16|  0|   LAX| SEA|     954|            6|   17|        0|White Tiger|  0| NA| NA| NA|\n",
      "| 2008|   1|    1|    2|  49|  50| 547| 523|    AS|       100|   N315AS|238|213|222| 24| -1|   ANC| PDX|    1542|            2|   14|        0|White Tiger|  0|  0|  0| 24|\n",
      "| 2008|   1|    1|    2|1719|1715|1939|1956|    AS|       665|   N302AS|140|161|118|-17|  4|   LAS| SEA|     866|            8|   14|        0|White Tiger|  0| NA| NA| NA|\n",
      "| 2008|   1|    1|    2| 613| 630| 815| 844|    AS|       531|   N755AS|122|134| 96|-29|-17|   SJC| SEA|     697|            7|   19|        0|White Tiger|  0| NA| NA| NA|\n",
      "+-----+----+-----+-----+----+----+----+----+------+----------+---------+---+---+---+---+---+------+----+--------+-------------+-----+---------+-----------+---+---+---+---+\n",
      "only showing top 10 rows\n",
      "\n"
     ]
    },
    {
     "name": "stderr",
     "output_type": "stream",
     "text": [
      "22/03/31 08:15:39 WARN package: Truncated the string representation of a plan since it was too large. This behavior can be adjusted by setting 'spark.sql.debug.maxToStringFields'.\n"
     ]
    }
   ],
   "source": [
    "raw_df.fillna('White Tiger', 'z1').show(10)"
   ],
   "metadata": {
    "collapsed": false,
    "pycharm": {
     "name": "#%%\n"
    }
   }
  },
  {
   "cell_type": "code",
   "execution_count": 12,
   "outputs": [
    {
     "data": {
      "text/plain": "DataFrame[annee: string, mois: string, jours: string, heure: string, x1: string, x2: string, x3: string, x4: string, region: string, passengers: string, flightNum: string, y1: string, y2: string, y3: string, y4: string, y5: string, origin: string, dest: string, distance: string, cancellations: string, delay: string, cancelled: string, z1: string, z2: string, z3: string, z4: string, z5: string]"
     },
     "execution_count": 12,
     "metadata": {},
     "output_type": "execute_result"
    }
   ],
   "source": [
    "raw_df.replace(['AS', 'TUS'], ['as', 'tus'])"
   ],
   "metadata": {
    "collapsed": false,
    "pycharm": {
     "name": "#%%\n"
    }
   }
  },
  {
   "cell_type": "markdown",
   "source": [
    "## Requêtes SQL"
   ],
   "metadata": {
    "collapsed": false,
    "pycharm": {
     "name": "#%% md\n"
    }
   }
  },
  {
   "cell_type": "code",
   "execution_count": 47,
   "outputs": [
    {
     "name": "stdout",
     "output_type": "stream",
     "text": [
      "+------+----+\n",
      "|origin|dest|\n",
      "+------+----+\n",
      "|   SEA| SJC|\n",
      "|   SEA| PSP|\n",
      "|   SAN| SEA|\n",
      "|   SEA| GEG|\n",
      "|   TUS| SEA|\n",
      "|   LAX| SEA|\n",
      "|   LAX| SEA|\n",
      "|   ANC| PDX|\n",
      "|   LAS| SEA|\n",
      "|   SJC| SEA|\n",
      "+------+----+\n",
      "only showing top 10 rows\n",
      "\n"
     ]
    }
   ],
   "source": [
    "raw_df.createOrReplaceTempView('flightsView')\n",
    "sqlDF = spark.sql('SELECT origin, dest FROM flightsView')\n",
    "sqlDF.show(10)"
   ],
   "metadata": {
    "collapsed": false,
    "pycharm": {
     "name": "#%%\n"
    }
   }
  },
  {
   "cell_type": "markdown",
   "source": [
    "## Sample et astuces d'affichage"
   ],
   "metadata": {
    "collapsed": false,
    "pycharm": {
     "name": "#%% md\n"
    }
   }
  },
  {
   "cell_type": "code",
   "execution_count": 52,
   "outputs": [
    {
     "data": {
      "text/plain": "   annee mois jours heure    x1    x2    x3    x4 region passengers  ... dest  \\\n0   2008    3     7     5  1152  1214  1240  1301     AS         61  ...  CDV   \n1   2008    3    13     4  1007   945  1210  1151     AS        386  ...  OAK   \n2   2008    3    22     6  1212  1215  1402  1358     AS        312  ...  SJC   \n3   2008    4     7     1  1932  1942  2130  2143     AS        541  ...  SEA   \n4   2008    4    15     2   604   610   848   855     AS        712  ...  PHX   \n5   2008    6    15     7   710   715   935   944     AS        582  ...  SNA   \n6   2008    6    19     4  2204  2210    38    59     AS        133  ...  ANC   \n7   2008    7    14     1  1342  1348  1656  1707     AS         76  ...  SEA   \n8   2008    7    21     1  1351  1345  1539  1530     AS        402  ...  SJC   \n9   2008    8    15     5   659   700   937   948     AS        494  ...  SAN   \n10  2008    9     6     6  1136  1141  1220  1230     AS         61  ...  CDV   \n11  2008    9    16     2   913   915  1116  1200     AS          5  ...  LAX   \n12  2008    9    22     1  1608  1610  1900  1933     AS        853  ...  LIH   \n13  2008    9    29     1  1511  1445  1610  1550     AS        162  ...  AKN   \n14  2008   11    11     2  1049  1100  1306  1336     AS        484  ...  SAN   \n15  2008   11    21     5   644   700   813   834     AS        301  ...  SFO   \n\n   distance cancellations delay cancelled    z1 z2  z3  z4  z5  \n0       213             5     7         0  None  0  NA  NA  NA  \n1       671             5    16         0  None  0  19   0   0  \n2       569             6    17         0  None  0  NA  NA  NA  \n3       671             4     9         0  None  0  NA  NA  NA  \n4      1107             6    18         0  None  0  NA  NA  NA  \n5       859             5    10         0  None  0  NA  NA  NA  \n6      1542             4    16         0  None  0  NA  NA  NA  \n7       909             8    11         0  None  0  NA  NA  NA  \n8       569             4    14         0  None  0  NA  NA  NA  \n9      1050             6    10         0  None  0  NA  NA  NA  \n10      213             3     9         0  None  0  NA  NA  NA  \n11     2311             8    10         0  None  0  NA  NA  NA  \n12     2701             5     9         0  None  0  NA  NA  NA  \n13      289             4     8         0  None  0  20   0   0  \n14     1050             3    16         0  None  0  NA  NA  NA  \n15      421             5    16         0  None  0  NA  NA  NA  \n\n[16 rows x 27 columns]",
      "text/html": "<div>\n<style scoped>\n    .dataframe tbody tr th:only-of-type {\n        vertical-align: middle;\n    }\n\n    .dataframe tbody tr th {\n        vertical-align: top;\n    }\n\n    .dataframe thead th {\n        text-align: right;\n    }\n</style>\n<table border=\"1\" class=\"dataframe\">\n  <thead>\n    <tr style=\"text-align: right;\">\n      <th></th>\n      <th>annee</th>\n      <th>mois</th>\n      <th>jours</th>\n      <th>heure</th>\n      <th>x1</th>\n      <th>x2</th>\n      <th>x3</th>\n      <th>x4</th>\n      <th>region</th>\n      <th>passengers</th>\n      <th>...</th>\n      <th>dest</th>\n      <th>distance</th>\n      <th>cancellations</th>\n      <th>delay</th>\n      <th>cancelled</th>\n      <th>z1</th>\n      <th>z2</th>\n      <th>z3</th>\n      <th>z4</th>\n      <th>z5</th>\n    </tr>\n  </thead>\n  <tbody>\n    <tr>\n      <th>0</th>\n      <td>2008</td>\n      <td>3</td>\n      <td>7</td>\n      <td>5</td>\n      <td>1152</td>\n      <td>1214</td>\n      <td>1240</td>\n      <td>1301</td>\n      <td>AS</td>\n      <td>61</td>\n      <td>...</td>\n      <td>CDV</td>\n      <td>213</td>\n      <td>5</td>\n      <td>7</td>\n      <td>0</td>\n      <td>None</td>\n      <td>0</td>\n      <td>NA</td>\n      <td>NA</td>\n      <td>NA</td>\n    </tr>\n    <tr>\n      <th>1</th>\n      <td>2008</td>\n      <td>3</td>\n      <td>13</td>\n      <td>4</td>\n      <td>1007</td>\n      <td>945</td>\n      <td>1210</td>\n      <td>1151</td>\n      <td>AS</td>\n      <td>386</td>\n      <td>...</td>\n      <td>OAK</td>\n      <td>671</td>\n      <td>5</td>\n      <td>16</td>\n      <td>0</td>\n      <td>None</td>\n      <td>0</td>\n      <td>19</td>\n      <td>0</td>\n      <td>0</td>\n    </tr>\n    <tr>\n      <th>2</th>\n      <td>2008</td>\n      <td>3</td>\n      <td>22</td>\n      <td>6</td>\n      <td>1212</td>\n      <td>1215</td>\n      <td>1402</td>\n      <td>1358</td>\n      <td>AS</td>\n      <td>312</td>\n      <td>...</td>\n      <td>SJC</td>\n      <td>569</td>\n      <td>6</td>\n      <td>17</td>\n      <td>0</td>\n      <td>None</td>\n      <td>0</td>\n      <td>NA</td>\n      <td>NA</td>\n      <td>NA</td>\n    </tr>\n    <tr>\n      <th>3</th>\n      <td>2008</td>\n      <td>4</td>\n      <td>7</td>\n      <td>1</td>\n      <td>1932</td>\n      <td>1942</td>\n      <td>2130</td>\n      <td>2143</td>\n      <td>AS</td>\n      <td>541</td>\n      <td>...</td>\n      <td>SEA</td>\n      <td>671</td>\n      <td>4</td>\n      <td>9</td>\n      <td>0</td>\n      <td>None</td>\n      <td>0</td>\n      <td>NA</td>\n      <td>NA</td>\n      <td>NA</td>\n    </tr>\n    <tr>\n      <th>4</th>\n      <td>2008</td>\n      <td>4</td>\n      <td>15</td>\n      <td>2</td>\n      <td>604</td>\n      <td>610</td>\n      <td>848</td>\n      <td>855</td>\n      <td>AS</td>\n      <td>712</td>\n      <td>...</td>\n      <td>PHX</td>\n      <td>1107</td>\n      <td>6</td>\n      <td>18</td>\n      <td>0</td>\n      <td>None</td>\n      <td>0</td>\n      <td>NA</td>\n      <td>NA</td>\n      <td>NA</td>\n    </tr>\n    <tr>\n      <th>5</th>\n      <td>2008</td>\n      <td>6</td>\n      <td>15</td>\n      <td>7</td>\n      <td>710</td>\n      <td>715</td>\n      <td>935</td>\n      <td>944</td>\n      <td>AS</td>\n      <td>582</td>\n      <td>...</td>\n      <td>SNA</td>\n      <td>859</td>\n      <td>5</td>\n      <td>10</td>\n      <td>0</td>\n      <td>None</td>\n      <td>0</td>\n      <td>NA</td>\n      <td>NA</td>\n      <td>NA</td>\n    </tr>\n    <tr>\n      <th>6</th>\n      <td>2008</td>\n      <td>6</td>\n      <td>19</td>\n      <td>4</td>\n      <td>2204</td>\n      <td>2210</td>\n      <td>38</td>\n      <td>59</td>\n      <td>AS</td>\n      <td>133</td>\n      <td>...</td>\n      <td>ANC</td>\n      <td>1542</td>\n      <td>4</td>\n      <td>16</td>\n      <td>0</td>\n      <td>None</td>\n      <td>0</td>\n      <td>NA</td>\n      <td>NA</td>\n      <td>NA</td>\n    </tr>\n    <tr>\n      <th>7</th>\n      <td>2008</td>\n      <td>7</td>\n      <td>14</td>\n      <td>1</td>\n      <td>1342</td>\n      <td>1348</td>\n      <td>1656</td>\n      <td>1707</td>\n      <td>AS</td>\n      <td>76</td>\n      <td>...</td>\n      <td>SEA</td>\n      <td>909</td>\n      <td>8</td>\n      <td>11</td>\n      <td>0</td>\n      <td>None</td>\n      <td>0</td>\n      <td>NA</td>\n      <td>NA</td>\n      <td>NA</td>\n    </tr>\n    <tr>\n      <th>8</th>\n      <td>2008</td>\n      <td>7</td>\n      <td>21</td>\n      <td>1</td>\n      <td>1351</td>\n      <td>1345</td>\n      <td>1539</td>\n      <td>1530</td>\n      <td>AS</td>\n      <td>402</td>\n      <td>...</td>\n      <td>SJC</td>\n      <td>569</td>\n      <td>4</td>\n      <td>14</td>\n      <td>0</td>\n      <td>None</td>\n      <td>0</td>\n      <td>NA</td>\n      <td>NA</td>\n      <td>NA</td>\n    </tr>\n    <tr>\n      <th>9</th>\n      <td>2008</td>\n      <td>8</td>\n      <td>15</td>\n      <td>5</td>\n      <td>659</td>\n      <td>700</td>\n      <td>937</td>\n      <td>948</td>\n      <td>AS</td>\n      <td>494</td>\n      <td>...</td>\n      <td>SAN</td>\n      <td>1050</td>\n      <td>6</td>\n      <td>10</td>\n      <td>0</td>\n      <td>None</td>\n      <td>0</td>\n      <td>NA</td>\n      <td>NA</td>\n      <td>NA</td>\n    </tr>\n    <tr>\n      <th>10</th>\n      <td>2008</td>\n      <td>9</td>\n      <td>6</td>\n      <td>6</td>\n      <td>1136</td>\n      <td>1141</td>\n      <td>1220</td>\n      <td>1230</td>\n      <td>AS</td>\n      <td>61</td>\n      <td>...</td>\n      <td>CDV</td>\n      <td>213</td>\n      <td>3</td>\n      <td>9</td>\n      <td>0</td>\n      <td>None</td>\n      <td>0</td>\n      <td>NA</td>\n      <td>NA</td>\n      <td>NA</td>\n    </tr>\n    <tr>\n      <th>11</th>\n      <td>2008</td>\n      <td>9</td>\n      <td>16</td>\n      <td>2</td>\n      <td>913</td>\n      <td>915</td>\n      <td>1116</td>\n      <td>1200</td>\n      <td>AS</td>\n      <td>5</td>\n      <td>...</td>\n      <td>LAX</td>\n      <td>2311</td>\n      <td>8</td>\n      <td>10</td>\n      <td>0</td>\n      <td>None</td>\n      <td>0</td>\n      <td>NA</td>\n      <td>NA</td>\n      <td>NA</td>\n    </tr>\n    <tr>\n      <th>12</th>\n      <td>2008</td>\n      <td>9</td>\n      <td>22</td>\n      <td>1</td>\n      <td>1608</td>\n      <td>1610</td>\n      <td>1900</td>\n      <td>1933</td>\n      <td>AS</td>\n      <td>853</td>\n      <td>...</td>\n      <td>LIH</td>\n      <td>2701</td>\n      <td>5</td>\n      <td>9</td>\n      <td>0</td>\n      <td>None</td>\n      <td>0</td>\n      <td>NA</td>\n      <td>NA</td>\n      <td>NA</td>\n    </tr>\n    <tr>\n      <th>13</th>\n      <td>2008</td>\n      <td>9</td>\n      <td>29</td>\n      <td>1</td>\n      <td>1511</td>\n      <td>1445</td>\n      <td>1610</td>\n      <td>1550</td>\n      <td>AS</td>\n      <td>162</td>\n      <td>...</td>\n      <td>AKN</td>\n      <td>289</td>\n      <td>4</td>\n      <td>8</td>\n      <td>0</td>\n      <td>None</td>\n      <td>0</td>\n      <td>20</td>\n      <td>0</td>\n      <td>0</td>\n    </tr>\n    <tr>\n      <th>14</th>\n      <td>2008</td>\n      <td>11</td>\n      <td>11</td>\n      <td>2</td>\n      <td>1049</td>\n      <td>1100</td>\n      <td>1306</td>\n      <td>1336</td>\n      <td>AS</td>\n      <td>484</td>\n      <td>...</td>\n      <td>SAN</td>\n      <td>1050</td>\n      <td>3</td>\n      <td>16</td>\n      <td>0</td>\n      <td>None</td>\n      <td>0</td>\n      <td>NA</td>\n      <td>NA</td>\n      <td>NA</td>\n    </tr>\n    <tr>\n      <th>15</th>\n      <td>2008</td>\n      <td>11</td>\n      <td>21</td>\n      <td>5</td>\n      <td>644</td>\n      <td>700</td>\n      <td>813</td>\n      <td>834</td>\n      <td>AS</td>\n      <td>301</td>\n      <td>...</td>\n      <td>SFO</td>\n      <td>421</td>\n      <td>5</td>\n      <td>16</td>\n      <td>0</td>\n      <td>None</td>\n      <td>0</td>\n      <td>NA</td>\n      <td>NA</td>\n      <td>NA</td>\n    </tr>\n  </tbody>\n</table>\n<p>16 rows × 27 columns</p>\n</div>"
     },
     "execution_count": 52,
     "metadata": {},
     "output_type": "execute_result"
    }
   ],
   "source": [
    "raw_df.sample(withReplacement=False, fraction=.0001, seed=21).toPandas()"
   ],
   "metadata": {
    "collapsed": false,
    "pycharm": {
     "name": "#%%\n"
    }
   }
  },
  {
   "cell_type": "code",
   "execution_count": 53,
   "outputs": [],
   "source": [
    "sc.stop()"
   ],
   "metadata": {
    "collapsed": false,
    "pycharm": {
     "name": "#%%\n"
    }
   }
  },
  {
   "cell_type": "code",
   "execution_count": null,
   "outputs": [],
   "source": [],
   "metadata": {
    "collapsed": false,
    "pycharm": {
     "name": "#%%\n"
    }
   }
  }
 ],
 "metadata": {
  "kernelspec": {
   "display_name": "Python 3",
   "language": "python",
   "name": "python3"
  },
  "language_info": {
   "codemirror_mode": {
    "name": "ipython",
    "version": 2
   },
   "file_extension": ".py",
   "mimetype": "text/x-python",
   "name": "python",
   "nbconvert_exporter": "python",
   "pygments_lexer": "ipython2",
   "version": "2.7.6"
  }
 },
 "nbformat": 4,
 "nbformat_minor": 0
}