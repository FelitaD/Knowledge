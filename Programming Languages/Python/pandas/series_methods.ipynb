{
 "cells": [
  {
   "cell_type": "code",
   "execution_count": 1,
   "metadata": {
    "collapsed": true,
    "jupyter": {
     "outputs_hidden": true
    }
   },
   "outputs": [],
   "source": [
    "import pandas as pd\n",
    "import numpy as np\n",
    "import json\n",
    "import re"
   ]
  },
  {
   "cell_type": "code",
   "execution_count": 2,
   "metadata": {
    "collapsed": false,
    "jupyter": {
     "outputs_hidden": false
    },
    "pycharm": {
     "name": "#%%\n"
    }
   },
   "outputs": [],
   "source": [
    "file = '/Users/donor/PycharmProjects/Personal/Cuisine/playwright_scrapy/output.json'\n",
    "with open(file) as f:\n",
    "    output_scrapy = json.load(f)\n",
    "\n",
    "recipes = pd.DataFrame()\n",
    "for item in output_scrapy:\n",
    "    df = pd.DataFrame(data={'title': item['title'], 'ingredients': item['ingredients']})\n",
    "    recipes = recipes.append(df)\n",
    "\n",
    "recipes.reset_index(drop=True, inplace=True)"
   ]
  },
  {
   "cell_type": "markdown",
   "metadata": {},
   "source": [
    "#### [pd.Series.str.replace(pat, repl, n=-1)](https://pandas.pydata.org/docs/reference/api/pandas.Series.str.replace.html)"
   ]
  },
  {
   "cell_type": "code",
   "execution_count": 3,
   "metadata": {
    "collapsed": false,
    "jupyter": {
     "outputs_hidden": false
    },
    "pycharm": {
     "name": "#%%\n"
    }
   },
   "outputs": [
    {
     "name": "stderr",
     "output_type": "stream",
     "text": [
      "/var/folders/m_/2w2qlxsn13s9qyf11rtgzkkr0000gn/T/ipykernel_15627/1277381847.py:1: FutureWarning: The default value of regex will change from True to False in a future version.\n",
      "  recipes['ingredients'] = recipes['ingredients'].str.replace('\\\\u00bc', '.25')\n",
      "/var/folders/m_/2w2qlxsn13s9qyf11rtgzkkr0000gn/T/ipykernel_15627/1277381847.py:2: FutureWarning: The default value of regex will change from True to False in a future version.\n",
      "  recipes['ingredients'] = recipes['ingredients'].str.replace('\\\\u00bd', '.5')\n",
      "/var/folders/m_/2w2qlxsn13s9qyf11rtgzkkr0000gn/T/ipykernel_15627/1277381847.py:3: FutureWarning: The default value of regex will change from True to False in a future version.\n",
      "  recipes['ingredients'] = recipes['ingredients'].str.replace('\\\\u00be', '.75')\n"
     ]
    }
   ],
   "source": [
    "recipes['ingredients'] = recipes['ingredients'].str.replace('\\\\u00bc', '.25')\n",
    "recipes['ingredients'] = recipes['ingredients'].str.replace('\\\\u00bd', '.5')\n",
    "recipes['ingredients'] = recipes['ingredients'].str.replace('\\\\u00be', '.75')\n",
    "recipes['ingredients'] = recipes['ingredients'].str.replace('about ', '')\n",
    "recipes['ingredients'] = recipes['ingredients'].str.replace('juice of ', '')"
   ]
  },
  {
   "cell_type": "markdown",
   "metadata": {},
   "source": [
    "#### [pd.Series.str.translate(table: Dict)](https://pandas.pydata.org/docs/reference/api/pandas.Series.str.translate.html)"
   ]
  },
  {
   "cell_type": "code",
   "execution_count": 4,
   "metadata": {
    "collapsed": false,
    "jupyter": {
     "outputs_hidden": false
    },
    "pycharm": {
     "name": "#%%\n"
    }
   },
   "outputs": [
    {
     "data": {
      "text/html": [
       "<div>\n",
       "<style scoped>\n",
       "    .dataframe tbody tr th:only-of-type {\n",
       "        vertical-align: middle;\n",
       "    }\n",
       "\n",
       "    .dataframe tbody tr th {\n",
       "        vertical-align: top;\n",
       "    }\n",
       "\n",
       "    .dataframe thead th {\n",
       "        text-align: right;\n",
       "    }\n",
       "</style>\n",
       "<table border=\"1\" class=\"dataframe\">\n",
       "  <thead>\n",
       "    <tr style=\"text-align: right;\">\n",
       "      <th></th>\n",
       "      <th>title</th>\n",
       "      <th>ingredients</th>\n",
       "    </tr>\n",
       "  </thead>\n",
       "  <tbody>\n",
       "    <tr>\n",
       "      <th>0</th>\n",
       "      <td>Appetizers: Crostini with Goat Cheese and Fres...</td>\n",
       "      <td>1 whole-wheat baguette, sliced thin</td>\n",
       "    </tr>\n",
       "    <tr>\n",
       "      <th>1</th>\n",
       "      <td>Appetizers: Crostini with Goat Cheese and Fres...</td>\n",
       "      <td>2 tablespoons olive oil, divided</td>\n",
       "    </tr>\n",
       "    <tr>\n",
       "      <th>2</th>\n",
       "      <td>Appetizers: Crostini with Goat Cheese and Fres...</td>\n",
       "      <td>2 garlic cloves, minced</td>\n",
       "    </tr>\n",
       "    <tr>\n",
       "      <th>3</th>\n",
       "      <td>Appetizers: Crostini with Goat Cheese and Fres...</td>\n",
       "      <td>1 tablespoon fresh rosemary, chopped (or 2 tea...</td>\n",
       "    </tr>\n",
       "    <tr>\n",
       "      <th>4</th>\n",
       "      <td>Appetizers: Crostini with Goat Cheese and Fres...</td>\n",
       "      <td>2 teaspoons fresh thyme, chopped (or 1 teaspoo...</td>\n",
       "    </tr>\n",
       "    <tr>\n",
       "      <th>...</th>\n",
       "      <td>...</td>\n",
       "      <td>...</td>\n",
       "    </tr>\n",
       "    <tr>\n",
       "      <th>125</th>\n",
       "      <td>Desserts: Pumpkin Muffins</td>\n",
       "      <td>1 cup whole-wheat flour</td>\n",
       "    </tr>\n",
       "    <tr>\n",
       "      <th>126</th>\n",
       "      <td>Desserts: Pumpkin Muffins</td>\n",
       "      <td>1.75 cups oat bran</td>\n",
       "    </tr>\n",
       "    <tr>\n",
       "      <th>127</th>\n",
       "      <td>Desserts: Pumpkin Muffins</td>\n",
       "      <td>1.5 teaspoons baking soda</td>\n",
       "    </tr>\n",
       "    <tr>\n",
       "      <th>128</th>\n",
       "      <td>Desserts: Pumpkin Muffins</td>\n",
       "      <td>2/3 cup raisins (3 ounces)</td>\n",
       "    </tr>\n",
       "    <tr>\n",
       "      <th>129</th>\n",
       "      <td>Desserts: Pumpkin Muffins</td>\n",
       "      <td>cooking spray</td>\n",
       "    </tr>\n",
       "  </tbody>\n",
       "</table>\n",
       "<p>130 rows × 2 columns</p>\n",
       "</div>"
      ],
      "text/plain": [
       "                                                 title  \\\n",
       "0    Appetizers: Crostini with Goat Cheese and Fres...   \n",
       "1    Appetizers: Crostini with Goat Cheese and Fres...   \n",
       "2    Appetizers: Crostini with Goat Cheese and Fres...   \n",
       "3    Appetizers: Crostini with Goat Cheese and Fres...   \n",
       "4    Appetizers: Crostini with Goat Cheese and Fres...   \n",
       "..                                                 ...   \n",
       "125                          Desserts: Pumpkin Muffins   \n",
       "126                          Desserts: Pumpkin Muffins   \n",
       "127                          Desserts: Pumpkin Muffins   \n",
       "128                          Desserts: Pumpkin Muffins   \n",
       "129                          Desserts: Pumpkin Muffins   \n",
       "\n",
       "                                           ingredients  \n",
       "0                  1 whole-wheat baguette, sliced thin  \n",
       "1                     2 tablespoons olive oil, divided  \n",
       "2                              2 garlic cloves, minced  \n",
       "3    1 tablespoon fresh rosemary, chopped (or 2 tea...  \n",
       "4    2 teaspoons fresh thyme, chopped (or 1 teaspoo...  \n",
       "..                                                 ...  \n",
       "125                            1 cup whole-wheat flour  \n",
       "126                                 1.75 cups oat bran  \n",
       "127                          1.5 teaspoons baking soda  \n",
       "128                         2/3 cup raisins (3 ounces)  \n",
       "129                                      cooking spray  \n",
       "\n",
       "[130 rows x 2 columns]"
      ]
     },
     "execution_count": 4,
     "metadata": {},
     "output_type": "execute_result"
    }
   ],
   "source": [
    "recipes"
   ]
  },
  {
   "cell_type": "markdown",
   "metadata": {},
   "source": [
    "#### [pd.Series.str.extract(pat, flags=0, expand=True)](https://pandas.pydata.org/docs/reference/api/pandas.Series.str.extract.html)"
   ]
  },
  {
   "cell_type": "code",
   "execution_count": 5,
   "metadata": {
    "collapsed": false,
    "jupyter": {
     "outputs_hidden": false
    },
    "pycharm": {
     "name": "#%%\n"
    }
   },
   "outputs": [],
   "source": [
    "patterns = 'tablespoon[s]?|teaspoon[s]?|medium|cup[s]?|loaf|slice[s]?|pound[s]?|ounce[s]?|ribs|'"
   ]
  },
  {
   "cell_type": "code",
   "execution_count": 6,
   "metadata": {
    "collapsed": false,
    "jupyter": {
     "outputs_hidden": false
    },
    "pycharm": {
     "name": "#%%\n"
    }
   },
   "outputs": [],
   "source": [
    "recipes[['quantity', 'size', 'ingredient_form']] = recipes['ingredients'].str.extract(f'(\\d?\\.?\\d*\\s)({patterns})(.*)')"
   ]
  },
  {
   "cell_type": "code",
   "execution_count": 7,
   "metadata": {
    "collapsed": false,
    "jupyter": {
     "outputs_hidden": false
    },
    "pycharm": {
     "name": "#%%\n"
    }
   },
   "outputs": [
    {
     "data": {
      "text/html": [
       "<div>\n",
       "<style scoped>\n",
       "    .dataframe tbody tr th:only-of-type {\n",
       "        vertical-align: middle;\n",
       "    }\n",
       "\n",
       "    .dataframe tbody tr th {\n",
       "        vertical-align: top;\n",
       "    }\n",
       "\n",
       "    .dataframe thead th {\n",
       "        text-align: right;\n",
       "    }\n",
       "</style>\n",
       "<table border=\"1\" class=\"dataframe\">\n",
       "  <thead>\n",
       "    <tr style=\"text-align: right;\">\n",
       "      <th></th>\n",
       "      <th>title</th>\n",
       "      <th>ingredients</th>\n",
       "      <th>quantity</th>\n",
       "      <th>size</th>\n",
       "      <th>ingredient_form</th>\n",
       "    </tr>\n",
       "  </thead>\n",
       "  <tbody>\n",
       "    <tr>\n",
       "      <th>0</th>\n",
       "      <td>Appetizers: Crostini with Goat Cheese and Fres...</td>\n",
       "      <td>1 whole-wheat baguette, sliced thin</td>\n",
       "      <td>1</td>\n",
       "      <td></td>\n",
       "      <td>whole-wheat baguette, sliced thin</td>\n",
       "    </tr>\n",
       "    <tr>\n",
       "      <th>1</th>\n",
       "      <td>Appetizers: Crostini with Goat Cheese and Fres...</td>\n",
       "      <td>2 tablespoons olive oil, divided</td>\n",
       "      <td>2</td>\n",
       "      <td>tablespoons</td>\n",
       "      <td>olive oil, divided</td>\n",
       "    </tr>\n",
       "    <tr>\n",
       "      <th>2</th>\n",
       "      <td>Appetizers: Crostini with Goat Cheese and Fres...</td>\n",
       "      <td>2 garlic cloves, minced</td>\n",
       "      <td>2</td>\n",
       "      <td></td>\n",
       "      <td>garlic cloves, minced</td>\n",
       "    </tr>\n",
       "    <tr>\n",
       "      <th>3</th>\n",
       "      <td>Appetizers: Crostini with Goat Cheese and Fres...</td>\n",
       "      <td>1 tablespoon fresh rosemary, chopped (or 2 tea...</td>\n",
       "      <td>1</td>\n",
       "      <td>tablespoon</td>\n",
       "      <td>fresh rosemary, chopped (or 2 teaspoons dried)</td>\n",
       "    </tr>\n",
       "    <tr>\n",
       "      <th>4</th>\n",
       "      <td>Appetizers: Crostini with Goat Cheese and Fres...</td>\n",
       "      <td>2 teaspoons fresh thyme, chopped (or 1 teaspoo...</td>\n",
       "      <td>2</td>\n",
       "      <td>teaspoons</td>\n",
       "      <td>fresh thyme, chopped (or 1 teaspoon dried)</td>\n",
       "    </tr>\n",
       "    <tr>\n",
       "      <th>...</th>\n",
       "      <td>...</td>\n",
       "      <td>...</td>\n",
       "      <td>...</td>\n",
       "      <td>...</td>\n",
       "      <td>...</td>\n",
       "    </tr>\n",
       "    <tr>\n",
       "      <th>125</th>\n",
       "      <td>Desserts: Pumpkin Muffins</td>\n",
       "      <td>1 cup whole-wheat flour</td>\n",
       "      <td>1</td>\n",
       "      <td>cup</td>\n",
       "      <td>whole-wheat flour</td>\n",
       "    </tr>\n",
       "    <tr>\n",
       "      <th>126</th>\n",
       "      <td>Desserts: Pumpkin Muffins</td>\n",
       "      <td>1.75 cups oat bran</td>\n",
       "      <td>1.75</td>\n",
       "      <td>cups</td>\n",
       "      <td>oat bran</td>\n",
       "    </tr>\n",
       "    <tr>\n",
       "      <th>127</th>\n",
       "      <td>Desserts: Pumpkin Muffins</td>\n",
       "      <td>1.5 teaspoons baking soda</td>\n",
       "      <td>1.5</td>\n",
       "      <td>teaspoons</td>\n",
       "      <td>baking soda</td>\n",
       "    </tr>\n",
       "    <tr>\n",
       "      <th>128</th>\n",
       "      <td>Desserts: Pumpkin Muffins</td>\n",
       "      <td>2/3 cup raisins (3 ounces)</td>\n",
       "      <td>3</td>\n",
       "      <td>cup</td>\n",
       "      <td>raisins (3 ounces)</td>\n",
       "    </tr>\n",
       "    <tr>\n",
       "      <th>129</th>\n",
       "      <td>Desserts: Pumpkin Muffins</td>\n",
       "      <td>cooking spray</td>\n",
       "      <td></td>\n",
       "      <td></td>\n",
       "      <td>spray</td>\n",
       "    </tr>\n",
       "  </tbody>\n",
       "</table>\n",
       "<p>130 rows × 5 columns</p>\n",
       "</div>"
      ],
      "text/plain": [
       "                                                 title  \\\n",
       "0    Appetizers: Crostini with Goat Cheese and Fres...   \n",
       "1    Appetizers: Crostini with Goat Cheese and Fres...   \n",
       "2    Appetizers: Crostini with Goat Cheese and Fres...   \n",
       "3    Appetizers: Crostini with Goat Cheese and Fres...   \n",
       "4    Appetizers: Crostini with Goat Cheese and Fres...   \n",
       "..                                                 ...   \n",
       "125                          Desserts: Pumpkin Muffins   \n",
       "126                          Desserts: Pumpkin Muffins   \n",
       "127                          Desserts: Pumpkin Muffins   \n",
       "128                          Desserts: Pumpkin Muffins   \n",
       "129                          Desserts: Pumpkin Muffins   \n",
       "\n",
       "                                           ingredients quantity         size  \\\n",
       "0                  1 whole-wheat baguette, sliced thin       1                 \n",
       "1                     2 tablespoons olive oil, divided       2   tablespoons   \n",
       "2                              2 garlic cloves, minced       2                 \n",
       "3    1 tablespoon fresh rosemary, chopped (or 2 tea...       1    tablespoon   \n",
       "4    2 teaspoons fresh thyme, chopped (or 1 teaspoo...       2     teaspoons   \n",
       "..                                                 ...      ...          ...   \n",
       "125                            1 cup whole-wheat flour       1           cup   \n",
       "126                                 1.75 cups oat bran    1.75          cups   \n",
       "127                          1.5 teaspoons baking soda     1.5     teaspoons   \n",
       "128                         2/3 cup raisins (3 ounces)       3           cup   \n",
       "129                                      cooking spray                         \n",
       "\n",
       "                                     ingredient_form  \n",
       "0                  whole-wheat baguette, sliced thin  \n",
       "1                                 olive oil, divided  \n",
       "2                              garlic cloves, minced  \n",
       "3     fresh rosemary, chopped (or 2 teaspoons dried)  \n",
       "4         fresh thyme, chopped (or 1 teaspoon dried)  \n",
       "..                                               ...  \n",
       "125                                whole-wheat flour  \n",
       "126                                         oat bran  \n",
       "127                                      baking soda  \n",
       "128                               raisins (3 ounces)  \n",
       "129                                            spray  \n",
       "\n",
       "[130 rows x 5 columns]"
      ]
     },
     "execution_count": 7,
     "metadata": {},
     "output_type": "execute_result"
    }
   ],
   "source": [
    "recipes"
   ]
  },
  {
   "cell_type": "markdown",
   "metadata": {},
   "source": [
    "#### [pd.Series.str.split(pat, n=-1, expand=False)](https://pandas.pydata.org/docs/reference/api/pandas.Series.str.split.html)"
   ]
  },
  {
   "cell_type": "code",
   "execution_count": 8,
   "metadata": {
    "collapsed": false,
    "jupyter": {
     "outputs_hidden": false
    },
    "pycharm": {
     "name": "#%%\n"
    }
   },
   "outputs": [],
   "source": [
    "recipes[['type', 'recipe']] = recipes['title'].str.split(':', expand=True)"
   ]
  },
  {
   "cell_type": "code",
   "execution_count": 9,
   "metadata": {
    "collapsed": false,
    "jupyter": {
     "outputs_hidden": false
    },
    "pycharm": {
     "name": "#%%\n"
    }
   },
   "outputs": [],
   "source": [
    "recipes[['ingredient', 'form']] = recipes['ingredient_form'].str.split(',', n=1, expand=True)"
   ]
  },
  {
   "cell_type": "code",
   "execution_count": 10,
   "metadata": {
    "collapsed": false,
    "jupyter": {
     "outputs_hidden": false
    },
    "pycharm": {
     "name": "#%%\n"
    }
   },
   "outputs": [],
   "source": [
    "recipes.drop(['title', 'ingredient_form'], axis=1, inplace=True)"
   ]
  },
  {
   "cell_type": "code",
   "execution_count": 11,
   "metadata": {
    "collapsed": false,
    "jupyter": {
     "outputs_hidden": false
    },
    "pycharm": {
     "name": "#%%\n"
    }
   },
   "outputs": [
    {
     "data": {
      "text/html": [
       "<div>\n",
       "<style scoped>\n",
       "    .dataframe tbody tr th:only-of-type {\n",
       "        vertical-align: middle;\n",
       "    }\n",
       "\n",
       "    .dataframe tbody tr th {\n",
       "        vertical-align: top;\n",
       "    }\n",
       "\n",
       "    .dataframe thead th {\n",
       "        text-align: right;\n",
       "    }\n",
       "</style>\n",
       "<table border=\"1\" class=\"dataframe\">\n",
       "  <thead>\n",
       "    <tr style=\"text-align: right;\">\n",
       "      <th></th>\n",
       "      <th>ingredients</th>\n",
       "      <th>quantity</th>\n",
       "      <th>size</th>\n",
       "      <th>type</th>\n",
       "      <th>recipe</th>\n",
       "      <th>ingredient</th>\n",
       "      <th>form</th>\n",
       "    </tr>\n",
       "  </thead>\n",
       "  <tbody>\n",
       "    <tr>\n",
       "      <th>0</th>\n",
       "      <td>1 whole-wheat baguette, sliced thin</td>\n",
       "      <td>1</td>\n",
       "      <td></td>\n",
       "      <td>Appetizers</td>\n",
       "      <td>Crostini with Goat Cheese and Fresh Tomato</td>\n",
       "      <td>whole-wheat baguette</td>\n",
       "      <td>sliced thin</td>\n",
       "    </tr>\n",
       "    <tr>\n",
       "      <th>1</th>\n",
       "      <td>2 tablespoons olive oil, divided</td>\n",
       "      <td>2</td>\n",
       "      <td>tablespoons</td>\n",
       "      <td>Appetizers</td>\n",
       "      <td>Crostini with Goat Cheese and Fresh Tomato</td>\n",
       "      <td>olive oil</td>\n",
       "      <td>divided</td>\n",
       "    </tr>\n",
       "    <tr>\n",
       "      <th>2</th>\n",
       "      <td>2 garlic cloves, minced</td>\n",
       "      <td>2</td>\n",
       "      <td></td>\n",
       "      <td>Appetizers</td>\n",
       "      <td>Crostini with Goat Cheese and Fresh Tomato</td>\n",
       "      <td>garlic cloves</td>\n",
       "      <td>minced</td>\n",
       "    </tr>\n",
       "    <tr>\n",
       "      <th>3</th>\n",
       "      <td>1 tablespoon fresh rosemary, chopped (or 2 tea...</td>\n",
       "      <td>1</td>\n",
       "      <td>tablespoon</td>\n",
       "      <td>Appetizers</td>\n",
       "      <td>Crostini with Goat Cheese and Fresh Tomato</td>\n",
       "      <td>fresh rosemary</td>\n",
       "      <td>chopped (or 2 teaspoons dried)</td>\n",
       "    </tr>\n",
       "    <tr>\n",
       "      <th>4</th>\n",
       "      <td>2 teaspoons fresh thyme, chopped (or 1 teaspoo...</td>\n",
       "      <td>2</td>\n",
       "      <td>teaspoons</td>\n",
       "      <td>Appetizers</td>\n",
       "      <td>Crostini with Goat Cheese and Fresh Tomato</td>\n",
       "      <td>fresh thyme</td>\n",
       "      <td>chopped (or 1 teaspoon dried)</td>\n",
       "    </tr>\n",
       "    <tr>\n",
       "      <th>...</th>\n",
       "      <td>...</td>\n",
       "      <td>...</td>\n",
       "      <td>...</td>\n",
       "      <td>...</td>\n",
       "      <td>...</td>\n",
       "      <td>...</td>\n",
       "      <td>...</td>\n",
       "    </tr>\n",
       "    <tr>\n",
       "      <th>125</th>\n",
       "      <td>1 cup whole-wheat flour</td>\n",
       "      <td>1</td>\n",
       "      <td>cup</td>\n",
       "      <td>Desserts</td>\n",
       "      <td>Pumpkin Muffins</td>\n",
       "      <td>whole-wheat flour</td>\n",
       "      <td>None</td>\n",
       "    </tr>\n",
       "    <tr>\n",
       "      <th>126</th>\n",
       "      <td>1.75 cups oat bran</td>\n",
       "      <td>1.75</td>\n",
       "      <td>cups</td>\n",
       "      <td>Desserts</td>\n",
       "      <td>Pumpkin Muffins</td>\n",
       "      <td>oat bran</td>\n",
       "      <td>None</td>\n",
       "    </tr>\n",
       "    <tr>\n",
       "      <th>127</th>\n",
       "      <td>1.5 teaspoons baking soda</td>\n",
       "      <td>1.5</td>\n",
       "      <td>teaspoons</td>\n",
       "      <td>Desserts</td>\n",
       "      <td>Pumpkin Muffins</td>\n",
       "      <td>baking soda</td>\n",
       "      <td>None</td>\n",
       "    </tr>\n",
       "    <tr>\n",
       "      <th>128</th>\n",
       "      <td>2/3 cup raisins (3 ounces)</td>\n",
       "      <td>3</td>\n",
       "      <td>cup</td>\n",
       "      <td>Desserts</td>\n",
       "      <td>Pumpkin Muffins</td>\n",
       "      <td>raisins (3 ounces)</td>\n",
       "      <td>None</td>\n",
       "    </tr>\n",
       "    <tr>\n",
       "      <th>129</th>\n",
       "      <td>cooking spray</td>\n",
       "      <td></td>\n",
       "      <td></td>\n",
       "      <td>Desserts</td>\n",
       "      <td>Pumpkin Muffins</td>\n",
       "      <td>spray</td>\n",
       "      <td>None</td>\n",
       "    </tr>\n",
       "  </tbody>\n",
       "</table>\n",
       "<p>130 rows × 7 columns</p>\n",
       "</div>"
      ],
      "text/plain": [
       "                                           ingredients quantity         size  \\\n",
       "0                  1 whole-wheat baguette, sliced thin       1                 \n",
       "1                     2 tablespoons olive oil, divided       2   tablespoons   \n",
       "2                              2 garlic cloves, minced       2                 \n",
       "3    1 tablespoon fresh rosemary, chopped (or 2 tea...       1    tablespoon   \n",
       "4    2 teaspoons fresh thyme, chopped (or 1 teaspoo...       2     teaspoons   \n",
       "..                                                 ...      ...          ...   \n",
       "125                            1 cup whole-wheat flour       1           cup   \n",
       "126                                 1.75 cups oat bran    1.75          cups   \n",
       "127                          1.5 teaspoons baking soda     1.5     teaspoons   \n",
       "128                         2/3 cup raisins (3 ounces)       3           cup   \n",
       "129                                      cooking spray                         \n",
       "\n",
       "           type                                       recipe  \\\n",
       "0    Appetizers   Crostini with Goat Cheese and Fresh Tomato   \n",
       "1    Appetizers   Crostini with Goat Cheese and Fresh Tomato   \n",
       "2    Appetizers   Crostini with Goat Cheese and Fresh Tomato   \n",
       "3    Appetizers   Crostini with Goat Cheese and Fresh Tomato   \n",
       "4    Appetizers   Crostini with Goat Cheese and Fresh Tomato   \n",
       "..          ...                                          ...   \n",
       "125    Desserts                              Pumpkin Muffins   \n",
       "126    Desserts                              Pumpkin Muffins   \n",
       "127    Desserts                              Pumpkin Muffins   \n",
       "128    Desserts                              Pumpkin Muffins   \n",
       "129    Desserts                              Pumpkin Muffins   \n",
       "\n",
       "               ingredient                             form  \n",
       "0    whole-wheat baguette                      sliced thin  \n",
       "1               olive oil                          divided  \n",
       "2           garlic cloves                           minced  \n",
       "3          fresh rosemary   chopped (or 2 teaspoons dried)  \n",
       "4             fresh thyme    chopped (or 1 teaspoon dried)  \n",
       "..                    ...                              ...  \n",
       "125     whole-wheat flour                             None  \n",
       "126              oat bran                             None  \n",
       "127           baking soda                             None  \n",
       "128    raisins (3 ounces)                             None  \n",
       "129                 spray                             None  \n",
       "\n",
       "[130 rows x 7 columns]"
      ]
     },
     "execution_count": 11,
     "metadata": {},
     "output_type": "execute_result"
    }
   ],
   "source": [
    "recipes"
   ]
  },
  {
   "cell_type": "markdown",
   "metadata": {},
   "source": [
    "#### [pd.Series.str.extract(pat, flags=0, expand=True)](https://pandas.pydata.org/docs/reference/api/pandas.Series.str.extract.html)"
   ]
  },
  {
   "cell_type": "code",
   "execution_count": 12,
   "metadata": {
    "collapsed": false,
    "jupyter": {
     "outputs_hidden": false
    },
    "pycharm": {
     "name": "#%%\n"
    }
   },
   "outputs": [],
   "source": [
    "recipes['note'] = recipes.ingredient.str.extract(r'([\\(].*[\\)])')"
   ]
  },
  {
   "cell_type": "code",
   "execution_count": 13,
   "metadata": {
    "collapsed": false,
    "jupyter": {
     "outputs_hidden": false
    },
    "pycharm": {
     "name": "#%%\n"
    }
   },
   "outputs": [
    {
     "name": "stderr",
     "output_type": "stream",
     "text": [
      "/var/folders/m_/2w2qlxsn13s9qyf11rtgzkkr0000gn/T/ipykernel_15627/158389376.py:1: FutureWarning: The default value of regex will change from True to False in a future version.\n",
      "  recipes['ingredient'] = recipes.ingredient.str.replace('\\(.*\\)', '')\n"
     ]
    }
   ],
   "source": [
    "recipes['ingredient'] = recipes.ingredient.str.replace('\\(.*\\)', '')"
   ]
  },
  {
   "cell_type": "code",
   "execution_count": 14,
   "metadata": {
    "collapsed": false,
    "jupyter": {
     "outputs_hidden": false
    },
    "pycharm": {
     "name": "#%%\n"
    }
   },
   "outputs": [
    {
     "data": {
      "text/html": [
       "<div>\n",
       "<style scoped>\n",
       "    .dataframe tbody tr th:only-of-type {\n",
       "        vertical-align: middle;\n",
       "    }\n",
       "\n",
       "    .dataframe tbody tr th {\n",
       "        vertical-align: top;\n",
       "    }\n",
       "\n",
       "    .dataframe thead th {\n",
       "        text-align: right;\n",
       "    }\n",
       "</style>\n",
       "<table border=\"1\" class=\"dataframe\">\n",
       "  <thead>\n",
       "    <tr style=\"text-align: right;\">\n",
       "      <th></th>\n",
       "      <th>ingredients</th>\n",
       "      <th>quantity</th>\n",
       "      <th>size</th>\n",
       "      <th>type</th>\n",
       "      <th>recipe</th>\n",
       "      <th>ingredient</th>\n",
       "      <th>form</th>\n",
       "      <th>note</th>\n",
       "    </tr>\n",
       "  </thead>\n",
       "  <tbody>\n",
       "    <tr>\n",
       "      <th>0</th>\n",
       "      <td>1 whole-wheat baguette, sliced thin</td>\n",
       "      <td>1</td>\n",
       "      <td></td>\n",
       "      <td>Appetizers</td>\n",
       "      <td>Crostini with Goat Cheese and Fresh Tomato</td>\n",
       "      <td>whole-wheat baguette</td>\n",
       "      <td>sliced thin</td>\n",
       "      <td>NaN</td>\n",
       "    </tr>\n",
       "    <tr>\n",
       "      <th>1</th>\n",
       "      <td>2 tablespoons olive oil, divided</td>\n",
       "      <td>2</td>\n",
       "      <td>tablespoons</td>\n",
       "      <td>Appetizers</td>\n",
       "      <td>Crostini with Goat Cheese and Fresh Tomato</td>\n",
       "      <td>olive oil</td>\n",
       "      <td>divided</td>\n",
       "      <td>NaN</td>\n",
       "    </tr>\n",
       "    <tr>\n",
       "      <th>2</th>\n",
       "      <td>2 garlic cloves, minced</td>\n",
       "      <td>2</td>\n",
       "      <td></td>\n",
       "      <td>Appetizers</td>\n",
       "      <td>Crostini with Goat Cheese and Fresh Tomato</td>\n",
       "      <td>garlic cloves</td>\n",
       "      <td>minced</td>\n",
       "      <td>NaN</td>\n",
       "    </tr>\n",
       "    <tr>\n",
       "      <th>3</th>\n",
       "      <td>1 tablespoon fresh rosemary, chopped (or 2 tea...</td>\n",
       "      <td>1</td>\n",
       "      <td>tablespoon</td>\n",
       "      <td>Appetizers</td>\n",
       "      <td>Crostini with Goat Cheese and Fresh Tomato</td>\n",
       "      <td>fresh rosemary</td>\n",
       "      <td>chopped (or 2 teaspoons dried)</td>\n",
       "      <td>NaN</td>\n",
       "    </tr>\n",
       "    <tr>\n",
       "      <th>4</th>\n",
       "      <td>2 teaspoons fresh thyme, chopped (or 1 teaspoo...</td>\n",
       "      <td>2</td>\n",
       "      <td>teaspoons</td>\n",
       "      <td>Appetizers</td>\n",
       "      <td>Crostini with Goat Cheese and Fresh Tomato</td>\n",
       "      <td>fresh thyme</td>\n",
       "      <td>chopped (or 1 teaspoon dried)</td>\n",
       "      <td>NaN</td>\n",
       "    </tr>\n",
       "    <tr>\n",
       "      <th>...</th>\n",
       "      <td>...</td>\n",
       "      <td>...</td>\n",
       "      <td>...</td>\n",
       "      <td>...</td>\n",
       "      <td>...</td>\n",
       "      <td>...</td>\n",
       "      <td>...</td>\n",
       "      <td>...</td>\n",
       "    </tr>\n",
       "    <tr>\n",
       "      <th>125</th>\n",
       "      <td>1 cup whole-wheat flour</td>\n",
       "      <td>1</td>\n",
       "      <td>cup</td>\n",
       "      <td>Desserts</td>\n",
       "      <td>Pumpkin Muffins</td>\n",
       "      <td>whole-wheat flour</td>\n",
       "      <td>None</td>\n",
       "      <td>NaN</td>\n",
       "    </tr>\n",
       "    <tr>\n",
       "      <th>126</th>\n",
       "      <td>1.75 cups oat bran</td>\n",
       "      <td>1.75</td>\n",
       "      <td>cups</td>\n",
       "      <td>Desserts</td>\n",
       "      <td>Pumpkin Muffins</td>\n",
       "      <td>oat bran</td>\n",
       "      <td>None</td>\n",
       "      <td>NaN</td>\n",
       "    </tr>\n",
       "    <tr>\n",
       "      <th>127</th>\n",
       "      <td>1.5 teaspoons baking soda</td>\n",
       "      <td>1.5</td>\n",
       "      <td>teaspoons</td>\n",
       "      <td>Desserts</td>\n",
       "      <td>Pumpkin Muffins</td>\n",
       "      <td>baking soda</td>\n",
       "      <td>None</td>\n",
       "      <td>NaN</td>\n",
       "    </tr>\n",
       "    <tr>\n",
       "      <th>128</th>\n",
       "      <td>2/3 cup raisins (3 ounces)</td>\n",
       "      <td>3</td>\n",
       "      <td>cup</td>\n",
       "      <td>Desserts</td>\n",
       "      <td>Pumpkin Muffins</td>\n",
       "      <td>raisins</td>\n",
       "      <td>None</td>\n",
       "      <td>(3 ounces)</td>\n",
       "    </tr>\n",
       "    <tr>\n",
       "      <th>129</th>\n",
       "      <td>cooking spray</td>\n",
       "      <td></td>\n",
       "      <td></td>\n",
       "      <td>Desserts</td>\n",
       "      <td>Pumpkin Muffins</td>\n",
       "      <td>spray</td>\n",
       "      <td>None</td>\n",
       "      <td>NaN</td>\n",
       "    </tr>\n",
       "  </tbody>\n",
       "</table>\n",
       "<p>130 rows × 8 columns</p>\n",
       "</div>"
      ],
      "text/plain": [
       "                                           ingredients quantity         size  \\\n",
       "0                  1 whole-wheat baguette, sliced thin       1                 \n",
       "1                     2 tablespoons olive oil, divided       2   tablespoons   \n",
       "2                              2 garlic cloves, minced       2                 \n",
       "3    1 tablespoon fresh rosemary, chopped (or 2 tea...       1    tablespoon   \n",
       "4    2 teaspoons fresh thyme, chopped (or 1 teaspoo...       2     teaspoons   \n",
       "..                                                 ...      ...          ...   \n",
       "125                            1 cup whole-wheat flour       1           cup   \n",
       "126                                 1.75 cups oat bran    1.75          cups   \n",
       "127                          1.5 teaspoons baking soda     1.5     teaspoons   \n",
       "128                         2/3 cup raisins (3 ounces)       3           cup   \n",
       "129                                      cooking spray                         \n",
       "\n",
       "           type                                       recipe  \\\n",
       "0    Appetizers   Crostini with Goat Cheese and Fresh Tomato   \n",
       "1    Appetizers   Crostini with Goat Cheese and Fresh Tomato   \n",
       "2    Appetizers   Crostini with Goat Cheese and Fresh Tomato   \n",
       "3    Appetizers   Crostini with Goat Cheese and Fresh Tomato   \n",
       "4    Appetizers   Crostini with Goat Cheese and Fresh Tomato   \n",
       "..          ...                                          ...   \n",
       "125    Desserts                              Pumpkin Muffins   \n",
       "126    Desserts                              Pumpkin Muffins   \n",
       "127    Desserts                              Pumpkin Muffins   \n",
       "128    Desserts                              Pumpkin Muffins   \n",
       "129    Desserts                              Pumpkin Muffins   \n",
       "\n",
       "               ingredient                             form        note  \n",
       "0    whole-wheat baguette                      sliced thin         NaN  \n",
       "1               olive oil                          divided         NaN  \n",
       "2           garlic cloves                           minced         NaN  \n",
       "3          fresh rosemary   chopped (or 2 teaspoons dried)         NaN  \n",
       "4             fresh thyme    chopped (or 1 teaspoon dried)         NaN  \n",
       "..                    ...                              ...         ...  \n",
       "125     whole-wheat flour                             None         NaN  \n",
       "126              oat bran                             None         NaN  \n",
       "127           baking soda                             None         NaN  \n",
       "128              raisins                              None  (3 ounces)  \n",
       "129                 spray                             None         NaN  \n",
       "\n",
       "[130 rows x 8 columns]"
      ]
     },
     "execution_count": 14,
     "metadata": {},
     "output_type": "execute_result"
    }
   ],
   "source": [
    "recipes"
   ]
  },
  {
   "cell_type": "markdown",
   "metadata": {},
   "source": [
    "#### [pd.Series.str.strip(to_strip=None)](https://pandas.pydata.org/docs/reference/api/pandas.Series.str.strip.html)"
   ]
  },
  {
   "cell_type": "code",
   "execution_count": 15,
   "metadata": {
    "collapsed": false,
    "jupyter": {
     "outputs_hidden": false
    },
    "pycharm": {
     "name": "#%%\n"
    }
   },
   "outputs": [],
   "source": [
    "recipes[recipes.columns] = recipes.apply(lambda x: x.str.strip())"
   ]
  },
  {
   "cell_type": "markdown",
   "metadata": {},
   "source": [
    "#### [pd.Dataframe.to_csv()](https://pandas.pydata.org/docs/reference/api/pandas.DataFrame.to_csv.html)"
   ]
  },
  {
   "cell_type": "code",
   "execution_count": 16,
   "metadata": {
    "collapsed": false,
    "jupyter": {
     "outputs_hidden": false
    },
    "pycharm": {
     "name": "#%%\n"
    }
   },
   "outputs": [],
   "source": [
    "recipes = recipes[['type', 'recipe', 'quantity', 'size','ingredient', 'form', 'note', 'ingredients']]"
   ]
  },
  {
   "cell_type": "markdown",
   "metadata": {},
   "source": [
    "#### [pd.read_csv()](https://pandas.pydata.org/pandas-docs/stable/reference/api/pandas.read_csv.html)"
   ]
  },
  {
   "cell_type": "code",
   "execution_count": 20,
   "metadata": {
    "collapsed": false,
    "jupyter": {
     "outputs_hidden": false
    },
    "pycharm": {
     "name": "#%%\n"
    }
   },
   "outputs": [],
   "source": [
    "recipes_2 = pd.read_csv('recipes.csv', index_col=0)"
   ]
  },
  {
   "cell_type": "code",
   "execution_count": 22,
   "metadata": {
    "collapsed": false,
    "jupyter": {
     "outputs_hidden": false
    },
    "pycharm": {
     "name": "#%%\n"
    }
   },
   "outputs": [],
   "source": [
    "recipes_2.drop('ingredients', inplace=True, axis=1)"
   ]
  },
  {
   "cell_type": "code",
   "execution_count": 26,
   "metadata": {
    "collapsed": false,
    "jupyter": {
     "outputs_hidden": false
    },
    "pycharm": {
     "name": "#%%\n"
    }
   },
   "outputs": [
    {
     "data": {
      "text/html": [
       "<div>\n",
       "<style scoped>\n",
       "    .dataframe tbody tr th:only-of-type {\n",
       "        vertical-align: middle;\n",
       "    }\n",
       "\n",
       "    .dataframe tbody tr th {\n",
       "        vertical-align: top;\n",
       "    }\n",
       "\n",
       "    .dataframe thead th {\n",
       "        text-align: right;\n",
       "    }\n",
       "</style>\n",
       "<table border=\"1\" class=\"dataframe\">\n",
       "  <thead>\n",
       "    <tr style=\"text-align: right;\">\n",
       "      <th></th>\n",
       "      <th>type</th>\n",
       "      <th>recipe</th>\n",
       "      <th>quantity</th>\n",
       "      <th>size</th>\n",
       "      <th>ingredient</th>\n",
       "      <th>form</th>\n",
       "      <th>note</th>\n",
       "    </tr>\n",
       "  </thead>\n",
       "  <tbody>\n",
       "    <tr>\n",
       "      <th>0</th>\n",
       "      <td>Appetizers</td>\n",
       "      <td>Crostini with Goat Cheese and Fresh Tomato</td>\n",
       "      <td>1.00</td>\n",
       "      <td>NaN</td>\n",
       "      <td>whole-wheat baguette</td>\n",
       "      <td>sliced thin</td>\n",
       "      <td>NaN</td>\n",
       "    </tr>\n",
       "    <tr>\n",
       "      <th>1</th>\n",
       "      <td>Appetizers</td>\n",
       "      <td>Crostini with Goat Cheese and Fresh Tomato</td>\n",
       "      <td>2.00</td>\n",
       "      <td>tablespoons</td>\n",
       "      <td>olive oil</td>\n",
       "      <td>divided</td>\n",
       "      <td>NaN</td>\n",
       "    </tr>\n",
       "    <tr>\n",
       "      <th>2</th>\n",
       "      <td>Appetizers</td>\n",
       "      <td>Crostini with Goat Cheese and Fresh Tomato</td>\n",
       "      <td>2.00</td>\n",
       "      <td>NaN</td>\n",
       "      <td>garlic cloves</td>\n",
       "      <td>minced</td>\n",
       "      <td>NaN</td>\n",
       "    </tr>\n",
       "    <tr>\n",
       "      <th>3</th>\n",
       "      <td>Appetizers</td>\n",
       "      <td>Crostini with Goat Cheese and Fresh Tomato</td>\n",
       "      <td>1.00</td>\n",
       "      <td>tablespoon</td>\n",
       "      <td>fresh rosemary</td>\n",
       "      <td>chopped (or 2 teaspoons dried)</td>\n",
       "      <td>NaN</td>\n",
       "    </tr>\n",
       "    <tr>\n",
       "      <th>4</th>\n",
       "      <td>Appetizers</td>\n",
       "      <td>Crostini with Goat Cheese and Fresh Tomato</td>\n",
       "      <td>2.00</td>\n",
       "      <td>teaspoons</td>\n",
       "      <td>fresh thyme</td>\n",
       "      <td>chopped (or 1 teaspoon dried)</td>\n",
       "      <td>NaN</td>\n",
       "    </tr>\n",
       "    <tr>\n",
       "      <th>...</th>\n",
       "      <td>...</td>\n",
       "      <td>...</td>\n",
       "      <td>...</td>\n",
       "      <td>...</td>\n",
       "      <td>...</td>\n",
       "      <td>...</td>\n",
       "      <td>...</td>\n",
       "    </tr>\n",
       "    <tr>\n",
       "      <th>125</th>\n",
       "      <td>Desserts</td>\n",
       "      <td>Pumpkin Muffins</td>\n",
       "      <td>1.00</td>\n",
       "      <td>cup</td>\n",
       "      <td>whole-wheat flour</td>\n",
       "      <td>NaN</td>\n",
       "      <td>NaN</td>\n",
       "    </tr>\n",
       "    <tr>\n",
       "      <th>126</th>\n",
       "      <td>Desserts</td>\n",
       "      <td>Pumpkin Muffins</td>\n",
       "      <td>1.75</td>\n",
       "      <td>cups</td>\n",
       "      <td>oat bran</td>\n",
       "      <td>NaN</td>\n",
       "      <td>NaN</td>\n",
       "    </tr>\n",
       "    <tr>\n",
       "      <th>127</th>\n",
       "      <td>Desserts</td>\n",
       "      <td>Pumpkin Muffins</td>\n",
       "      <td>1.50</td>\n",
       "      <td>teaspoons</td>\n",
       "      <td>baking soda</td>\n",
       "      <td>NaN</td>\n",
       "      <td>NaN</td>\n",
       "    </tr>\n",
       "    <tr>\n",
       "      <th>128</th>\n",
       "      <td>Desserts</td>\n",
       "      <td>Pumpkin Muffins</td>\n",
       "      <td>3.00</td>\n",
       "      <td>cup</td>\n",
       "      <td>raisins</td>\n",
       "      <td>NaN</td>\n",
       "      <td>(3 ounces)</td>\n",
       "    </tr>\n",
       "    <tr>\n",
       "      <th>129</th>\n",
       "      <td>Desserts</td>\n",
       "      <td>Pumpkin Muffins</td>\n",
       "      <td>NaN</td>\n",
       "      <td>NaN</td>\n",
       "      <td>spray</td>\n",
       "      <td>NaN</td>\n",
       "      <td>NaN</td>\n",
       "    </tr>\n",
       "  </tbody>\n",
       "</table>\n",
       "<p>130 rows × 7 columns</p>\n",
       "</div>"
      ],
      "text/plain": [
       "           type                                      recipe  quantity  \\\n",
       "0    Appetizers  Crostini with Goat Cheese and Fresh Tomato      1.00   \n",
       "1    Appetizers  Crostini with Goat Cheese and Fresh Tomato      2.00   \n",
       "2    Appetizers  Crostini with Goat Cheese and Fresh Tomato      2.00   \n",
       "3    Appetizers  Crostini with Goat Cheese and Fresh Tomato      1.00   \n",
       "4    Appetizers  Crostini with Goat Cheese and Fresh Tomato      2.00   \n",
       "..          ...                                         ...       ...   \n",
       "125    Desserts                             Pumpkin Muffins      1.00   \n",
       "126    Desserts                             Pumpkin Muffins      1.75   \n",
       "127    Desserts                             Pumpkin Muffins      1.50   \n",
       "128    Desserts                             Pumpkin Muffins      3.00   \n",
       "129    Desserts                             Pumpkin Muffins       NaN   \n",
       "\n",
       "            size            ingredient                            form  \\\n",
       "0            NaN  whole-wheat baguette                     sliced thin   \n",
       "1    tablespoons             olive oil                         divided   \n",
       "2            NaN         garlic cloves                          minced   \n",
       "3     tablespoon        fresh rosemary  chopped (or 2 teaspoons dried)   \n",
       "4      teaspoons           fresh thyme   chopped (or 1 teaspoon dried)   \n",
       "..           ...                   ...                             ...   \n",
       "125          cup     whole-wheat flour                             NaN   \n",
       "126         cups              oat bran                             NaN   \n",
       "127    teaspoons           baking soda                             NaN   \n",
       "128          cup               raisins                             NaN   \n",
       "129          NaN                 spray                             NaN   \n",
       "\n",
       "           note  \n",
       "0           NaN  \n",
       "1           NaN  \n",
       "2           NaN  \n",
       "3           NaN  \n",
       "4           NaN  \n",
       "..          ...  \n",
       "125         NaN  \n",
       "126         NaN  \n",
       "127         NaN  \n",
       "128  (3 ounces)  \n",
       "129         NaN  \n",
       "\n",
       "[130 rows x 7 columns]"
      ]
     },
     "execution_count": 26,
     "metadata": {},
     "output_type": "execute_result"
    }
   ],
   "source": [
    "recipes_2"
   ]
  },
  {
   "cell_type": "code",
   "execution_count": 27,
   "metadata": {
    "collapsed": false,
    "jupyter": {
     "outputs_hidden": false
    },
    "pycharm": {
     "name": "#%%\n"
    }
   },
   "outputs": [],
   "source": [
    "recipes_2.to_csv('recipes2.csv')"
   ]
  },
  {
   "cell_type": "code",
   "execution_count": null,
   "metadata": {
    "collapsed": false,
    "jupyter": {
     "outputs_hidden": false
    },
    "pycharm": {
     "name": "#%%\n"
    }
   },
   "outputs": [],
   "source": []
  }
 ],
 "metadata": {
  "kernelspec": {
   "display_name": "Python 3 (ipykernel)",
   "language": "python",
   "name": "python3"
  },
  "language_info": {
   "codemirror_mode": {
    "name": "ipython",
    "version": 3
   },
   "file_extension": ".py",
   "mimetype": "text/x-python",
   "name": "python",
   "nbconvert_exporter": "python",
   "pygments_lexer": "ipython3",
   "version": "3.9.16"
  }
 },
 "nbformat": 4,
 "nbformat_minor": 4
}
