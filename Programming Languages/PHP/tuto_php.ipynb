{
 "cells": [
  {
   "cell_type": "markdown",
   "metadata": {},
   "source": [
    "## PHP Hyptertext PreProcessor\n",
    "- instructions séparées par ;\n",
    "- fichier sur le serveur dans repertoire htdocs \n",
    "- afficher du HTML ou traitement par lot\n",
    "- mode mixte html"
   ]
  },
  {
   "cell_type": "markdown",
   "metadata": {},
   "source": [
    "- imprimer une chaine de caracteres"
   ]
  },
  {
   "cell_type": "code",
   "execution_count": null,
   "metadata": {},
   "outputs": [],
   "source": [
    "<?php\n",
    "print('hello');\n",
    "echo 'hello';\n",
    "?>"
   ]
  },
  {
   "cell_type": "markdown",
   "metadata": {},
   "source": [
    "- variables"
   ]
  },
  {
   "cell_type": "code",
   "execution_count": null,
   "metadata": {},
   "outputs": [],
   "source": [
    "<?php\n",
    "$nom='Félita';\n",
    "print($nom);\n",
    "?>"
   ]
  },
  {
   "cell_type": "markdown",
   "metadata": {},
   "source": [
    "- URL Uniform Resource Locator"
   ]
  },
  {
   "cell_type": "markdown",
   "metadata": {},
   "source": [
    "http://www.google.fr/search?q=MéDAS\n",
    "\n",
    "Après __?__ : données transitées d'une page à une autre<br>\n",
    "__q__ : variable <br>\n",
    "__&__ : sépare les variables"
   ]
  },
  {
   "cell_type": "markdown",
   "metadata": {},
   "source": [
    "http://www.monsite.com/bonjour.php\n",
    "\n",
    "- index.html envoie à bonjour.php :"
   ]
  },
  {
   "cell_type": "code",
   "execution_count": null,
   "metadata": {},
   "outputs": [],
   "source": [
    "nom=Donor&amp;prenom=Felita\n",
    "<a href='bonjour.php?nom=Donor&amp;prenom=Felita'>Saluer</a>"
   ]
  },
  {
   "cell_type": "markdown",
   "metadata": {},
   "source": [
    "- bonjour.php crée un tableau associatif $_GET"
   ]
  },
  {
   "cell_type": "raw",
   "metadata": {},
   "source": [
    "$_GET['nom'] -> Donor\n",
    "$_GET['prenom'] -> Felita"
   ]
  },
  {
   "cell_type": "markdown",
   "metadata": {},
   "source": [
    "Un tableau associatif des valeurs passées au script courant via les paramètres d'URL (aussi connue sous le nom de \"query string\"). Notez que ce tableau n'est pas seulement rempli pour les requêtes GET, mais plutôt pour toutes les requêtes avec un query string."
   ]
  },
  {
   "cell_type": "markdown",
   "metadata": {},
   "source": [
    "- if()"
   ]
  },
  {
   "cell_type": "code",
   "execution_count": null,
   "metadata": {},
   "outputs": [],
   "source": [
    "$myvariable = 'oui';\n",
    "if ($myvariable == 'oui') {\n",
    "    print('ca marche')\n",
    "}\n",
    "else {\n",
    "    print('ca marche pas')\n",
    "}"
   ]
  },
  {
   "cell_type": "markdown",
   "metadata": {},
   "source": [
    "- isset()"
   ]
  },
  {
   "cell_type": "code",
   "execution_count": null,
   "metadata": {},
   "outputs": [],
   "source": [
    "if (isset($mavariable)) {\n",
    "    print('elle existe');\n",
    "}\n",
    "else {\n",
    "    print('elle existe pas')\n",
    "}"
   ]
  },
  {
   "cell_type": "markdown",
   "metadata": {},
   "source": [
    "- Concaténer"
   ]
  },
  {
   "cell_type": "code",
   "execution_count": null,
   "metadata": {},
   "outputs": [],
   "source": [
    "$prenom='Felita';\n",
    "$nom='Donor';\n",
    "$genre='F';\n",
    "\n",
    "print($genre.''.$prenom.''.$nom);"
   ]
  },
  {
   "cell_type": "markdown",
   "metadata": {},
   "source": [
    "- \\<pre\\>"
   ]
  },
  {
   "cell_type": "markdown",
   "metadata": {},
   "source": [
    "Le texte est affiché tel quel, les espaces utilisés dans le document HTML seront retranscrits."
   ]
  },
  {
   "cell_type": "markdown",
   "metadata": {},
   "source": [
    "- print_r"
   ]
  },
  {
   "cell_type": "code",
   "execution_count": null,
   "metadata": {},
   "outputs": [],
   "source": [
    "print_r ( mixed $expression [, bool $return = FALSE ] ) : mixed"
   ]
  },
  {
   "cell_type": "markdown",
   "metadata": {},
   "source": [
    "affiche des informations à propos d'une variable, de manière à ce qu'elle soit lisible\n",
    "\n",
    "    - expression\n",
    "L'expression à afficher.\n",
    "\n",
    "    - return\n",
    "Si vous voulez obtenir le résultat de print_r() dans une chaîne, utilisez le paramètre return. Lorsque ce paramètre vaut TRUE, print_r() retournera l'information plutôt que de l'afficher.\n",
    "\n"
   ]
  },
  {
   "cell_type": "code",
   "execution_count": null,
   "metadata": {},
   "outputs": [],
   "source": []
  }
 ],
 "metadata": {
  "kernelspec": {
   "display_name": "Python 3",
   "language": "python",
   "name": "python3"
  },
  "language_info": {
   "codemirror_mode": {
    "name": "ipython",
    "version": 3
   },
   "file_extension": ".py",
   "mimetype": "text/x-python",
   "name": "python",
   "nbconvert_exporter": "python",
   "pygments_lexer": "ipython3",
   "version": "3.8.1"
  }
 },
 "nbformat": 4,
 "nbformat_minor": 4
}
