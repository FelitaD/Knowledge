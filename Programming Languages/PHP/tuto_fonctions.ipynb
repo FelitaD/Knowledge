{
 "cells": [
  {
   "cell_type": "code",
   "execution_count": null,
   "metadata": {},
   "outputs": [],
   "source": [
    "function mafonction($var1, $var2) {\n",
    "    $resultat = $var1 * $var2;\n",
    "    return $resultat;\n",
    "}"
   ]
  },
  {
   "cell_type": "code",
   "execution_count": null,
   "metadata": {},
   "outputs": [],
   "source": [
    "<?php\n",
    "function aire_rectangle($longueur, $largeur){\n",
    "    $aire = $longueur * $largeur;\n",
    "    return $aire;\n",
    "}\n",
    "\n",
    "$L=$_GET['longueur'];\n",
    "$l=$_GET['largeur'];\n",
    "\n",
    "$mon_aire=aire_rectangle($L,$l);\n",
    "\n",
    "print(\"Un rectangle de \".$L.\"cm par \".$l.\"cm \");\n",
    "print(\"a une aire de \".$mon_aire);\n",
    "print(\"cm<sup>2</sup>\");\n",
    "\n",
    "?>"
   ]
  },
  {
   "cell_type": "markdown",
   "metadata": {},
   "source": [
    "- La fonction include() renverra une erreur de type WARNING si elle n'arrive pas à ouvrir le fichier en question. De ce fait l'exécution du code qui suit dans la page sera exécuté. \n",
    "- En revanche, la fonction require() affichera une erreur de type FATAL qui interrompt l'exécution du script.\n",
    "\n"
   ]
  },
  {
   "cell_type": "markdown",
   "metadata": {},
   "source": [
    "> Si le fichier doit obligatoirement être présent pour le reste du programme, alors require() est à préférer sinon un include() fera l'affaire"
   ]
  },
  {
   "cell_type": "code",
   "execution_count": null,
   "metadata": {},
   "outputs": [],
   "source": []
  }
 ],
 "metadata": {
  "kernelspec": {
   "display_name": "Python 3",
   "language": "python",
   "name": "python3"
  },
  "language_info": {
   "codemirror_mode": {
    "name": "ipython",
    "version": 3
   },
   "file_extension": ".py",
   "mimetype": "text/x-python",
   "name": "python",
   "nbconvert_exporter": "python",
   "pygments_lexer": "ipython3",
   "version": "3.8.1"
  }
 },
 "nbformat": 4,
 "nbformat_minor": 4
}
