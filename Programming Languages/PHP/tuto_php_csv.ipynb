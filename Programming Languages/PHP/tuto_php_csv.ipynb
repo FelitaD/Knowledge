{
 "cells": [
  {
   "cell_type": "markdown",
   "metadata": {},
   "source": [
    "- fopen()"
   ]
  },
  {
   "cell_type": "code",
   "execution_count": null,
   "metadata": {},
   "outputs": [],
   "source": [
    "$fichier = fopen('data.csv', 'r')"
   ]
  },
  {
   "cell_type": "markdown",
   "metadata": {},
   "source": [
    "- array()<br>\n",
    "créer un tableau"
   ]
  },
  {
   "cell_type": "code",
   "execution_count": null,
   "metadata": {},
   "outputs": [],
   "source": [
    "$usagers = array();"
   ]
  },
  {
   "cell_type": "markdown",
   "metadata": {},
   "source": [
    "- while() et fgetcsv()<br>\n",
    "lire ligne à ligne"
   ]
  },
  {
   "cell_type": "code",
   "execution_count": null,
   "metadata": {},
   "outputs": [],
   "source": [
    "while ($ligne = fgetcsv($fichier, 0, ',')){\n",
    "    ...\n",
    "}\n",
    "\n",
    "# 0 : pas de limite de lignes"
   ]
  },
  {
   "cell_type": "markdown",
   "metadata": {},
   "source": [
    "- array_push()<br>\n",
    "ajouter un élément au tableau"
   ]
  },
  {
   "cell_type": "code",
   "execution_count": null,
   "metadata": {},
   "outputs": [],
   "source": [
    "while ($ligne = fgetcsv($fichier, 0, ',')){\n",
    "    array_push($usagers, $ligne);\n",
    "}"
   ]
  },
  {
   "cell_type": "markdown",
   "metadata": {},
   "source": [
    "- fclose()"
   ]
  },
  {
   "cell_type": "code",
   "execution_count": null,
   "metadata": {},
   "outputs": [],
   "source": [
    "fclose($fichier)"
   ]
  },
  {
   "cell_type": "markdown",
   "metadata": {},
   "source": [
    "- Pour tableau associatif avec accès par nom de colonne"
   ]
  },
  {
   "cell_type": "code",
   "execution_count": null,
   "metadata": {},
   "outputs": [],
   "source": [
    "$fichier = fopen('monfichier.csv', 'r');\n",
    "\n",
    "while($csv[] = fgetcsv($fichier, 1024, ';'));\n",
    "fclose($fichier);\n",
    "\n",
    "$keys = array_shift($csv);\n",
    "\n",
    "$data = []; #création du tableau\n",
    "\n",
    "foreach($csv as $ligne) {\n",
    "    array_push($data, array_combine($keys, $ligne)); # associe key/value et ajoute a data  \n",
    "}\n"
   ]
  },
  {
   "cell_type": "markdown",
   "metadata": {},
   "source": [
    "### Structuration csv avec php en mode AP\n",
    "\n",
    "Le contraire de lire le csv et le recuperer dans un tableau :\n",
    "\n",
    "- créer un tableau statique en php\n",
    "- écrire le tableau en csv\n",
    "- mettre a disposition via une API\n",
    "    \n",
    "Exposer ses données en csv :\n",
    "- entête : header()\n",
    "- tableau ou objet php\n",
    "- encodage csv : fputcsv()"
   ]
  },
  {
   "cell_type": "markdown",
   "metadata": {},
   "source": [
    "- Gestion du fichier de sortie :<br>\n",
    "header() permet de gérer l'entête y compris le choix de la norme d'encodage"
   ]
  },
  {
   "cell_type": "code",
   "execution_count": null,
   "metadata": {},
   "outputs": [],
   "source": [
    "<?php\n",
    "$filename='heros.csv';\n",
    "header('Content-Type: text/plain');\n",
    "header('Content-disposition: attachment; filename='.$filename);\n",
    "header('charset=utf-8');\n"
   ]
  },
  {
   "cell_type": "markdown",
   "metadata": {},
   "source": [
    "- Créer un jeu de données<br>\n",
    "Ici de manière statique <br>\n",
    "Plus probable depuis un fichier ou BDD"
   ]
  },
  {
   "cell_type": "code",
   "execution_count": null,
   "metadata": {},
   "outputs": [],
   "source": [
    "# au lieu de faire \n",
    "# $super_heros=array();\n",
    "$super_heros[]=array('Nom', 'Ville')\n",
    "$super_heros[]=array('Batman & Robin', 'Gotham');\n",
    "$super_heros[]=array('Superman', 'Smallville');\n",
    "$super_heros[]=array('Super Dupont', 'Paris');"
   ]
  },
  {
   "cell_type": "markdown",
   "metadata": {},
   "source": [
    "- Gestion de l'écriture<br>\n",
    "Sortie vers un fichier en mode web"
   ]
  },
  {
   "cell_type": "code",
   "execution_count": null,
   "metadata": {},
   "outputs": [],
   "source": [
    "$fichier = fopen('PHP://output', 'w');\n",
    "\n",
    "foreach($super_heros as $row) {\n",
    "    fputcsv($fichier, array($row[0], $row[1]));\n",
    "}\n",
    "?>"
   ]
  },
  {
   "cell_type": "markdown",
   "metadata": {},
   "source": [
    "* Mode téléchargement\n",
    "    + curl telecharge\n",
    "    + \\> redirige la sortie standard\n",
    "    + file verifie le type\n",
    "    + cat affiche le contenu"
   ]
  },
  {
   "cell_type": "code",
   "execution_count": null,
   "metadata": {},
   "outputs": [],
   "source": [
    "curl http://localhost:8888/MeDAS/array2csv.php > ./fichier.csv\n",
    "file ./fichier.csv\n",
    "cat ./fichier.csv"
   ]
  }
 ],
 "metadata": {
  "kernelspec": {
   "display_name": "Python 3",
   "language": "python",
   "name": "python3"
  },
  "language_info": {
   "codemirror_mode": {
    "name": "ipython",
    "version": 3
   },
   "file_extension": ".py",
   "mimetype": "text/x-python",
   "name": "python",
   "nbconvert_exporter": "python",
   "pygments_lexer": "ipython3",
   "version": "3.8.1"
  }
 },
 "nbformat": 4,
 "nbformat_minor": 4
}
